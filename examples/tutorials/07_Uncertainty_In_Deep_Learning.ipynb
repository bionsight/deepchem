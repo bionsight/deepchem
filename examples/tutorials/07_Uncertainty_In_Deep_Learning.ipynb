{
  "nbformat": 4,
  "nbformat_minor": 0,
  "metadata": {
    "kernelspec": {
      "name": "python3",
      "display_name": "Python 3"
    },
    "language_info": {
      "codemirror_mode": {
        "name": "ipython",
        "version": 3
      },
      "file_extension": ".py",
      "mimetype": "text/x-python",
      "name": "python",
      "nbconvert_exporter": "python",
      "pygments_lexer": "ipython3",
      "version": "3.6.10"
    },
    "colab": {
      "name": "07_Uncertainty_In_Deep_Learning.ipynb",
      "provenance": []
    },
    "accelerator": "GPU"
  },
  "cells": [
    {
      "cell_type": "markdown",
      "metadata": {
        "id": "Gn1RVu2xkMdA",
        "colab_type": "text"
      },
      "source": [
        "# Tutorial Part 7: Uncertainty in Deep Learning\n",
        "\n",
        "A common criticism of deep learning models is that they tend to act as black boxes.  A model produces outputs, but doesn't given enough context to interpret them properly.  How reliable are the model's predictions?  Are some predictions more reliable than others?  If a model predicts a value of 5.372 for some quantity, should you assume the true value is between 5.371 and 5.373?  Or that it's between 2 and 8?  In some fields this situation might be good enough, but not in science.  For every value predicted by a model, we also want an estimate of the uncertainty in that value so we can know what conclusions to draw based on it.\n",
        "\n",
        "DeepChem makes it very easy to estimate the uncertainty of predicted outputs (at least for the models that support it—not all of them do).  Let's start by seeing an example of how to generate uncertainty estimates.  We load a dataset, create a model, train it on the training set, predict the output on the test set, and then derive some uncertainty estimates.\n",
        "\n",
        "## Colab\n",
        "\n",
        "This tutorial and the rest in this sequence are designed to be done in Google colab. If you'd like to open this notebook in colab, you can use the following link.\n",
        "\n",
        "[![Open In Colab](https://colab.research.google.com/assets/colab-badge.svg)](https://colab.research.google.com/github/deepchem/deepchem/blob/master/examples/tutorials/07_Uncertainty_In_Deep_Learning.ipynb)\n",
        "\n",
        "## Setup\n",
        "\n",
        "To run DeepChem within Colab, you'll need to run the following cell of installation commands. This will take about 5 minutes to run to completion and install your environment."
      ]
    },
    {
      "cell_type": "code",
      "metadata": {
        "id": "p0MdAUAvkMdD",
        "colab_type": "code",
        "colab": {
          "base_uri": "https://localhost:8080/",
          "height": 323
        },
        "outputId": "e73f824a-cd0b-4c73-d2e7-ef70df9e4baf"
      },
      "source": [
        "!curl -Lo conda_installer.py https://raw.githubusercontent.com/deepchem/deepchem/master/scripts/colab_install.py\n",
        "import conda_installer\n",
        "conda_installer.install()\n",
        "!/root/miniconda/bin/conda info -e"
      ],
      "execution_count": 1,
      "outputs": [
        {
          "output_type": "stream",
          "text": [
            "  % Total    % Received % Xferd  Average Speed   Time    Time     Time  Current\n",
            "                                 Dload  Upload   Total   Spent    Left  Speed\n",
            "\r  0     0    0     0    0     0      0      0 --:--:-- --:--:-- --:--:--     0\r100  3489  100  3489    0     0   7601      0 --:--:-- --:--:-- --:--:--  7601\n"
          ],
          "name": "stdout"
        },
        {
          "output_type": "stream",
          "text": [
            "add /root/miniconda/lib/python3.6/site-packages to PYTHONPATH\n",
            "python version: 3.6.9\n",
            "fetching installer from https://repo.continuum.io/miniconda/Miniconda3-latest-Linux-x86_64.sh\n",
            "done\n",
            "installing miniconda to /root/miniconda\n",
            "done\n",
            "installing rdkit, openmm, pdbfixer\n",
            "added omnia to channels\n",
            "added conda-forge to channels\n",
            "done\n",
            "conda packages installation finished!\n"
          ],
          "name": "stderr"
        },
        {
          "output_type": "stream",
          "text": [
            "# conda environments:\n",
            "#\n",
            "base                  *  /root/miniconda\n",
            "\n"
          ],
          "name": "stdout"
        }
      ]
    },
    {
      "cell_type": "code",
      "metadata": {
        "id": "hlLFgrdrAc-J",
        "colab_type": "code",
        "colab": {
          "base_uri": "https://localhost:8080/",
          "height": 361
        },
        "outputId": "16522993-056f-493e-9c62-6b74829d12d6"
      },
      "source": [
        "!pip install --pre deepchem\n",
        "import deepchem\n",
        "deepchem.__version__"
      ],
      "execution_count": 2,
      "outputs": [
        {
          "output_type": "stream",
          "text": [
            "Collecting deepchem\n",
            "\u001b[?25l  Downloading https://files.pythonhosted.org/packages/b5/d7/3ba15ec6f676ef4d93855d01e40cba75e231339e7d9ea403a2f53cabbab0/deepchem-2.4.0rc1.dev20200805054153.tar.gz (351kB)\n",
            "\r\u001b[K     |█                               | 10kB 30.5MB/s eta 0:00:01\r\u001b[K     |█▉                              | 20kB 29.2MB/s eta 0:00:01\r\u001b[K     |██▉                             | 30kB 34.6MB/s eta 0:00:01\r\u001b[K     |███▊                            | 40kB 25.0MB/s eta 0:00:01\r\u001b[K     |████▋                           | 51kB 13.9MB/s eta 0:00:01\r\u001b[K     |█████▋                          | 61kB 12.5MB/s eta 0:00:01\r\u001b[K     |██████▌                         | 71kB 12.6MB/s eta 0:00:01\r\u001b[K     |███████▌                        | 81kB 13.3MB/s eta 0:00:01\r\u001b[K     |████████▍                       | 92kB 11.8MB/s eta 0:00:01\r\u001b[K     |█████████▎                      | 102kB 12.1MB/s eta 0:00:01\r\u001b[K     |██████████▎                     | 112kB 12.1MB/s eta 0:00:01\r\u001b[K     |███████████▏                    | 122kB 12.1MB/s eta 0:00:01\r\u001b[K     |████████████▏                   | 133kB 12.1MB/s eta 0:00:01\r\u001b[K     |█████████████                   | 143kB 12.1MB/s eta 0:00:01\r\u001b[K     |██████████████                  | 153kB 12.1MB/s eta 0:00:01\r\u001b[K     |███████████████                 | 163kB 12.1MB/s eta 0:00:01\r\u001b[K     |███████████████▉                | 174kB 12.1MB/s eta 0:00:01\r\u001b[K     |████████████████▊               | 184kB 12.1MB/s eta 0:00:01\r\u001b[K     |█████████████████▊              | 194kB 12.1MB/s eta 0:00:01\r\u001b[K     |██████████████████▋             | 204kB 12.1MB/s eta 0:00:01\r\u001b[K     |███████████████████▋            | 215kB 12.1MB/s eta 0:00:01\r\u001b[K     |████████████████████▌           | 225kB 12.1MB/s eta 0:00:01\r\u001b[K     |█████████████████████▍          | 235kB 12.1MB/s eta 0:00:01\r\u001b[K     |██████████████████████▍         | 245kB 12.1MB/s eta 0:00:01\r\u001b[K     |███████████████████████▎        | 256kB 12.1MB/s eta 0:00:01\r\u001b[K     |████████████████████████▎       | 266kB 12.1MB/s eta 0:00:01\r\u001b[K     |█████████████████████████▏      | 276kB 12.1MB/s eta 0:00:01\r\u001b[K     |██████████████████████████      | 286kB 12.1MB/s eta 0:00:01\r\u001b[K     |███████████████████████████     | 296kB 12.1MB/s eta 0:00:01\r\u001b[K     |████████████████████████████    | 307kB 12.1MB/s eta 0:00:01\r\u001b[K     |█████████████████████████████   | 317kB 12.1MB/s eta 0:00:01\r\u001b[K     |█████████████████████████████▉  | 327kB 12.1MB/s eta 0:00:01\r\u001b[K     |██████████████████████████████▊ | 337kB 12.1MB/s eta 0:00:01\r\u001b[K     |███████████████████████████████▊| 348kB 12.1MB/s eta 0:00:01\r\u001b[K     |████████████████████████████████| 358kB 12.1MB/s \n",
            "\u001b[?25hRequirement already satisfied: joblib in /usr/local/lib/python3.6/dist-packages (from deepchem) (0.16.0)\n",
            "Requirement already satisfied: numpy in /usr/local/lib/python3.6/dist-packages (from deepchem) (1.18.5)\n",
            "Requirement already satisfied: pandas in /usr/local/lib/python3.6/dist-packages (from deepchem) (1.0.5)\n",
            "Requirement already satisfied: scikit-learn in /usr/local/lib/python3.6/dist-packages (from deepchem) (0.22.2.post1)\n",
            "Requirement already satisfied: scipy in /usr/local/lib/python3.6/dist-packages (from deepchem) (1.4.1)\n",
            "Requirement already satisfied: python-dateutil>=2.6.1 in /usr/local/lib/python3.6/dist-packages (from pandas->deepchem) (2.8.1)\n",
            "Requirement already satisfied: pytz>=2017.2 in /usr/local/lib/python3.6/dist-packages (from pandas->deepchem) (2018.9)\n",
            "Requirement already satisfied: six>=1.5 in /usr/local/lib/python3.6/dist-packages (from python-dateutil>=2.6.1->pandas->deepchem) (1.15.0)\n",
            "Building wheels for collected packages: deepchem\n",
            "  Building wheel for deepchem (setup.py) ... \u001b[?25l\u001b[?25hdone\n",
            "  Created wheel for deepchem: filename=deepchem-2.4.0rc1.dev20200805142609-cp36-none-any.whl size=438625 sha256=13af522c2692bdc62872b8d19d7e5d24298564c70e1b580b85995a8ad8ccbe7d\n",
            "  Stored in directory: /root/.cache/pip/wheels/41/0f/fe/5f2659dc8e26624863654100f689d8f36cae7c872d2b310394\n",
            "Successfully built deepchem\n",
            "Installing collected packages: deepchem\n",
            "Successfully installed deepchem-2.4.0rc1.dev20200805142609\n"
          ],
          "name": "stdout"
        },
        {
          "output_type": "execute_result",
          "data": {
            "application/vnd.google.colaboratory.intrinsic+json": {
              "type": "string"
            },
            "text/plain": [
              "'2.4.0-rc1.dev'"
            ]
          },
          "metadata": {
            "tags": []
          },
          "execution_count": 2
        }
      ]
    },
    {
      "cell_type": "markdown",
      "metadata": {
        "id": "BUFgitSSkMdG",
        "colab_type": "text"
      },
      "source": [
        "We'll use the SAMPL dataset from the MoleculeNet suite to run our experiments in this tutorial. Let's load up our dataset for our experiments, and then make some uncertainty predictions."
      ]
    },
    {
      "cell_type": "code",
      "metadata": {
        "id": "4mHPuoOPkMdH",
        "colab_type": "code",
        "colab": {
          "base_uri": "https://localhost:8080/",
          "height": 88
        },
        "outputId": "43685a7b-d247-4fc2-a929-015e798f9ebb"
      },
      "source": [
        "import deepchem as dc\n",
        "import numpy as np\n",
        "import matplotlib.pyplot as plot\n",
        "\n",
        "tasks, datasets, transformers = dc.molnet.load_sampl(reload=False)\n",
        "train_dataset, valid_dataset, test_dataset = datasets\n",
        "\n",
        "model = dc.models.MultitaskRegressor(len(tasks), 1024, uncertainty=True)\n",
        "model.fit(train_dataset, nb_epoch=200)\n",
        "y_pred, y_std = model.predict_uncertainty(test_dataset)"
      ],
      "execution_count": 3,
      "outputs": [
        {
          "output_type": "stream",
          "text": [
            "smiles_field is deprecated and will be removed in a future version of DeepChem. Use feature_field instead.\n",
            "/usr/local/lib/python3.6/dist-packages/deepchem/data/data_loader.py:198: FutureWarning: featurize() is deprecated and has been renamed to create_dataset(). featurize() will be removed in DeepChem 3.0\n",
            "  FutureWarning)\n"
          ],
          "name": "stderr"
        }
      ]
    },
    {
      "cell_type": "markdown",
      "metadata": {
        "id": "_DlPZsaekMdL",
        "colab_type": "text"
      },
      "source": [
        "All of this looks exactly like any other example, with just two differences.  First, we add the option `uncertainty=True` when creating the model.  This instructs it to add features to the model that are needed for estimating uncertainty.  Second, we call `predict_uncertainty()` instead of `predict()` to produce the output.  `y_pred` is the predicted outputs.  `y_std` is another array of the same shape, where each element is an estimate of the uncertainty (standard deviation) of the corresponding element in `y_pred`.  And that's all there is to it!  Simple, right?\n",
        "\n",
        "Of course, it isn't really that simple at all.  DeepChem is doing a lot of work to come up with those uncertainties.  So now let's pull back the curtain and see what is really happening.  (For the full mathematical details of calculating uncertainty, see https://arxiv.org/abs/1703.04977)\n",
        "\n",
        "To begin with, what does \"uncertainty\" mean?  Intuitively, it is a measure of how much we can trust the predictions.  More formally, we expect that the true value of whatever we are trying to predict should usually be within a few standard deviations of the predicted value.  But uncertainty comes from many sources, ranging from noisy training data to bad modelling choices, and different sources behave in different ways.  It turns out there are two fundamental types of uncertainty we need to take into account.\n",
        "\n",
        "### Aleatoric Uncertainty\n",
        "\n",
        "Consider the following graph.  It shows the best fit linear regression to a set of ten data points."
      ]
    },
    {
      "cell_type": "code",
      "metadata": {
        "id": "iLgia0GVkMdM",
        "colab_type": "code",
        "colab": {
          "base_uri": "https://localhost:8080/",
          "height": 265
        },
        "outputId": "30208f8a-d76c-43da-9030-40d7529246fe"
      },
      "source": [
        "# Generate some fake data and plot a regression line.\n",
        "x = np.linspace(0, 5, 10)\n",
        "y = 0.15*x + np.random.random(10)\n",
        "plot.scatter(x, y)\n",
        "fit = np.polyfit(x, y, 1)\n",
        "line_x = np.linspace(-1, 6, 2)\n",
        "plot.plot(line_x, np.poly1d(fit)(line_x))\n",
        "plot.show()"
      ],
      "execution_count": 4,
      "outputs": [
        {
          "output_type": "display_data",
          "data": {
            "image/png": "[encoded data removed]",
            "text/plain": [
              "<Figure size 432x288 with 1 Axes>"
            ]
          },
          "metadata": {
            "tags": [],
            "needs_background": "light"
          }
        }
      ]
    },
    {
      "cell_type": "markdown",
      "metadata": {
        "id": "7fTPkHSakMdP",
        "colab_type": "text"
      },
      "source": [
        "The line clearly does not do a great job of fitting the data.  There are many possible reasons for this.  Perhaps the measuring device used to capture the data was not very accurate.  Perhaps `y` depends on some other factor in addition to `x`, and if we knew the value of that factor for each data point we could predict `y` more accurately.  Maybe the relationship between `x` and `y` simply isn't linear, and we need a more complicated model to capture it.  Regardless of the cause, the model clearly does a poor job of predicting the training data, and we need to keep that in mind.  We cannot expect it to be any more accurate on test data than on training data.  This is known as *aleatoric uncertainty*.\n",
        "\n",
        "How can we estimate the size of this uncertainty?  By training a model to do it, of course!  At the same time it is learning to predict the outputs, it is also learning to predict how accurately each output matches the training data.  For every output of the model, we add a second output that produces the corresponding uncertainty.  Then we modify the loss function to make it learn both outputs at the same time.\n",
        "\n",
        "### Epistemic Uncertainty\n",
        "\n",
        "Now consider these three curves.  They are fit to the same data points as before, but this time we are using 10th degree polynomials."
      ]
    },
    {
      "cell_type": "code",
      "metadata": {
        "id": "hVoRaGn6kMdQ",
        "colab_type": "code",
        "colab": {
          "base_uri": "https://localhost:8080/",
          "height": 214
        },
        "outputId": "e25598cd-bcf3-4076-e7f5-43727dfa561a"
      },
      "source": [
        "plot.figure(figsize=(12, 3))\n",
        "line_x = np.linspace(0, 5, 50)\n",
        "for i in range(3):\n",
        "    plot.subplot(1, 3, i+1)\n",
        "    plot.scatter(x, y)\n",
        "    fit = np.polyfit(np.concatenate([x, [3]]), np.concatenate([y, [i]]), 10)\n",
        "    plot.plot(line_x, np.poly1d(fit)(line_x))\n",
        "plot.show()"
      ],
      "execution_count": 5,
      "outputs": [
        {
          "output_type": "display_data",
          "data": {
            "image/png": "[encoded data removed]",
            "text/plain": [
              "<Figure size 864x216 with 3 Axes>"
            ]
          },
          "metadata": {
            "tags": [],
            "needs_background": "light"
          }
        }
      ]
    },
    {
      "cell_type": "markdown",
      "metadata": {
        "id": "P_1Ag-VPkMdT",
        "colab_type": "text"
      },
      "source": [
        "Each of them perfectly interpolates the data points, yet they clearly are different models.  (In fact, there are infinitely many 10th degree polynomials that exactly interpolate any ten data points.)  They make identical predictions for the data we fit them to, but for any other value of `x` they produce different predictions.  This is called *epistemic uncertainty*.  It means the data does not fully constrain the model.  Given the training data, there are many different models we could have found, and those models make different predictions.\n",
        "\n",
        "The ideal way to measure epistemic uncertainty is to train many different models, each time using a different random seed and possibly varying hyperparameters.  Then use all of them for each input and see how much the predictions vary.  This is very expensive to do, since it involves repeating the whole training process many times.  Fortunately, we can approximate the same effect in a less expensive way: by using dropout.\n",
        "\n",
        "Recall that when you train a model with dropout, you are effectively training a huge ensemble of different models all at once.  Each training sample is evaluated with a different dropout mask, corresponding to a different random subset of the connections in the full model.  Usually we only perform dropout during training and use a single averaged mask for prediction.  But instead, let's use dropout for prediction too.  We can compute the output for lots of different dropout masks, then see how much the predictions vary.  This turns out to give a reasonable estimate of the epistemic uncertainty in the outputs.\n",
        "\n",
        "### Uncertain Uncertainty?\n",
        "\n",
        "Now we can combine the two types of uncertainty to compute an overall estimate of the error in each output:\n",
        "\n",
        "$$\\sigma_\\text{total} = \\sqrt{\\sigma_\\text{aleatoric}^2 + \\sigma_\\text{epistemic}^2}$$\n",
        "\n",
        "This is the value DeepChem reports.  But how much can you trust it?  Remember how I started this tutorial: deep learning models should not be used as black boxes.  We want to know how reliable the outputs are.  Adding uncertainty estimates does not completely eliminate the problem; it just adds a layer of indirection.  Now we have estimates of how reliable the outputs are, but no guarantees that those estimates are themselves reliable.\n",
        "\n",
        "Let's go back to the example we started with.  We trained a model on the SAMPL training set, then generated predictions and uncertainties for the test set.  Since we know the correct outputs for all the test samples, we can evaluate how well we did.  Here is a plot of the absolute error in the predicted output versus the predicted uncertainty."
      ]
    },
    {
      "cell_type": "code",
      "metadata": {
        "id": "r3jD4V4rkMdU",
        "colab_type": "code",
        "colab": {
          "base_uri": "https://localhost:8080/",
          "height": 279
        },
        "outputId": "c50122f9-e178-4f3e-ac74-760ddf338bc1"
      },
      "source": [
        "abs_error = np.abs(y_pred.flatten()-test_dataset.y.flatten())\n",
        "plot.scatter(y_std.flatten(), abs_error)\n",
        "plot.xlabel('Standard Deviation')\n",
        "plot.ylabel('Absolute Error')\n",
        "plot.show()"
      ],
      "execution_count": 6,
      "outputs": [
        {
          "output_type": "display_data",
          "data": {
            "image/png": "[encoded data removed]",
            "text/plain": [
              "<Figure size 432x288 with 1 Axes>"
            ]
          },
          "metadata": {
            "tags": [],
            "needs_background": "light"
          }
        }
      ]
    },
    {
      "cell_type": "markdown",
      "metadata": {
        "id": "rdGOqq_DkMdX",
        "colab_type": "text"
      },
      "source": [
        "The first thing we notice is that the axes have similar ranges.  The model clearly has learned the overall magnitude of errors in the predictions.  There also is clearly a correlation between the axes.  Values with larger uncertainties tend on average to have larger errors.\n",
        "\n",
        "Now let's see how well the values satisfy the expected distribution.  If the standard deviations are correct, and if the errors are normally distributed (which is certainly not guaranteed to be true!), we expect 95% of the values to be within two standard deviations, and 99% to be within three standard deviations.  Here is a histogram of errors as measured in standard deviations."
      ]
    },
    {
      "cell_type": "code",
      "metadata": {
        "scrolled": true,
        "id": "IrD6swafkMdY",
        "colab_type": "code",
        "colab": {
          "base_uri": "https://localhost:8080/",
          "height": 265
        },
        "outputId": "55d11687-7d35-4a2c-d9d7-2410cea156d1"
      },
      "source": [
        "plot.hist(abs_error/y_std.flatten(), 20)\n",
        "plot.show()"
      ],
      "execution_count": 7,
      "outputs": [
        {
          "output_type": "display_data",
          "data": {
            "image/png": "[encoded data removed]",
            "text/plain": [
              "<Figure size 432x288 with 1 Axes>"
            ]
          },
          "metadata": {
            "tags": [],
            "needs_background": "light"
          }
        }
      ]
    },
    {
      "cell_type": "markdown",
      "metadata": {
        "id": "bucmsdGSkMda",
        "colab_type": "text"
      },
      "source": [
        "Most of the values are in the expected range, but there are a handful of outliers at much larger values.  Perhaps this indicates the errors are not normally distributed, but it may also mean a few of the uncertainties are too low.  This is an important reminder: the uncertainties are just estimates, not rigorous measurements.  Most of them are pretty good, but you should not put too much confidence in any single value."
      ]
    },
    {
      "cell_type": "markdown",
      "metadata": {
        "id": "4NwKVrwCkMdb",
        "colab_type": "text"
      },
      "source": [
        "# Congratulations! Time to join the Community!\n",
        "\n",
        "Congratulations on completing this tutorial notebook! If you enjoyed working through the tutorial, and want to continue working with DeepChem, we encourage you to finish the rest of the tutorials in this series. You can also help the DeepChem community in the following ways:\n",
        "\n",
        "## Star DeepChem on GitHub\n",
        "Starring DeepChem on GitHub helps build awareness of the DeepChem project and the tools for open source drug discovery that we're trying to build.\n",
        "\n",
        "## Join the DeepChem Gitter\n",
        "The DeepChem [Gitter](https://gitter.im/deepchem/Lobby) hosts a number of scientists, developers, and enthusiasts interested in deep learning for the life sciences. Join the conversation!"
      ]
    }
  ]
}