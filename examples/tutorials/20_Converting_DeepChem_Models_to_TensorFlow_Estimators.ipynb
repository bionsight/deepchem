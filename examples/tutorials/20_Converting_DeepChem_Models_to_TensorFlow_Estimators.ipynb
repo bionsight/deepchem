{
  "nbformat": 4,
  "nbformat_minor": 0,
  "metadata": {
    "kernelspec": {
      "name": "python3",
      "display_name": "Python 3"
    },
    "language_info": {
      "codemirror_mode": {
        "name": "ipython",
        "version": 3
      },
      "file_extension": ".py",
      "mimetype": "text/x-python",
      "name": "python",
      "nbconvert_exporter": "python",
      "pygments_lexer": "ipython3",
      "version": "3.6.10"
    },
    "colab": {
      "name": "WIP_20_Converting_DeepChem_Models_to_TensorFlow_Estimators.ipynb",
      "provenance": []
    },
    "accelerator": "GPU"
  },
  "cells": [
    {
      "cell_type": "markdown",
      "metadata": {
        "id": "j6EyTq_tQXhw",
        "colab_type": "text"
      },
      "source": [
        "# Tutorial Part 20: Converting DeepChem models to TensorFlow Estimators\n",
        "\n",
        "So far, we've walked through a lot of the scientific details tied to molecular machine learning, but we haven't discussed as much how to use tools like DeepChem in production settings. This tutorial (and the last) focus more on the practical matters of how to use DeepChem in production settings.\n",
        "\n",
        "When DeepChem was first created, Tensorflow had no standard interface for datasets or models.  We created the Dataset and Model classes to fill this hole.  More recently, Tensorflow has added the `tf.data` module as a standard interface for datasets, and the `tf.estimator` module as a standard interface for models.  To enable easy interoperability with other tools, we have added features to Dataset and Model to support these new standards. Using the Estimator interface may make it easier to deply DeepChem models in production environments.\n",
        "\n",
        "This example demonstrates how to use these features.  Let's begin by loading a dataset and creating a model to analyze it.  We'll use a simple MultitaskClassifier with one hidden layer.\n",
        "\n",
        "## Colab\n",
        "\n",
        "This tutorial and the rest in this sequence are designed to be done in Google colab. If you'd like to open this notebook in colab, you can use the following link.\n",
        "\n",
        "[![Open In Colab](https://colab.research.google.com/assets/colab-badge.svg)](https://colab.research.google.com/github/deepchem/deepchem/blob/master/examples/tutorials/20_Converting_DeepChem_Models_to_TensorFlow_Estimators.ipynb)\n",
        "\n",
        "## Setup\n",
        "\n",
        "To run DeepChem within Colab, you'll need to run the following cell of installation commands. This will take about 5 minutes to run to completion and install your environment."
      ]
    },
    {
      "cell_type": "code",
      "metadata": {
        "id": "bh09-nheQXh2",
        "colab_type": "code",
        "colab": {
          "base_uri": "https://localhost:8080/",
          "height": 170
        },
        "outputId": "6acc3651-8e52-44cf-a96f-b082839d32ed"
      },
      "source": [
        "!curl -Lo conda_installer.py https://raw.githubusercontent.com/deepchem/deepchem/master/scripts/colab_install.py\n",
        "import conda_installer\n",
        "conda_installer.install()\n",
        "!/root/miniconda/bin/conda info -e"
      ],
      "execution_count": 1,
      "outputs": [
        {
          "output_type": "stream",
          "text": [
            "  % Total    % Received % Xferd  Average Speed   Time    Time     Time  Current\n",
            "                                 Dload  Upload   Total   Spent    Left  Speed\n",
            "\r  0     0    0     0    0     0      0      0 --:--:-- --:--:-- --:--:--     0\r100  3489  100  3489    0     0  28834      0 --:--:-- --:--:-- --:--:-- 28834\n"
          ],
          "name": "stdout"
        },
        {
          "output_type": "stream",
          "text": [
            "add /root/miniconda/lib/python3.6/site-packages to PYTHONPATH\n",
            "all packages is already installed\n"
          ],
          "name": "stderr"
        },
        {
          "output_type": "stream",
          "text": [
            "# conda environments:\n",
            "#\n",
            "base                  *  /root/miniconda\n",
            "\n"
          ],
          "name": "stdout"
        }
      ]
    },
    {
      "cell_type": "code",
      "metadata": {
        "id": "G44jmJkjIIB_",
        "colab_type": "code",
        "colab": {
          "base_uri": "https://localhost:8080/",
          "height": 188
        },
        "outputId": "f3595e08-dae7-49bd-9cdb-86530addfc23"
      },
      "source": [
        "!pip install --pre deepchem\n",
        "import deepchem\n",
        "deepchem.__version__"
      ],
      "execution_count": 2,
      "outputs": [
        {
          "output_type": "stream",
          "text": [
            "Requirement already satisfied: deepchem in /usr/local/lib/python3.6/dist-packages (2.4.0rc1.dev20200805145942)\n",
            "Requirement already satisfied: joblib in /usr/local/lib/python3.6/dist-packages (from deepchem) (0.16.0)\n",
            "Requirement already satisfied: scipy in /usr/local/lib/python3.6/dist-packages (from deepchem) (1.4.1)\n",
            "Requirement already satisfied: scikit-learn in /usr/local/lib/python3.6/dist-packages (from deepchem) (0.22.2.post1)\n",
            "Requirement already satisfied: numpy in /usr/local/lib/python3.6/dist-packages (from deepchem) (1.18.5)\n",
            "Requirement already satisfied: pandas in /usr/local/lib/python3.6/dist-packages (from deepchem) (1.0.5)\n",
            "Requirement already satisfied: pytz>=2017.2 in /usr/local/lib/python3.6/dist-packages (from pandas->deepchem) (2018.9)\n",
            "Requirement already satisfied: python-dateutil>=2.6.1 in /usr/local/lib/python3.6/dist-packages (from pandas->deepchem) (2.8.1)\n",
            "Requirement already satisfied: six>=1.5 in /usr/local/lib/python3.6/dist-packages (from python-dateutil>=2.6.1->pandas->deepchem) (1.15.0)\n"
          ],
          "name": "stdout"
        },
        {
          "output_type": "execute_result",
          "data": {
            "application/vnd.google.colaboratory.intrinsic+json": {
              "type": "string"
            },
            "text/plain": [
              "'2.4.0-rc1.dev'"
            ]
          },
          "metadata": {
            "tags": []
          },
          "execution_count": 2
        }
      ]
    },
    {
      "cell_type": "code",
      "metadata": {
        "id": "jM8uHD_fQXh-",
        "colab_type": "code",
        "colab": {
          "base_uri": "https://localhost:8080/",
          "height": 88
        },
        "outputId": "179faf35-3dde-4c53-e24a-8dbfa4812e7c"
      },
      "source": [
        "import deepchem as dc\n",
        "import tensorflow as tf\n",
        "import numpy as np\n",
        "\n",
        "tasks, datasets, transformers = dc.molnet.load_tox21(reload=False)\n",
        "train_dataset, valid_dataset, test_dataset = datasets\n",
        "n_tasks = len(tasks)\n",
        "n_features = train_dataset.X.shape[1]\n",
        "\n",
        "model = dc.models.MultitaskClassifier(n_tasks, n_features, layer_sizes=[1000], dropouts=0.25)"
      ],
      "execution_count": 3,
      "outputs": [
        {
          "output_type": "stream",
          "text": [
            "smiles_field is deprecated and will be removed in a future version of DeepChem. Use feature_field instead.\n",
            "/usr/local/lib/python3.6/dist-packages/deepchem/data/data_loader.py:198: FutureWarning: featurize() is deprecated and has been renamed to create_dataset(). featurize() will be removed in DeepChem 3.0\n",
            "  FutureWarning)\n"
          ],
          "name": "stderr"
        }
      ]
    },
    {
      "cell_type": "markdown",
      "metadata": {
        "id": "TuKIZtbUQXiE",
        "colab_type": "text"
      },
      "source": [
        "We want to train the model using the training set, then evaluate it on the test set.  As our evaluation metric we will use the ROC AUC, averaged over the 12 tasks included in the dataset.  First let's see how to do this with the DeepChem API."
      ]
    },
    {
      "cell_type": "code",
      "metadata": {
        "id": "-5zUpjFlQXiH",
        "colab_type": "code",
        "colab": {
          "base_uri": "https://localhost:8080/",
          "height": 238
        },
        "outputId": "d647e5fb-a00d-43aa-b32f-ddad28becbc3"
      },
      "source": [
        "model.fit(train_dataset, nb_epoch=10)\n",
        "metric = dc.metrics.Metric(dc.metrics.roc_auc_score, np.mean)\n",
        "print(model.evaluate(test_dataset, [metric]))"
      ],
      "execution_count": 4,
      "outputs": [
        {
          "output_type": "stream",
          "text": [
            "n_samples is a deprecated argument which is ignored.\n",
            "n_samples is a deprecated argument which is ignored.\n",
            "n_samples is a deprecated argument which is ignored.\n",
            "n_samples is a deprecated argument which is ignored.\n",
            "n_samples is a deprecated argument which is ignored.\n",
            "n_samples is a deprecated argument which is ignored.\n",
            "n_samples is a deprecated argument which is ignored.\n",
            "n_samples is a deprecated argument which is ignored.\n",
            "n_samples is a deprecated argument which is ignored.\n",
            "n_samples is a deprecated argument which is ignored.\n",
            "n_samples is a deprecated argument which is ignored.\n",
            "n_samples is a deprecated argument which is ignored.\n"
          ],
          "name": "stderr"
        },
        {
          "output_type": "stream",
          "text": [
            "{'mean-roc_auc_score': 0.7669682534913908}\n"
          ],
          "name": "stdout"
        }
      ]
    },
    {
      "cell_type": "markdown",
      "metadata": {
        "id": "xXcyNGQXQXiN",
        "colab_type": "text"
      },
      "source": [
        "Simple enough.  Now let's see how to do the same thing with the Tensorflow APIs.  Fair warning: this is going to take a lot more code!\n",
        "\n",
        "To begin with, Tensorflow doesn't allow a dataset to be passed directly to a model.  Instead, you need to write an \"input function\" to construct a particular set of tensors and return them in a particular format.  Fortunately, Dataset's `make_iterator()` method provides exactly the tensors we need in the form of a `tf.data.Iterator`.  This allows our input function to be very simple."
      ]
    },
    {
      "cell_type": "code",
      "metadata": {
        "id": "AjGKtwReQXiO",
        "colab_type": "code",
        "colab": {}
      },
      "source": [
        "def input_fn(dataset, epochs):\n",
        "    x, y, weights = dataset.make_iterator(batch_size=100, epochs=epochs).get_next()\n",
        "    return {'x': x, 'weights': weights}, y"
      ],
      "execution_count": 5,
      "outputs": []
    },
    {
      "cell_type": "markdown",
      "metadata": {
        "id": "s_KL9OinQXiS",
        "colab_type": "text"
      },
      "source": [
        "Next, you have to use the functions in the `tf.feature_column` module to create an object representing each feature and weight column (but curiously, *not* the label column—don't ask me why!).  These objects describe the data type and shape of each column, and give each one a name.  The names must match the keys in the dict returned by the input function."
      ]
    },
    {
      "cell_type": "code",
      "metadata": {
        "id": "57-Yl90SQXiT",
        "colab_type": "code",
        "colab": {}
      },
      "source": [
        "x_col = tf.feature_column.numeric_column('x', shape=(n_features,))\n",
        "weight_col = tf.feature_column.numeric_column('weights', shape=(n_tasks,))"
      ],
      "execution_count": 6,
      "outputs": []
    },
    {
      "cell_type": "markdown",
      "metadata": {
        "id": "weVnAymyQXid",
        "colab_type": "text"
      },
      "source": [
        "Unlike DeepChem models, which allow arbitrary metrics to be passed to `evaluate()`, estimators require all metrics to be defined up front when you create the estimator.  Unfortunately, Tensorflow doesn't have very good support for multitask models.  It provides an AUC metric, but no easy way to average this metric over tasks.  We therefore must create a separate metric for every task, then define our own metric function to compute the average of them."
      ]
    },
    {
      "cell_type": "code",
      "metadata": {
        "id": "oCckYybyQXie",
        "colab_type": "code",
        "colab": {}
      },
      "source": [
        "def mean_auc(labels, predictions, weights):\n",
        "    metric_ops = []\n",
        "    update_ops = []\n",
        "    for i in range(n_tasks):\n",
        "        metric, update = tf.metrics.auc(labels[:,i], predictions[:,i], weights[:,i])\n",
        "        metric_ops.append(metric)\n",
        "        update_ops.append(update)\n",
        "    mean_metric = tf.reduce_mean(tf.stack(metric_ops))\n",
        "    update_all = tf.group(*update_ops)\n",
        "    return mean_metric, update_all"
      ],
      "execution_count": 7,
      "outputs": []
    },
    {
      "cell_type": "markdown",
      "metadata": {
        "id": "suikbE_FQXii",
        "colab_type": "text"
      },
      "source": [
        "Now we create our `Estimator` by calling `make_estimator()` on the DeepChem model.  We provide as arguments the objects created above to represent the feature and weight columns, as well as our metric function."
      ]
    },
    {
      "cell_type": "code",
      "metadata": {
        "id": "hUR_q5ugQXij",
        "colab_type": "code",
        "colab": {}
      },
      "source": [
        "#estimator = model.make_estimator(feature_columns=[x_col],\n",
        "#                                 weight_column=weight_col,\n",
        "#                                 metrics={'mean_auc': mean_auc},\n",
        "#                                 model_dir='estimator')\n",
        "# estimator = tf.keras.estimator.model_to_estimator(model)"
      ],
      "execution_count": 8,
      "outputs": []
    },
    {
      "cell_type": "markdown",
      "metadata": {
        "id": "qxhP2VVTQXiq",
        "colab_type": "text"
      },
      "source": [
        "We are finally ready to train and evaluate it!  Notice how the input function passed to each method is actually a lambda.  This allows us to write a single function, then use it with different datasets and numbers of epochs."
      ]
    },
    {
      "cell_type": "code",
      "metadata": {
        "id": "HnzpHwgcQXis",
        "colab_type": "code",
        "colab": {}
      },
      "source": [
        "# estimator.train(input_fn=lambda: input_fn(train_dataset, 100))\n",
        "# print(estimator.evaluate(input_fn=lambda: input_fn(test_dataset, 1)))"
      ],
      "execution_count": 9,
      "outputs": []
    },
    {
      "cell_type": "markdown",
      "metadata": {
        "id": "Qai7_prqQXiw",
        "colab_type": "text"
      },
      "source": [
        "That's a lot of code for something DeepChem can do in three lines.  The Tensorflow API is verbose and somewhat confusing.  It has seemingly arbitrary limitations, like assuming a model will only ever have one output, and therefore only allowing one label.  But for better or worse, it's a standard.\n",
        "\n",
        "Of course, if you just want to use a DeepChem model with a DeepChem dataset, there is no need for any of this.  Just use the DeepChem API.  But perhaps you want to use a DeepChem dataset with a model that has been implemented as an estimator.  In that case, `Dataset.make_iterator()` allows you to easily do that.  Or perhaps you have higher level workflow code that is written to work with estimators.  In that case, `make_estimator()` allows DeepChem models to easily fit into that workflow."
      ]
    }
  ]
}