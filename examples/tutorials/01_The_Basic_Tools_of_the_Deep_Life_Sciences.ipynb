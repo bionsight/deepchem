{
  "nbformat": 4,
  "nbformat_minor": 0,
  "metadata": {
    "kernelspec": {
      "display_name": "Python 3",
      "language": "python",
      "name": "python3"
    },
    "language_info": {
      "codemirror_mode": {
        "name": "ipython",
        "version": 3
      },
      "file_extension": ".py",
      "mimetype": "text/x-python",
      "name": "python",
      "nbconvert_exporter": "python",
      "pygments_lexer": "ipython3",
      "version": "3.6.10"
    },
    "colab": {
      "name": "01_The_Basic_Tools_of_the_Deep_Life_Sciences.ipynb",
      "provenance": []
    }
  },
  "cells": [
    {
      "cell_type": "markdown",
      "metadata": {
        "id": "socSJe925zFv",
        "colab_type": "text"
      },
      "source": [
        "# Tutorial 1: The Basic Tools of the Deep Life Sciences\n",
        "Welcome to DeepChem's introductory tutorial for the deep life sciences. This series of notebooks is step-by-step guide for you to get to know the new tools and techniques needed to do deep learning for the life sciences. We'll start from the basics, assuming that you're new to machine learning and the life sciences, and build up a repertoire of tools and techniques that you can use to do meaningful work in the life sciences.\n",
        "\n",
        "**Scope:** This tutorial will encompass both the machine learning and data handling needed to build systems for the deep life sciences.\n",
        "\n",
        "## Colab\n",
        "\n",
        "This tutorial and the rest in the sequences are designed to be done in Google colab. If you'd like to open this notebook in colab, you can use the following link.\n",
        "\n",
        "[![Open In Colab](https://colab.research.google.com/assets/colab-badge.svg)](https://colab.research.google.com/github/deepchem/deepchem/blob/master/examples/tutorials/01_The_Basic_Tools_of_the_Deep_Life_Sciences.ipynb)\n",
        "\n",
        "\n",
        "## Why do the DeepChem Tutorial?\n",
        "\n",
        "**1) Career Advancement:** Applying AI in the life sciences is a booming\n",
        "industry at present. There are a host of newly funded startups and initiatives\n",
        "at large pharmaceutical and biotech companies centered around AI. Learning and\n",
        "mastering DeepChem will bring you to the forefront of this field and will\n",
        "prepare you to enter a career in this field.\n",
        "\n",
        "**2) Humanitarian Considerations:** Disease is the oldest cause of human\n",
        "suffering. From the dawn of human civilization, humans have suffered from pathogens,\n",
        "cancers, and neurological conditions. One of the greatest achievements of\n",
        "the last few centuries has been the development of effective treatments for\n",
        "many diseases. By mastering the skills in this tutorial, you will be able to\n",
        "stand on the shoulders of the giants of the past to help develop new\n",
        "medicine.\n",
        "\n",
        "**3) Lowering the Cost of Medicine:** The art of developing new medicine is\n",
        "currently an elite skill that can only be practiced by a small core of expert\n",
        "practitioners. By enabling the growth of open source tools for drug discovery,\n",
        "you can help democratize these skills and open up drug discovery to more\n",
        "competition. Increased competition can help drive down the cost of medicine.\n",
        "\n",
        "## Getting Extra Credit\n",
        "If you're excited about DeepChem and want to get more more involved, there's a couple of things that you can do right now:\n",
        "\n",
        "* Star DeepChem on GitHub! - https://github.com/deepchem/deepchem\n",
        "* Join the DeepChem forums and introduce yourself! - https://forum.deepchem.io\n",
        "* Say hi on the DeepChem gitter - https://gitter.im/deepchem/Lobby\n",
        "* Make a YouTube video teaching the contents of this notebook.\n",
        "\n",
        "\n",
        "## Prerequisites\n",
        "\n",
        "This tutorial will assume some basic familiarity with the Python data science ecosystem. We will assume that you have familiarity with libraries such as Numpy, Pandas, and TensorFlow. We'll provide some brief refreshers on basics through the tutorial so don't worry if you're not an expert.\n",
        "\n",
        "## Setup\n",
        "\n",
        "The first step is to get DeepChem up and running. We recommend using Google Colab to work through this tutorial series. You'll need to run the following commands to get DeepChem installed on your colab notebook. Note that this will take something like 5 minutes to run on your colab instance."
      ]
    },
    {
      "cell_type": "code",
      "metadata": {
        "id": "OyxRVW5X5zF0",
        "colab_type": "code",
        "outputId": "a28f18b1-f694-4934-9858-7d4d1c72e56d",
        "colab": {
          "base_uri": "https://localhost:8080/",
          "height": 462
        }
      },
      "source": [
        "%tensorflow_version 1.x\n",
        "!curl -Lo deepchem_installer.py https://raw.githubusercontent.com/deepchem/deepchem/master/scripts/colab_install.py\n",
        "import deepchem_installer\n",
        "%time deepchem_installer.install(version='2.3.0')"
      ],
      "execution_count": 1,
      "outputs": [
        {
          "output_type": "stream",
          "text": [
            "TensorFlow 1.x selected.\n",
            "  % Total    % Received % Xferd  Average Speed   Time    Time     Time  Current\n",
            "                                 Dload  Upload   Total   Spent    Left  Speed\n",
            "100  3477  100  3477    0     0  19644      0 --:--:-- --:--:-- --:--:-- 19644\n"
          ],
          "name": "stdout"
        },
        {
          "output_type": "stream",
          "text": [
            "add /root/miniconda/lib/python3.6/site-packages to PYTHONPATH\n",
            "python version: 3.6.9\n",
            "fetching installer from https://repo.continuum.io/miniconda/Miniconda3-latest-Linux-x86_64.sh\n",
            "done\n",
            "installing miniconda to /root/miniconda\n",
            "done\n",
            "installing deepchem\n",
            "done\n",
            "/usr/local/lib/python3.6/dist-packages/sklearn/externals/joblib/__init__.py:15: FutureWarning: sklearn.externals.joblib is deprecated in 0.21 and will be removed in 0.23. Please import this functionality directly from joblib, which can be installed with: pip install joblib. If this warning is raised when loading pickled models, you may need to re-serialize those models with scikit-learn 0.21+.\n",
            "  warnings.warn(msg, category=FutureWarning)\n"
          ],
          "name": "stderr"
        },
        {
          "output_type": "stream",
          "text": [
            "WARNING:tensorflow:\n",
            "The TensorFlow contrib module will not be included in TensorFlow 2.0.\n",
            "For more information, please see:\n",
            "  * https://github.com/tensorflow/community/blob/master/rfcs/20180907-contrib-sunset.md\n",
            "  * https://github.com/tensorflow/addons\n",
            "  * https://github.com/tensorflow/io (for I/O related ops)\n",
            "If you depend on functionality not listed there, please file an issue.\n",
            "\n"
          ],
          "name": "stdout"
        },
        {
          "output_type": "stream",
          "text": [
            "deepchem-2.3.0 installation finished!\n"
          ],
          "name": "stderr"
        },
        {
          "output_type": "stream",
          "text": [
            "CPU times: user 3.15 s, sys: 662 ms, total: 3.81 s\n",
            "Wall time: 2min 22s\n"
          ],
          "name": "stdout"
        }
      ]
    },
    {
      "cell_type": "markdown",
      "metadata": {
        "id": "Jk47QTZ95zF-",
        "colab_type": "text"
      },
      "source": [
        "You can of course run this tutorial locally if you prefer. In this case, don't run the above cell since it will download and install Anaconda on your local machine. In either case, we can now import `deepchem` the package to play with."
      ]
    },
    {
      "cell_type": "code",
      "metadata": {
        "id": "PDiY03h35zF_",
        "colab_type": "code",
        "colab": {}
      },
      "source": [
        "# Run this cell to see if things work\n",
        "import deepchem as dc"
      ],
      "execution_count": 0,
      "outputs": []
    },
    {
      "cell_type": "markdown",
      "metadata": {
        "id": "B0u7qIZd5zGG",
        "colab_type": "text"
      },
      "source": [
        "# Basic Data Handling in DeepChem\n",
        "What does it take to do deep learning on the life sciences? Well, the first thing we'll need to do is actually handle some data. How can we start handling some basic data? For beginners, let's just take a look at some synthetic data.\n",
        "\n",
        "To generate some basic synthetic data, we will use Numpy to create some basic arrays."
      ]
    },
    {
      "cell_type": "code",
      "metadata": {
        "id": "saTaOpXY5zGI",
        "colab_type": "code",
        "colab": {}
      },
      "source": [
        "import numpy as np\n",
        "\n",
        "data = np.random.random((4, 4))\n",
        "labels = np.random.random((4,)) # labels of size 20x1"
      ],
      "execution_count": 0,
      "outputs": []
    },
    {
      "cell_type": "markdown",
      "metadata": {
        "id": "F922OPtL5zGM",
        "colab_type": "text"
      },
      "source": [
        "We've given these arrays some evocative names: \"data\" and \"labels.\" For now, don't worry too much about the names, but just note that the arrays have different shapes. Let's take a quick look to get a feeling for these arrays"
      ]
    },
    {
      "cell_type": "code",
      "metadata": {
        "id": "YEDcUsz35zGO",
        "colab_type": "code",
        "outputId": "fc261c64-6878-4865-ac00-a37660d597e1",
        "colab": {
          "base_uri": "https://localhost:8080/",
          "height": 102
        }
      },
      "source": [
        "data, labels"
      ],
      "execution_count": 4,
      "outputs": [
        {
          "output_type": "execute_result",
          "data": {
            "text/plain": [
              "(array([[0.19330935, 0.11190623, 0.44660479, 0.82294167],\n",
              "        [0.23733282, 0.20134574, 0.42438331, 0.7899084 ],\n",
              "        [0.47503811, 0.95041665, 0.02520914, 0.8065749 ],\n",
              "        [0.31487199, 0.12439971, 0.77241039, 0.27010706]]),\n",
              " array([0.00428323, 0.82485774, 0.99352178, 0.47443043]))"
            ]
          },
          "metadata": {
            "tags": []
          },
          "execution_count": 4
        }
      ]
    },
    {
      "cell_type": "markdown",
      "metadata": {
        "id": "E8UCFrrN5zGf",
        "colab_type": "text"
      },
      "source": [
        "In order to be able to work with this data in DeepChem, we need to wrap these arrays so DeepChem knows how to work with them. DeepChem has a `Dataset` API that it uses to facilitate its handling of datasets. For handling of Numpy datasets, we use DeepChem's `NumpyDataset` object."
      ]
    },
    {
      "cell_type": "code",
      "metadata": {
        "id": "e5K3rdGV5zGg",
        "colab_type": "code",
        "colab": {}
      },
      "source": [
        "from deepchem.data.datasets import NumpyDataset\n",
        "\n",
        "dataset = NumpyDataset(data, labels)"
      ],
      "execution_count": 0,
      "outputs": []
    },
    {
      "cell_type": "markdown",
      "metadata": {
        "id": "_Zcd7jTd5zGr",
        "colab_type": "text"
      },
      "source": [
        "Ok, now what? We have these arrays in a `NumpyDataset` object. What can we do with it? Let's try printing out the object."
      ]
    },
    {
      "cell_type": "code",
      "metadata": {
        "id": "LJc90fs_5zGs",
        "colab_type": "code",
        "outputId": "838fc846-fceb-4955-af30-470bb6521349",
        "colab": {
          "base_uri": "https://localhost:8080/",
          "height": 34
        }
      },
      "source": [
        "dataset"
      ],
      "execution_count": 6,
      "outputs": [
        {
          "output_type": "execute_result",
          "data": {
            "text/plain": [
              "<deepchem.data.datasets.NumpyDataset at 0x7f0c85883ba8>"
            ]
          },
          "metadata": {
            "tags": []
          },
          "execution_count": 6
        }
      ]
    },
    {
      "cell_type": "markdown",
      "metadata": {
        "id": "aQa88cbj5zGw",
        "colab_type": "text"
      },
      "source": [
        "Ok, that's not terribly informative. It's telling us that `dataset` is a Python object that lives somewhere in memory. Can we recover the two datasets that we used to construct this object? Luckily, the DeepChem API allows us to recover the two original datasets by calling the `dataset.X` and `dataset.y` attributes of the original object."
      ]
    },
    {
      "cell_type": "code",
      "metadata": {
        "id": "HSVqeYox5zGx",
        "colab_type": "code",
        "outputId": "09364c0b-426f-4d4d-a4b2-b77d6daf7c9d",
        "colab": {
          "base_uri": "https://localhost:8080/",
          "height": 102
        }
      },
      "source": [
        "dataset.X, dataset.y"
      ],
      "execution_count": 7,
      "outputs": [
        {
          "output_type": "execute_result",
          "data": {
            "text/plain": [
              "(array([[0.19330935, 0.11190623, 0.44660479, 0.82294167],\n",
              "        [0.23733282, 0.20134574, 0.42438331, 0.7899084 ],\n",
              "        [0.47503811, 0.95041665, 0.02520914, 0.8065749 ],\n",
              "        [0.31487199, 0.12439971, 0.77241039, 0.27010706]]),\n",
              " array([0.00428323, 0.82485774, 0.99352178, 0.47443043]))"
            ]
          },
          "metadata": {
            "tags": []
          },
          "execution_count": 7
        }
      ]
    },
    {
      "cell_type": "markdown",
      "metadata": {
        "id": "WBmRfo7D5zG9",
        "colab_type": "text"
      },
      "source": [
        "This set of transformations raises a few questions. First, what was the point of it all? Why would we want to wrap objects this way instead of working with the raw Numpy arrays? The simple answer is for have a unified API for working with larger datasets. Suppose that `X` and `y` are so large that they can't fit easily into memory. What would we do then? Being able to work with an abstract `dataset` object proves very convenient then. In fact, you'll have reason to use this feature of `Dataset` later in the tutorial series.\n",
        "\n",
        "What else can we do with the `dataset` object? It turns out that it can be useful to be able to walk through the datapoints in the `dataset` one at a time. For that, we can use the `dataset.itersamples()` method."
      ]
    },
    {
      "cell_type": "code",
      "metadata": {
        "id": "k_8IONOw5zHC",
        "colab_type": "code",
        "outputId": "cd5449b2-1224-4b85-e54b-d5d4fac18878",
        "colab": {
          "base_uri": "https://localhost:8080/",
          "height": 85
        }
      },
      "source": [
        "for x, y, _, _ in dataset.itersamples():\n",
        "    print(x, y)"
      ],
      "execution_count": 8,
      "outputs": [
        {
          "output_type": "stream",
          "text": [
            "[0.19330935 0.11190623 0.44660479 0.82294167] 0.004283228755889379\n",
            "[0.23733282 0.20134574 0.42438331 0.7899084 ] 0.8248577426415518\n",
            "[0.47503811 0.95041665 0.02520914 0.8065749 ] 0.9935217763676747\n",
            "[0.31487199 0.12439971 0.77241039 0.27010706] 0.4744304292698883\n"
          ],
          "name": "stdout"
        }
      ]
    },
    {
      "cell_type": "markdown",
      "metadata": {
        "id": "0vU34w_e5zHH",
        "colab_type": "text"
      },
      "source": [
        "There are a couple of other fields that the `dataset` object tracks. The first is `dataset.ids`. This is a listing of unique identifiers for the datapoitns in the dataset."
      ]
    },
    {
      "cell_type": "code",
      "metadata": {
        "id": "1fDXCKv_5zHI",
        "colab_type": "code",
        "outputId": "f28f717f-5869-4f7d-e9d8-8e8518f838ce",
        "colab": {
          "base_uri": "https://localhost:8080/",
          "height": 34
        }
      },
      "source": [
        "dataset.ids"
      ],
      "execution_count": 9,
      "outputs": [
        {
          "output_type": "execute_result",
          "data": {
            "text/plain": [
              "array([0, 1, 2, 3], dtype=object)"
            ]
          },
          "metadata": {
            "tags": []
          },
          "execution_count": 9
        }
      ]
    },
    {
      "cell_type": "markdown",
      "metadata": {
        "id": "qkbLR05r5zHQ",
        "colab_type": "text"
      },
      "source": [
        "In addition, the `dataset` object has a field `dataset.w`. This is the \"example weight\" associated with each datapoint. Since we haven't explicitly assigned the weights, this is simply going to be all ones."
      ]
    },
    {
      "cell_type": "code",
      "metadata": {
        "id": "uffH-1EI5zHR",
        "colab_type": "code",
        "outputId": "62728283-37d7-42d5-d568-94186c23606e",
        "colab": {
          "base_uri": "https://localhost:8080/",
          "height": 34
        }
      },
      "source": [
        "dataset.w"
      ],
      "execution_count": 10,
      "outputs": [
        {
          "output_type": "execute_result",
          "data": {
            "text/plain": [
              "array([1., 1., 1., 1.], dtype=float32)"
            ]
          },
          "metadata": {
            "tags": []
          },
          "execution_count": 10
        }
      ]
    },
    {
      "cell_type": "markdown",
      "metadata": {
        "id": "XHVs99Jh5zHU",
        "colab_type": "text"
      },
      "source": [
        "What if we want to set nontrivial weights for a dataset? One time we might want to do this is if we have a dataset where there are only a few positive examples to play with. It's pretty straightforward to do this with DeepChem."
      ]
    },
    {
      "cell_type": "code",
      "metadata": {
        "id": "JHiBOSJB5zHV",
        "colab_type": "code",
        "outputId": "1ca16108-8e41-40d7-d28d-6376c19f6246",
        "colab": {
          "base_uri": "https://localhost:8080/",
          "height": 34
        }
      },
      "source": [
        "w = np.random.random((4,)) # initializing weights with random vector of size 4x1\n",
        "dataset_with_weights = NumpyDataset(data, labels, w) # creates numpy dataset object\n",
        "dataset_with_weights.w"
      ],
      "execution_count": 11,
      "outputs": [
        {
          "output_type": "execute_result",
          "data": {
            "text/plain": [
              "array([0.20590244, 0.60422512, 0.84054797, 0.60248335])"
            ]
          },
          "metadata": {
            "tags": []
          },
          "execution_count": 11
        }
      ]
    },
    {
      "cell_type": "markdown",
      "metadata": {
        "id": "LLjtnas35zHk",
        "colab_type": "text"
      },
      "source": [
        "## MNIST Example\n",
        "\n",
        "Just to get a better understanding, we'll use the venerable MNIST dataset and use `NumpyDataset` to store the data. We're going to make use of the `tensorflow-datasets` package to facilitate our data reading. You'll need to install this package in order to make use of it. "
      ]
    },
    {
      "cell_type": "code",
      "metadata": {
        "id": "BQSEHyoW5zHn",
        "colab_type": "code",
        "colab": {}
      },
      "source": [
        "# Install tensorflow-datasets\n",
        "## TODO(rbharath): Switch to stable version on release\n",
        "# TODO(rbharath): This only works on TF2. Uncomment once we've upgraded.\n",
        "#!pip install -q --upgrade tfds-nightly tf-nightly"
      ],
      "execution_count": 0,
      "outputs": []
    },
    {
      "cell_type": "code",
      "metadata": {
        "id": "s4qRvErO5zHx",
        "colab_type": "code",
        "colab": {}
      },
      "source": [
        "# TODO(rbharath): This cell will only work with TF2 installed. Swap to this as default soon.\n",
        "\n",
        "#import tensorflow_datasets as tfds\n",
        "\n",
        "#data_dir = '/tmp/tfds'\n",
        "\n",
        "## Fetch full datasets for evaluation\n",
        "# tfds.load returns tf.Tensors (or tf.data.Datasets if batch_size != -1)\n",
        "# You can convert them to NumPy arrays (or iterables of NumPy arrays) with tfds.dataset_as_numpy\n",
        "#mnist_data, info = tfds.load(name=\"mnist\", batch_size=-1, data_dir=data_dir, with_info=True)\n",
        "#mnist_data = tfds.as_numpy(mnist_data)\n",
        "#train_data, test_data = mnist_data['train'], mnist_data['test']\n",
        "#num_labels = info.features['label'].num_classes\n",
        "#h, w, c = info.features['image'].shape\n",
        "#num_pixels = h * w * c\n",
        "\n",
        "## Full train set\n",
        "#train_images, train_labels = train_data['image'], train_data['label']\n",
        "#train_images = np.reshape(train_images, (len(train_images), num_pixels))\n",
        "#train_labels = one_hot(train_labels, num_labels)\n",
        "\n",
        "## Full test set\n",
        "#test_images, test_labels = test_data['image'], test_data['label']\n",
        "#test_images = np.reshape(test_images, (len(test_images), num_pixels))\n",
        "#test_labels = one_hot(test_labels, num_labels)"
      ],
      "execution_count": 0,
      "outputs": []
    },
    {
      "cell_type": "code",
      "metadata": {
        "id": "lPTLNO6n5zH7",
        "colab_type": "code",
        "outputId": "ba6b7a8f-80a4-46cc-b8cb-ef0abe259f90",
        "colab": {
          "base_uri": "https://localhost:8080/",
          "height": 0
        }
      },
      "source": [
        "from tensorflow.examples.tutorials.mnist import input_data\n",
        "\n",
        "mnist = input_data.read_data_sets(\"MNIST_data/\", one_hot=True)\n",
        "# Load the numpy data of MNIST into NumpyDataset\n",
        "train = NumpyDataset(mnist.train.images, mnist.train.labels)\n",
        "valid = NumpyDataset(mnist.validation.images, mnist.validation.labels)"
      ],
      "execution_count": 14,
      "outputs": [
        {
          "output_type": "stream",
          "text": [
            "WARNING:tensorflow:From <ipython-input-14-7ea47016376a>:3: read_data_sets (from tensorflow.contrib.learn.python.learn.datasets.mnist) is deprecated and will be removed in a future version.\n",
            "Instructions for updating:\n",
            "Please use alternatives such as official/mnist/dataset.py from tensorflow/models.\n",
            "WARNING:tensorflow:From /tensorflow-1.15.2/python3.6/tensorflow_core/contrib/learn/python/learn/datasets/mnist.py:260: maybe_download (from tensorflow.contrib.learn.python.learn.datasets.base) is deprecated and will be removed in a future version.\n",
            "Instructions for updating:\n",
            "Please write your own downloading logic.\n",
            "WARNING:tensorflow:From /tensorflow-1.15.2/python3.6/tensorflow_core/contrib/learn/python/learn/datasets/base.py:252: _internal_retry.<locals>.wrap.<locals>.wrapped_fn (from tensorflow.contrib.learn.python.learn.datasets.base) is deprecated and will be removed in a future version.\n",
            "Instructions for updating:\n",
            "Please use urllib or similar directly.\n",
            "Successfully downloaded train-images-idx3-ubyte.gz 9912422 bytes.\n",
            "WARNING:tensorflow:From /tensorflow-1.15.2/python3.6/tensorflow_core/contrib/learn/python/learn/datasets/mnist.py:262: extract_images (from tensorflow.contrib.learn.python.learn.datasets.mnist) is deprecated and will be removed in a future version.\n",
            "Instructions for updating:\n",
            "Please use tf.data to implement this functionality.\n",
            "Extracting MNIST_data/train-images-idx3-ubyte.gz\n",
            "Successfully downloaded train-labels-idx1-ubyte.gz 28881 bytes.\n",
            "WARNING:tensorflow:From /tensorflow-1.15.2/python3.6/tensorflow_core/contrib/learn/python/learn/datasets/mnist.py:267: extract_labels (from tensorflow.contrib.learn.python.learn.datasets.mnist) is deprecated and will be removed in a future version.\n",
            "Instructions for updating:\n",
            "Please use tf.data to implement this functionality.\n",
            "Extracting MNIST_data/train-labels-idx1-ubyte.gz\n",
            "WARNING:tensorflow:From /tensorflow-1.15.2/python3.6/tensorflow_core/contrib/learn/python/learn/datasets/mnist.py:110: dense_to_one_hot (from tensorflow.contrib.learn.python.learn.datasets.mnist) is deprecated and will be removed in a future version.\n",
            "Instructions for updating:\n",
            "Please use tf.one_hot on tensors.\n",
            "Successfully downloaded t10k-images-idx3-ubyte.gz 1648877 bytes.\n",
            "Extracting MNIST_data/t10k-images-idx3-ubyte.gz\n",
            "Successfully downloaded t10k-labels-idx1-ubyte.gz 4542 bytes.\n",
            "Extracting MNIST_data/t10k-labels-idx1-ubyte.gz\n",
            "WARNING:tensorflow:From /tensorflow-1.15.2/python3.6/tensorflow_core/contrib/learn/python/learn/datasets/mnist.py:290: DataSet.__init__ (from tensorflow.contrib.learn.python.learn.datasets.mnist) is deprecated and will be removed in a future version.\n",
            "Instructions for updating:\n",
            "Please use alternatives such as official/mnist/dataset.py from tensorflow/models.\n"
          ],
          "name": "stdout"
        }
      ]
    },
    {
      "cell_type": "markdown",
      "metadata": {
        "id": "vqOZyOsy5zH-",
        "colab_type": "text"
      },
      "source": [
        "Let's take a look at some of the data we've loaded so we can visualize our samples."
      ]
    },
    {
      "cell_type": "code",
      "metadata": {
        "id": "MgAfsAdn5zH_",
        "colab_type": "code",
        "outputId": "5166a371-5bc2-421c-ffa6-99b54a1786a4",
        "colab": {
          "base_uri": "https://localhost:8080/",
          "height": 0
        }
      },
      "source": [
        "import matplotlib.pyplot as plt\n",
        "\n",
        "# Visualize one sample \n",
        "sample = np.reshape(train.X[5], (28, 28))\n",
        "plt.imshow(sample)\n",
        "plt.show()"
      ],
      "execution_count": 15,
      "outputs": [
        {
          "output_type": "display_data",
          "data": {
            "image/png": "[encoded data removed]",
            "text/plain": [
              "<Figure size 432x288 with 1 Axes>"
            ]
          },
          "metadata": {
            "tags": [],
            "needs_background": "light"
          }
        }
      ]
    },
    {
      "cell_type": "markdown",
      "metadata": {
        "id": "EDfwAaNh5zIM",
        "colab_type": "text"
      },
      "source": [
        "## Converting a Numpy Array to tf.data.dataset()\n",
        "\n",
        "\n",
        "Let's say you want to use the `tf.data` module instead of DeepChem's data handling library. Doing this is straightforward and is quite similar to getting a `NumpyDataset` object from numpy arrays."
      ]
    },
    {
      "cell_type": "code",
      "metadata": {
        "id": "lhbV376Z5zIN",
        "colab_type": "code",
        "outputId": "78497237-dab2-4fda-9906-49ab7934cca9",
        "colab": {
          "base_uri": "https://localhost:8080/",
          "height": 0
        }
      },
      "source": [
        "import tensorflow as tf\n",
        "data_small = np.random.random((4,5))\n",
        "label_small = np.random.random((4,))\n",
        "dataset = tf.data.Dataset.from_tensor_slices((data_small, label_small))\n",
        "print (\"Data\\n\")\n",
        "print (data_small)\n",
        "print (\"\\n Labels\")\n",
        "print (label_small)"
      ],
      "execution_count": 16,
      "outputs": [
        {
          "output_type": "stream",
          "text": [
            "Data\n",
            "\n",
            "[[0.13069116 0.11472656 0.2155923  0.9727515  0.21519239]\n",
            " [0.66106298 0.35152465 0.73548336 0.24584364 0.15193656]\n",
            " [0.96722837 0.97295284 0.87249717 0.67836399 0.95312763]\n",
            " [0.8326375  0.87615737 0.06231603 0.79597528 0.9668341 ]]\n",
            "\n",
            " Labels\n",
            "[0.45182705 0.03122323 0.41106018 0.35049048]\n"
          ],
          "name": "stdout"
        }
      ]
    },
    {
      "cell_type": "markdown",
      "metadata": {
        "id": "aPGKoCv05zIY",
        "colab_type": "text"
      },
      "source": [
        "## Extracting the numpy dataset from tf.data\n",
        "\n",
        "In order to extract the numpy array from the `tf.data`, you first need to define an `iterator` to iterate over the `tf.data.Dataset` object and then in the tensorflow session, run over the iterator to get the data instances. Let's have a look at how it's done."
      ]
    },
    {
      "cell_type": "code",
      "metadata": {
        "id": "e5L_u7YC5zIa",
        "colab_type": "code",
        "outputId": "ef831135-6245-46c9-f97b-a75ecc67f509",
        "colab": {
          "base_uri": "https://localhost:8080/",
          "height": 0
        }
      },
      "source": [
        "iterator = dataset.make_one_shot_iterator() # iterator\n",
        "next_element = iterator.get_next()\n",
        "numpy_data = np.zeros((4, 5))\n",
        "numpy_label = np.zeros((4,))\n",
        "sess = tf.Session() # tensorflow session \n",
        "for i in range(4):\n",
        "    data_, label_ = sess.run(next_element) # data_ contains the data and label_ contains the labels that we fed in the previous step\n",
        "    numpy_data[i, :] = data_\n",
        "    numpy_label[i] = label_\n",
        "    \n",
        "print (\"Numpy Data\")\n",
        "print(numpy_data)\n",
        "print (\"\\n Numpy Label\")\n",
        "print(numpy_label)"
      ],
      "execution_count": 17,
      "outputs": [
        {
          "output_type": "stream",
          "text": [
            "WARNING:tensorflow:From <ipython-input-17-f67e6d094179>:1: DatasetV1.make_one_shot_iterator (from tensorflow.python.data.ops.dataset_ops) is deprecated and will be removed in a future version.\n",
            "Instructions for updating:\n",
            "Use `for ... in dataset:` to iterate over a dataset. If using `tf.estimator`, return the `Dataset` object directly from your input function. As a last resort, you can use `tf.compat.v1.data.make_one_shot_iterator(dataset)`.\n",
            "Numpy Data\n",
            "[[0.13069116 0.11472656 0.2155923  0.9727515  0.21519239]\n",
            " [0.66106298 0.35152465 0.73548336 0.24584364 0.15193656]\n",
            " [0.96722837 0.97295284 0.87249717 0.67836399 0.95312763]\n",
            " [0.8326375  0.87615737 0.06231603 0.79597528 0.9668341 ]]\n",
            "\n",
            " Numpy Label\n",
            "[0.45182705 0.03122323 0.41106018 0.35049048]\n"
          ],
          "name": "stdout"
        }
      ]
    },
    {
      "cell_type": "markdown",
      "metadata": {
        "id": "6_IMrMth5zIh",
        "colab_type": "text"
      },
      "source": [
        "Now that you have the numpy arrays of `data` and `labels`, you can convert it to `NumpyDataset`."
      ]
    },
    {
      "cell_type": "code",
      "metadata": {
        "id": "c5DV_aLj5zIo",
        "colab_type": "code",
        "outputId": "ebced79c-4ed7-47d3-cd2d-bc72efb39f93",
        "colab": {
          "base_uri": "https://localhost:8080/",
          "height": 0
        }
      },
      "source": [
        "dataset_ = NumpyDataset(numpy_data, numpy_label) # convert to NumpyDataset\n",
        "dataset_.X  # printing just to check if the data is same!!"
      ],
      "execution_count": 18,
      "outputs": [
        {
          "output_type": "execute_result",
          "data": {
            "text/plain": [
              "array([[0.13069116, 0.11472656, 0.2155923 , 0.9727515 , 0.21519239],\n",
              "       [0.66106298, 0.35152465, 0.73548336, 0.24584364, 0.15193656],\n",
              "       [0.96722837, 0.97295284, 0.87249717, 0.67836399, 0.95312763],\n",
              "       [0.8326375 , 0.87615737, 0.06231603, 0.79597528, 0.9668341 ]])"
            ]
          },
          "metadata": {
            "tags": []
          },
          "execution_count": 18
        }
      ]
    },
    {
      "cell_type": "markdown",
      "metadata": {
        "id": "ltQfj-9n5zI_",
        "colab_type": "text"
      },
      "source": [
        "## Converting NumpyDataset to `tf.data`\n",
        "\n",
        "This can be easily done by the `make_iterator()` method of `NumpyDataset`. This converts the `NumpyDataset` to `tf.data`. Let's look how it's done!"
      ]
    },
    {
      "cell_type": "code",
      "metadata": {
        "id": "hVy39LEe5zJA",
        "colab_type": "code",
        "outputId": "2722f7d4-623b-45a0-e059-ce0abb8a3254",
        "colab": {
          "base_uri": "https://localhost:8080/",
          "height": 0
        }
      },
      "source": [
        "iterator_ = dataset_.make_iterator() # Using make_iterator for converting NumpyDataset to tf.data\n",
        "next_element_ = iterator_.get_next()\n",
        "\n",
        "sess = tf.Session() # tensorflow session \n",
        "data_and_labels = sess.run(next_element_) # data_ contains the data and label_ contains the labels that we fed in the previous step\n",
        "\n",
        "\n",
        "print (\"Numpy Data\")\n",
        "print(data_and_labels[0])  # Data in the first index \n",
        "print (\"\\n Numpy Label\")\n",
        "print(data_and_labels[1])  # Labels in the second index"
      ],
      "execution_count": 19,
      "outputs": [
        {
          "output_type": "stream",
          "text": [
            "Numpy Data\n",
            "[[0.66106298 0.35152465 0.73548336 0.24584364 0.15193656]\n",
            " [0.96722837 0.97295284 0.87249717 0.67836399 0.95312763]\n",
            " [0.8326375  0.87615737 0.06231603 0.79597528 0.9668341 ]\n",
            " [0.13069116 0.11472656 0.2155923  0.9727515  0.21519239]]\n",
            "\n",
            " Numpy Label\n",
            "[0.03122323 0.41106018 0.35049048 0.45182705]\n"
          ],
          "name": "stdout"
        }
      ]
    },
    {
      "cell_type": "markdown",
      "metadata": {
        "id": "PNoeh7sG5zJP",
        "colab_type": "text"
      },
      "source": [
        "# Using Splitters to split DeepChem Datasets\n",
        "\n",
        "In this section we will have a look at the various splitters that are present in deepchem library and how each of them can be used.\n",
        "\n",
        "### Index Splitter\n",
        "\n",
        "We start with the IndexSplitter. This splitter returns a range object which contains the split according to the fractions provided by the user. The three range objects can then be used to iterate over the dataset as test,valid and Train.\n",
        "\n",
        "Each of the splitters that will be used has two functions inherited from the main class that are `train_test_split` which can be used to split the data into training and tesing data and the other fucnction is `train_valid_test_split` which is used to split the data to train, validation and test split.\n",
        "\n",
        "Note: All the splitters have a default percentage of 80,10,10 as train, valid and test respectively. But can be changed by specifying the `frac_train`,`frac_test` and `frac_valid` in the ratio we want to split the data."
      ]
    },
    {
      "cell_type": "code",
      "metadata": {
        "id": "I-MBPtBX5zJU",
        "colab_type": "code",
        "outputId": "2dbe02ca-b88d-4ad2-8ee8-fbd9f540ba85",
        "colab": {
          "base_uri": "https://localhost:8080/",
          "height": 204
        }
      },
      "source": [
        "!wget https://raw.githubusercontent.com/deepchem/deepchem/master/deepchem/models/tests/example.csv"
      ],
      "execution_count": 20,
      "outputs": [
        {
          "output_type": "stream",
          "text": [
            "--2020-06-12 03:06:22--  https://raw.githubusercontent.com/deepchem/deepchem/master/deepchem/models/tests/example.csv\n",
            "Resolving raw.githubusercontent.com (raw.githubusercontent.com)... 151.101.0.133, 151.101.64.133, 151.101.128.133, ...\n",
            "Connecting to raw.githubusercontent.com (raw.githubusercontent.com)|151.101.0.133|:443... connected.\n",
            "HTTP request sent, awaiting response... 200 OK\n",
            "Length: 568 [text/plain]\n",
            "Saving to: ‘example.csv’\n",
            "\n",
            "\rexample.csv           0%[                    ]       0  --.-KB/s               \rexample.csv         100%[===================>]     568  --.-KB/s    in 0s      \n",
            "\n",
            "2020-06-12 03:06:22 (28.8 MB/s) - ‘example.csv’ saved [568/568]\n",
            "\n"
          ],
          "name": "stdout"
        }
      ]
    },
    {
      "cell_type": "code",
      "metadata": {
        "id": "bs1xIWzo5zJe",
        "colab_type": "code",
        "colab": {}
      },
      "source": [
        "import os\n",
        "\n",
        "current_dir=os.path.dirname(os.path.realpath('__file__'))\n",
        "input_data=os.path.join(current_dir,'example.csv')"
      ],
      "execution_count": 0,
      "outputs": []
    },
    {
      "cell_type": "markdown",
      "metadata": {
        "id": "bXHlTmdK5zJh",
        "colab_type": "text"
      },
      "source": [
        "We then featurize the data using any one of the featurizers present."
      ]
    },
    {
      "cell_type": "code",
      "metadata": {
        "id": "jN1lRtgC5zJi",
        "colab_type": "code",
        "outputId": "86b6be7f-d4ee-43e5-d980-b6786e049dbd",
        "colab": {
          "base_uri": "https://localhost:8080/",
          "height": 153
        }
      },
      "source": [
        "import deepchem as dc\n",
        "\n",
        "tasks=['log-solubility']\n",
        "featurizer=dc.feat.CircularFingerprint(size=1024)\n",
        "loader = dc.data.CSVLoader(tasks=tasks, smiles_field=\"smiles\",featurizer=featurizer)\n",
        "dataset=loader.featurize(input_data)"
      ],
      "execution_count": 22,
      "outputs": [
        {
          "output_type": "stream",
          "text": [
            "Loading raw samples now.\n",
            "shard_size: 8192\n",
            "About to start loading CSV from /content/example.csv\n",
            "Loading shard 1 of size 8192.\n",
            "Featurizing sample 0\n",
            "TIMING: featurizing shard 0 took 0.050 s\n",
            "TIMING: dataset construction took 0.082 s\n",
            "Loading dataset from disk.\n"
          ],
          "name": "stdout"
        }
      ]
    },
    {
      "cell_type": "code",
      "metadata": {
        "id": "vh7q0jGx5zJv",
        "colab_type": "code",
        "colab": {}
      },
      "source": [
        "from deepchem.splits.splitters import IndexSplitter"
      ],
      "execution_count": 0,
      "outputs": []
    },
    {
      "cell_type": "code",
      "metadata": {
        "id": "IemZbbvp5zJ1",
        "colab_type": "code",
        "colab": {}
      },
      "source": [
        "splitter=IndexSplitter()\n",
        "train_data,valid_data,test_data=splitter.split(dataset)"
      ],
      "execution_count": 0,
      "outputs": []
    },
    {
      "cell_type": "code",
      "metadata": {
        "id": "R6aE7YPn5zJ9",
        "colab_type": "code",
        "colab": {}
      },
      "source": [
        "train_data=[i for i in train_data]\n",
        "valid_data=[i for i in valid_data]\n",
        "test_data=[i for i in test_data]"
      ],
      "execution_count": 0,
      "outputs": []
    },
    {
      "cell_type": "code",
      "metadata": {
        "id": "VkW5MLyL5zKC",
        "colab_type": "code",
        "outputId": "3aebdd56-0fe0-4022-fe06-4b835233dae1",
        "colab": {
          "base_uri": "https://localhost:8080/",
          "height": 34
        }
      },
      "source": [
        "len(train_data),len(valid_data),len(test_data)"
      ],
      "execution_count": 26,
      "outputs": [
        {
          "output_type": "execute_result",
          "data": {
            "text/plain": [
              "(8, 1, 1)"
            ]
          },
          "metadata": {
            "tags": []
          },
          "execution_count": 26
        }
      ]
    },
    {
      "cell_type": "markdown",
      "metadata": {
        "id": "H7BQBpnP5zKG",
        "colab_type": "text"
      },
      "source": [
        "As we can see that without providing the user specifications on how to split the data, the data was split into a default of 80,10,10.\n",
        "\n",
        "But when we specify the parameters the dataset can be split according to our specificaitons."
      ]
    },
    {
      "cell_type": "code",
      "metadata": {
        "id": "cYeqhEgA5zKH",
        "colab_type": "code",
        "outputId": "b8f15f13-108f-4d24-9a24-47d9695121ce",
        "colab": {
          "base_uri": "https://localhost:8080/",
          "height": 34
        }
      },
      "source": [
        "train_data,valid_data,test_data=splitter.split(dataset,frac_train=0.7,frac_valid=0.2,frac_test=0.1)\n",
        "train_data=[i for i in train_data]\n",
        "valid_data=[i for i in valid_data]\n",
        "test_data=[i for i in test_data]\n",
        "len(train_data),len(valid_data),len(test_data)"
      ],
      "execution_count": 27,
      "outputs": [
        {
          "output_type": "execute_result",
          "data": {
            "text/plain": [
              "(7, 2, 1)"
            ]
          },
          "metadata": {
            "tags": []
          },
          "execution_count": 27
        }
      ]
    },
    {
      "cell_type": "markdown",
      "metadata": {
        "id": "AI1VsAGH5zKQ",
        "colab_type": "text"
      },
      "source": [
        "## Specified Splitter\n",
        "\n",
        "The next splitter that is present in the library is the specified splitter. This splitter needs a list from the dataset where it is specified which data is for training and which is for validation and testing."
      ]
    },
    {
      "cell_type": "code",
      "metadata": {
        "id": "kplzieL35zKb",
        "colab_type": "code",
        "outputId": "a67d0025-de10-4573-eb9e-675657bf252b",
        "colab": {
          "base_uri": "https://localhost:8080/",
          "height": 204
        }
      },
      "source": [
        "!wget https://raw.githubusercontent.com/deepchem/deepchem/master/deepchem/models/tests/user_specified_example.csv"
      ],
      "execution_count": 28,
      "outputs": [
        {
          "output_type": "stream",
          "text": [
            "--2020-06-12 03:06:24--  https://raw.githubusercontent.com/deepchem/deepchem/master/deepchem/models/tests/user_specified_example.csv\n",
            "Resolving raw.githubusercontent.com (raw.githubusercontent.com)... 151.101.0.133, 151.101.64.133, 151.101.128.133, ...\n",
            "Connecting to raw.githubusercontent.com (raw.githubusercontent.com)|151.101.0.133|:443... connected.\n",
            "HTTP request sent, awaiting response... 200 OK\n",
            "Length: 714 [text/plain]\n",
            "Saving to: ‘user_specified_example.csv’\n",
            "\n",
            "\r          user_spec   0%[                    ]       0  --.-KB/s               \ruser_specified_exam 100%[===================>]     714  --.-KB/s    in 0s      \n",
            "\n",
            "2020-06-12 03:06:24 (41.9 MB/s) - ‘user_specified_example.csv’ saved [714/714]\n",
            "\n"
          ],
          "name": "stdout"
        }
      ]
    },
    {
      "cell_type": "code",
      "metadata": {
        "id": "s3t_4cEe5zKg",
        "colab_type": "code",
        "outputId": "49a0234f-b015-408d-b621-688572d3cd3b",
        "colab": {
          "base_uri": "https://localhost:8080/",
          "height": 153
        }
      },
      "source": [
        "from deepchem.splits.splitters import SpecifiedSplitter\n",
        "current_dir=os.path.dirname(os.path.realpath('__file__'))\n",
        "input_file=os.path.join(current_dir, 'user_specified_example.csv')\n",
        "\n",
        "tasks=['log-solubility']\n",
        "featurizer=dc.feat.CircularFingerprint(size=1024)\n",
        "loader = dc.data.CSVLoader(tasks=tasks, smiles_field=\"smiles\",featurizer=featurizer)\n",
        "dataset=loader.featurize(input_file)\n",
        "\n",
        "split_field='split'\n",
        "\n",
        "splitter=SpecifiedSplitter(input_file,split_field)"
      ],
      "execution_count": 29,
      "outputs": [
        {
          "output_type": "stream",
          "text": [
            "Loading raw samples now.\n",
            "shard_size: 8192\n",
            "About to start loading CSV from /content/user_specified_example.csv\n",
            "Loading shard 1 of size 8192.\n",
            "Featurizing sample 0\n",
            "TIMING: featurizing shard 0 took 0.041 s\n",
            "TIMING: dataset construction took 0.055 s\n",
            "Loading dataset from disk.\n"
          ],
          "name": "stdout"
        }
      ]
    },
    {
      "cell_type": "code",
      "metadata": {
        "id": "PxVaPW9I5zKj",
        "colab_type": "code",
        "colab": {}
      },
      "source": [
        "train_data,valid_data,test_data=splitter.split(dataset)"
      ],
      "execution_count": 0,
      "outputs": []
    },
    {
      "cell_type": "markdown",
      "metadata": {
        "id": "JOz75Y125zKt",
        "colab_type": "text"
      },
      "source": [
        "When we split the data using the specified splitter it compares the data in each row of the `split_field` which the user has to specify wether the given row should be used as training data, validation data or testing data. The user has to specify as `train`,`test` and `valid` in the `split_field`.\n",
        "Note: The input is case insensitive."
      ]
    },
    {
      "cell_type": "code",
      "metadata": {
        "id": "JNBpEHmm5zKx",
        "colab_type": "code",
        "outputId": "6973590f-5b0d-42cc-b276-79550d72c0ce",
        "colab": {
          "base_uri": "https://localhost:8080/",
          "height": 34
        }
      },
      "source": [
        "train_data,valid_data,test_data"
      ],
      "execution_count": 31,
      "outputs": [
        {
          "output_type": "execute_result",
          "data": {
            "text/plain": [
              "([0, 1, 2, 3, 4, 5], [6, 7], [8, 9])"
            ]
          },
          "metadata": {
            "tags": []
          },
          "execution_count": 31
        }
      ]
    },
    {
      "cell_type": "markdown",
      "metadata": {
        "id": "QVmV8dFe5zK1",
        "colab_type": "text"
      },
      "source": [
        "## Indice Splitter\n",
        "\n",
        "Another splitter present in the fraework is `IndiceSplitter`. This splitter takes an input of valid_indices and test_indices which are lists with the indices of validation data and test data in the dataset respectively."
      ]
    },
    {
      "cell_type": "code",
      "metadata": {
        "id": "zCT3KKQz5zK2",
        "colab_type": "code",
        "outputId": "11e48048-7fe1-4fc3-c8fa-819cc9e78dce",
        "colab": {
          "base_uri": "https://localhost:8080/",
          "height": 34
        }
      },
      "source": [
        "from deepchem.splits.splitters import IndiceSplitter\n",
        "\n",
        "splitter=IndiceSplitter(valid_indices=[7],test_indices=[9])\n",
        "splitter.split(dataset)"
      ],
      "execution_count": 32,
      "outputs": [
        {
          "output_type": "execute_result",
          "data": {
            "text/plain": [
              "([0, 1, 2, 3, 4, 5, 6, 8], [7], [9])"
            ]
          },
          "metadata": {
            "tags": []
          },
          "execution_count": 32
        }
      ]
    },
    {
      "cell_type": "markdown",
      "metadata": {
        "id": "ROktroBH5zK6",
        "colab_type": "text"
      },
      "source": [
        "## RandomGroupSplitter\n",
        "\n",
        "The splitter which can be used to split the data on the basis of groupings is the `RandomGroupSplitter`. This splitter that splits on groupings. \n",
        "\n",
        "An example use case is when there are multiple conformations of the same molecule that share the same topology.This splitter subsequently guarantees that resulting splits preserve groupings.\n",
        "\n",
        "Note that it doesn't do any dynamic programming or something fancy to try to maximize the choice such that `frac_train`, `frac_valid`, or `frac_test` is maximized.It simply permutes the groups themselves. As such, use with caution if the number of elements per group varies significantly.\n",
        "\n",
        "The parameter that needs to be provided with the splitter is `groups`. This is an array like list of hashables which is the same as the size of the dataset."
      ]
    },
    {
      "cell_type": "code",
      "metadata": {
        "id": "Tu_TRPslerPX",
        "colab_type": "code",
        "colab": {
          "base_uri": "https://localhost:8080/",
          "height": 204
        },
        "outputId": "b64c8385-b21a-48cc-b47f-c79386331587"
      },
      "source": [
        "!wget https://raw.githubusercontent.com/deepchem/deepchem/master/deepchem/models/tests/example.csv"
      ],
      "execution_count": 33,
      "outputs": [
        {
          "output_type": "stream",
          "text": [
            "--2020-06-12 03:06:25--  https://raw.githubusercontent.com/deepchem/deepchem/master/deepchem/models/tests/example.csv\n",
            "Resolving raw.githubusercontent.com (raw.githubusercontent.com)... 151.101.0.133, 151.101.64.133, 151.101.128.133, ...\n",
            "Connecting to raw.githubusercontent.com (raw.githubusercontent.com)|151.101.0.133|:443... connected.\n",
            "HTTP request sent, awaiting response... 200 OK\n",
            "Length: 568 [text/plain]\n",
            "Saving to: ‘example.csv.1’\n",
            "\n",
            "\rexample.csv.1         0%[                    ]       0  --.-KB/s               \rexample.csv.1       100%[===================>]     568  --.-KB/s    in 0s      \n",
            "\n",
            "2020-06-12 03:06:25 (19.1 MB/s) - ‘example.csv.1’ saved [568/568]\n",
            "\n"
          ],
          "name": "stdout"
        }
      ]
    },
    {
      "cell_type": "code",
      "metadata": {
        "id": "7jr7bNmneGMe",
        "colab_type": "code",
        "colab": {}
      },
      "source": [
        "# This is workaround...\n",
        "def load_solubility_data():\n",
        "  \"\"\"Loads solubility dataset\"\"\"\n",
        "  featurizer = dc.feat.CircularFingerprint(size=1024)\n",
        "  tasks = [\"log-solubility\"]\n",
        "  task_type = \"regression\"\n",
        "  loader = dc.data.CSVLoader(\n",
        "      tasks=tasks, smiles_field=\"smiles\", featurizer=featurizer)\n",
        "\n",
        "  return loader.featurize(\"example.csv\")"
      ],
      "execution_count": 0,
      "outputs": []
    },
    {
      "cell_type": "code",
      "metadata": {
        "id": "es-X6PDQ5zK7",
        "colab_type": "code",
        "outputId": "b96441ce-a822-47a9-b718-148178e86e80",
        "colab": {
          "base_uri": "https://localhost:8080/",
          "height": 153
        }
      },
      "source": [
        "from deepchem.splits.splitters import RandomGroupSplitter\n",
        "\n",
        "groups = [0, 4, 1, 2, 3, 7, 0, 3, 1, 0]\n",
        "solubility_dataset=load_solubility_data()\n",
        "\n",
        "splitter=RandomGroupSplitter(groups=groups)\n",
        "\n",
        "train_idxs, valid_idxs, test_idxs = splitter.split(solubility_dataset)"
      ],
      "execution_count": 35,
      "outputs": [
        {
          "output_type": "stream",
          "text": [
            "Loading raw samples now.\n",
            "shard_size: 8192\n",
            "About to start loading CSV from example.csv\n",
            "Loading shard 1 of size 8192.\n",
            "Featurizing sample 0\n",
            "TIMING: featurizing shard 0 took 0.038 s\n",
            "TIMING: dataset construction took 0.051 s\n",
            "Loading dataset from disk.\n"
          ],
          "name": "stdout"
        }
      ]
    },
    {
      "cell_type": "code",
      "metadata": {
        "id": "sCYn9An75zLK",
        "colab_type": "code",
        "outputId": "d3604d91-d139-4259-b560-0cca187f20f2",
        "colab": {
          "base_uri": "https://localhost:8080/",
          "height": 34
        }
      },
      "source": [
        "train_idxs,valid_idxs,test_idxs"
      ],
      "execution_count": 36,
      "outputs": [
        {
          "output_type": "execute_result",
          "data": {
            "text/plain": [
              "([4, 7, 2, 8, 1, 0, 6, 9], [5], [3])"
            ]
          },
          "metadata": {
            "tags": []
          },
          "execution_count": 36
        }
      ]
    },
    {
      "cell_type": "code",
      "metadata": {
        "id": "PW-jhqnr5zLk",
        "colab_type": "code",
        "colab": {}
      },
      "source": [
        "train_data=[]\n",
        "for i in range(len(train_idxs)):\n",
        "    train_data.append(groups[train_idxs[i]])\n",
        "\n",
        "valid_data=[]\n",
        "for i in range(len(valid_idxs)):\n",
        "    valid_data.append(groups[valid_idxs[i]])\n",
        "\n",
        "test_data=[]\n",
        "for i in range(len(test_idxs)):\n",
        "    test_data.append(groups[test_idxs[i]])"
      ],
      "execution_count": 0,
      "outputs": []
    },
    {
      "cell_type": "code",
      "metadata": {
        "id": "Wdiwca-U5zLo",
        "colab_type": "code",
        "outputId": "b6cd177e-b012-43cc-de8b-ea0524dc8e53",
        "colab": {
          "base_uri": "https://localhost:8080/",
          "height": 68
        }
      },
      "source": [
        "print(\"Groups present in the training data =\",train_data)\n",
        "print(\"Groups present in the validation data = \",valid_data)\n",
        "print(\"Groups present in the testing data = \", test_data)"
      ],
      "execution_count": 38,
      "outputs": [
        {
          "output_type": "stream",
          "text": [
            "Groups present in the training data = [3, 3, 1, 1, 4, 0, 0, 0]\n",
            "Groups present in the validation data =  [7]\n",
            "Groups present in the testing data =  [2]\n"
          ],
          "name": "stdout"
        }
      ]
    },
    {
      "cell_type": "markdown",
      "metadata": {
        "id": "q3i_fjBt5zLs",
        "colab_type": "text"
      },
      "source": [
        "So the `RandomGroupSplitter` when properly assigned the groups, splits the data accordingly and preserves the groupings."
      ]
    },
    {
      "cell_type": "markdown",
      "metadata": {
        "id": "He3vY6wu5zLu",
        "colab_type": "text"
      },
      "source": [
        "## Scaffold Splitter\n",
        "\n",
        "The `ScaffoldSplitter` splits the data based on the scaffold of small molecules. The splitter takes the data and generates scaffolds using the smiles in the data. Then the splitter sorts the data into scaffold sets."
      ]
    },
    {
      "cell_type": "code",
      "metadata": {
        "id": "C8Kkvi5F5zL_",
        "colab_type": "code",
        "outputId": "ec06cacb-b645-4d6d-acc6-8ce0d88bea9f",
        "colab": {
          "base_uri": "https://localhost:8080/",
          "height": 170
        }
      },
      "source": [
        "from deepchem.splits.splitters import ScaffoldSplitter\n",
        "\n",
        "splitter=ScaffoldSplitter()\n",
        "solubility_dataset=load_solubility_data()\n",
        "train_data,valid_data,test_data = splitter.split(solubility_dataset,frac_train=0.7,frac_valid=0.2,frac_test=0.1)\n",
        "len(train_data),len(valid_data),len(test_data)"
      ],
      "execution_count": 39,
      "outputs": [
        {
          "output_type": "stream",
          "text": [
            "Loading raw samples now.\n",
            "shard_size: 8192\n",
            "About to start loading CSV from example.csv\n",
            "Loading shard 1 of size 8192.\n",
            "Featurizing sample 0\n",
            "TIMING: featurizing shard 0 took 0.038 s\n",
            "TIMING: dataset construction took 0.052 s\n",
            "Loading dataset from disk.\n"
          ],
          "name": "stdout"
        },
        {
          "output_type": "execute_result",
          "data": {
            "text/plain": [
              "(7, 2, 1)"
            ]
          },
          "metadata": {
            "tags": []
          },
          "execution_count": 39
        }
      ]
    },
    {
      "cell_type": "markdown",
      "metadata": {
        "id": "MhZxVoVs5zMa",
        "colab_type": "text"
      },
      "source": [
        "# Congratulations! Time to join the Community!\n",
        "\n",
        "Congratulations on completing this tutorial notebook! If you enjoyed working through the tutorial, and want to continue working with DeepChem, we encourage you to finish the rest of the tutorials in this series. You can also help the DeepChem community in the following ways:\n",
        "\n",
        "## Star DeepChem on [GitHub](https://github.com/deepchem/deepchem)\n",
        "This helps build awareness of the DeepChem project and the tools for open source drug discovery that we're trying to build.\n",
        "\n",
        "## Join the DeepChem Gitter\n",
        "The DeepChem [Gitter](https://gitter.im/deepchem/Lobby) hosts a number of scientists, developers, and enthusiasts interested in deep learning for the life sciences. Join the conversation!"
      ]
    }
  ]
}