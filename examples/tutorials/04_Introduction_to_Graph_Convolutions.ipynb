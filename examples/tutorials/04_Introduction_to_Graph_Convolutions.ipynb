{
  "nbformat": 4,
  "nbformat_minor": 0,
  "metadata": {
    "kernelspec": {
      "name": "python3",
      "display_name": "Python 3"
    },
    "language_info": {
      "codemirror_mode": {
        "name": "ipython",
        "version": 3
      },
      "file_extension": ".py",
      "mimetype": "text/x-python",
      "name": "python",
      "nbconvert_exporter": "python",
      "pygments_lexer": "ipython3",
      "version": "3.6.10"
    },
    "colab": {
      "name": "04_Introduction_to_Graph_Convolutions.ipynb",
      "provenance": []
    },
    "accelerator": "GPU"
  },
  "cells": [
    {
      "cell_type": "markdown",
      "metadata": {
        "id": "ubFUlqz8cj1L",
        "colab_type": "text"
      },
      "source": [
        "# Tutorial Part 4: Introduction to Graph Convolutions\n",
        "\n",
        "In the previous sections of the tutorial, we learned about `Dataset` and `Model` objects. We learned how to load some data into DeepChem from files on disk and also learned some basic facts about molecular data handling. We then dove into some basic deep learning architectures. However, until now, we stuck with vanilla deep learning architectures and didn't really consider how to handle deep architectures specifically engineered to work with life science data.\n",
        "\n",
        "In this tutorial, we'll change that by going a little deeper and learn about \"graph convolutions.\" These are one of the most powerful deep learning tools for working with molecular data. The reason for this is that molecules can be naturally viewed as graphs.\n",
        "\n",
        "![Molecular Graph](https://github.com/deepchem/deepchem/blob/master/examples/tutorials/basic_graphs.gif?raw=1)\n",
        "\n",
        "Note how standard chemical diagrams of the sort we're used to from high school lend themselves naturally to visualizing molecules as graphs. In the remainder of this tutorial, we'll dig into this relationship in significantly more detail. This will let us get an in-the guts understanding of how these systems work.\n",
        "\n",
        "## Colab\n",
        "\n",
        "This tutorial and the rest in this sequence are designed to be done in Google colab. If you'd like to open this notebook in colab, you can use the following link.\n",
        "\n",
        "[![Open In Colab](https://colab.research.google.com/assets/colab-badge.svg)](https://colab.research.google.com/github/deepchem/deepchem/blob/master/examples/tutorials/04_Introduction_to_Graph_Convolutions.ipynb)\n",
        "\n",
        "## Setup\n",
        "\n",
        "To run DeepChem within Colab, you'll need to run the following cell of installation commands. This will take about 5 minutes to run to completion and install your environment."
      ]
    },
    {
      "cell_type": "code",
      "metadata": {
        "id": "EoCLxSnBcj1N",
        "colab_type": "code",
        "colab": {
          "base_uri": "https://localhost:8080/",
          "height": 170
        },
        "outputId": "0bacdfee-179e-4c21-9746-a45f1b80634f"
      },
      "source": [
        "!curl -Lo conda_installer.py https://raw.githubusercontent.com/deepchem/deepchem/master/scripts/colab_install.py\n",
        "import conda_installer\n",
        "conda_installer.install()\n",
        "!/root/miniconda/bin/conda info -e"
      ],
      "execution_count": 1,
      "outputs": [
        {
          "output_type": "stream",
          "text": [
            "  % Total    % Received % Xferd  Average Speed   Time    Time     Time  Current\n",
            "                                 Dload  Upload   Total   Spent    Left  Speed\n",
            "\r  0     0    0     0    0     0      0      0 --:--:-- --:--:-- --:--:--     0\r100  3489  100  3489    0     0   126k      0 --:--:-- --:--:-- --:--:--  126k\n"
          ],
          "name": "stdout"
        },
        {
          "output_type": "stream",
          "text": [
            "add /root/miniconda/lib/python3.6/site-packages to PYTHONPATH\n",
            "all packages is already installed\n"
          ],
          "name": "stderr"
        },
        {
          "output_type": "stream",
          "text": [
            "# conda environments:\n",
            "#\n",
            "base                  *  /root/miniconda\n",
            "\n"
          ],
          "name": "stdout"
        }
      ]
    },
    {
      "cell_type": "code",
      "metadata": {
        "id": "3Jv2cmnW91CF",
        "colab_type": "code",
        "colab": {
          "base_uri": "https://localhost:8080/",
          "height": 188
        },
        "outputId": "332ba192-5e2f-4581-9bbb-ad011be736c9"
      },
      "source": [
        "!pip install --pre deepchem\n",
        "import deepchem\n",
        "deepchem.__version__"
      ],
      "execution_count": 2,
      "outputs": [
        {
          "output_type": "stream",
          "text": [
            "Requirement already satisfied: deepchem in /usr/local/lib/python3.6/dist-packages (2.4.0rc1.dev20200805141720)\n",
            "Requirement already satisfied: scikit-learn in /usr/local/lib/python3.6/dist-packages (from deepchem) (0.22.2.post1)\n",
            "Requirement already satisfied: pandas in /usr/local/lib/python3.6/dist-packages (from deepchem) (1.0.5)\n",
            "Requirement already satisfied: scipy in /usr/local/lib/python3.6/dist-packages (from deepchem) (1.4.1)\n",
            "Requirement already satisfied: joblib in /usr/local/lib/python3.6/dist-packages (from deepchem) (0.16.0)\n",
            "Requirement already satisfied: numpy in /usr/local/lib/python3.6/dist-packages (from deepchem) (1.18.5)\n",
            "Requirement already satisfied: python-dateutil>=2.6.1 in /usr/local/lib/python3.6/dist-packages (from pandas->deepchem) (2.8.1)\n",
            "Requirement already satisfied: pytz>=2017.2 in /usr/local/lib/python3.6/dist-packages (from pandas->deepchem) (2018.9)\n",
            "Requirement already satisfied: six>=1.5 in /usr/local/lib/python3.6/dist-packages (from python-dateutil>=2.6.1->pandas->deepchem) (1.15.0)\n"
          ],
          "name": "stdout"
        },
        {
          "output_type": "execute_result",
          "data": {
            "application/vnd.google.colaboratory.intrinsic+json": {
              "type": "string"
            },
            "text/plain": [
              "'2.4.0-rc1.dev'"
            ]
          },
          "metadata": {
            "tags": []
          },
          "execution_count": 2
        }
      ]
    },
    {
      "cell_type": "markdown",
      "metadata": {
        "id": "iEMqPVorcj1R",
        "colab_type": "text"
      },
      "source": [
        "Ok now that we have our environment installed, we can actually import the core `GraphConvModel` that we'll use through this tutorial."
      ]
    },
    {
      "cell_type": "code",
      "metadata": {
        "id": "Ph78CIgAcj1S",
        "colab_type": "code",
        "colab": {}
      },
      "source": [
        "import deepchem as dc\n",
        "from deepchem.models.graph_models import GraphConvModel"
      ],
      "execution_count": 3,
      "outputs": []
    },
    {
      "cell_type": "markdown",
      "metadata": {
        "id": "BX2erW0ncj1W",
        "colab_type": "text"
      },
      "source": [
        "Now, let's use the MoleculeNet suite  to load the Tox21 dataset. We need to make sure to process the data in a way that graph convolutional networks can use For that, we make sure to set the featurizer option to 'GraphConv'. The MoleculeNet call will return a training set, a validation set, and a test set for us to use. The call also returns `transformers`, a list of data transformations that were applied to preprocess the dataset. (Most deep networks are quite finicky and require a set of data transformations to ensure that training proceeds stably.)"
      ]
    },
    {
      "cell_type": "code",
      "metadata": {
        "id": "JMi2V8Jncj1W",
        "colab_type": "code",
        "colab": {
          "base_uri": "https://localhost:8080/",
          "height": 88
        },
        "outputId": "d29c5ab3-e6f8-4bc5-9e56-fd70a8402302"
      },
      "source": [
        "# Load Tox21 dataset\n",
        "tox21_tasks, tox21_datasets, transformers = dc.molnet.load_tox21(featurizer='GraphConv', reload=False)\n",
        "train_dataset, valid_dataset, test_dataset = tox21_datasets"
      ],
      "execution_count": 4,
      "outputs": [
        {
          "output_type": "stream",
          "text": [
            "smiles_field is deprecated and will be removed in a future version of DeepChem. Use feature_field instead.\n",
            "/usr/local/lib/python3.6/dist-packages/deepchem/data/data_loader.py:198: FutureWarning: featurize() is deprecated and has been renamed to create_dataset(). featurize() will be removed in DeepChem 3.0\n",
            "  FutureWarning)\n"
          ],
          "name": "stderr"
        }
      ]
    },
    {
      "cell_type": "markdown",
      "metadata": {
        "id": "QfMW0Y4Kcj1Z",
        "colab_type": "text"
      },
      "source": [
        "Let's now train a graph convolutional network on this dataset. DeepChem has the class `GraphConvModel` that wraps a standard graph convolutional architecture underneath the hood for user convenience. Let's instantiate an object of this class and train it on our dataset."
      ]
    },
    {
      "cell_type": "code",
      "metadata": {
        "id": "Y9n3jTNHcj1a",
        "colab_type": "code",
        "colab": {
          "base_uri": "https://localhost:8080/",
          "height": 241
        },
        "outputId": "6a9fcd23-aa01-4600-a91e-3ab5b3674b98"
      },
      "source": [
        "n_tasks = len(tox21_tasks)\n",
        "model = GraphConvModel(n_tasks, batch_size=50, mode='classification')\n",
        "\n",
        "num_epochs = 10\n",
        "losses = []\n",
        "for i in range(num_epochs):\n",
        " loss = model.fit(train_dataset, nb_epoch=1)\n",
        " print(\"Epoch %d loss: %f\" % (i, loss))\n",
        " losses.append(loss)"
      ],
      "execution_count": 5,
      "outputs": [
        {
          "output_type": "stream",
          "text": [
            "/usr/local/lib/python3.6/dist-packages/tensorflow/python/framework/indexed_slices.py:432: UserWarning: Converting sparse IndexedSlices to a dense Tensor of unknown shape. This may consume a large amount of memory.\n",
            "  \"Converting sparse IndexedSlices to a dense Tensor of unknown shape. \"\n"
          ],
          "name": "stderr"
        },
        {
          "output_type": "stream",
          "text": [
            "Epoch 0 loss: 0.198352\n",
            "Epoch 1 loss: 0.183952\n",
            "Epoch 2 loss: 0.173609\n",
            "Epoch 3 loss: 0.120326\n",
            "Epoch 4 loss: 0.164240\n",
            "Epoch 5 loss: 0.152436\n",
            "Epoch 6 loss: 0.144272\n",
            "Epoch 7 loss: 0.141582\n",
            "Epoch 8 loss: 0.143059\n",
            "Epoch 9 loss: 0.136201\n"
          ],
          "name": "stdout"
        }
      ]
    },
    {
      "cell_type": "markdown",
      "metadata": {
        "id": "ozuyj_umcj1c",
        "colab_type": "text"
      },
      "source": [
        "Let's plot these losses so we can take a look at how the loss changes over the process of training."
      ]
    },
    {
      "cell_type": "code",
      "metadata": {
        "id": "qbDXnYs7cj1d",
        "colab_type": "code",
        "colab": {
          "base_uri": "https://localhost:8080/",
          "height": 279
        },
        "outputId": "93bf6977-efca-49f7-891e-74d306d60a15"
      },
      "source": [
        "import matplotlib.pyplot as plot\n",
        "\n",
        "plot.ylabel(\"Loss\")\n",
        "plot.xlabel(\"Epoch\")\n",
        "x = range(num_epochs)\n",
        "y = losses\n",
        "plot.scatter(x, y)\n",
        "plot.show()"
      ],
      "execution_count": 6,
      "outputs": [
        {
          "output_type": "display_data",
          "data": {
            "image/png": "[encoded data removed]",
            "text/plain": [
              "<Figure size 432x288 with 1 Axes>"
            ]
          },
          "metadata": {
            "tags": [],
            "needs_background": "light"
          }
        }
      ]
    },
    {
      "cell_type": "markdown",
      "metadata": {
        "id": "kDDroutEcj1g",
        "colab_type": "text"
      },
      "source": [
        "We see that the losses fall nicely and give us stable learning.\n",
        "\n",
        "Let's try to evaluate the performance of the model we've trained. For this, we need to define a metric, a measure of model performance. `dc.metrics` holds a collection of metrics already. For this dataset, it is standard to use the ROC-AUC score, the area under the receiver operating characteristic curve (which measures the tradeoff between precision and recall). Luckily, the ROC-AUC score is already available in DeepChem. \n",
        "\n",
        "To measure the performance of the model under this metric, we can use the convenience function `model.evaluate()`."
      ]
    },
    {
      "cell_type": "code",
      "metadata": {
        "id": "MeX-9RNWcj1h",
        "colab_type": "code",
        "colab": {
          "base_uri": "https://localhost:8080/",
          "height": 476
        },
        "outputId": "4d7bc1f8-6036-4082-c006-99b59bac6c95"
      },
      "source": [
        "import numpy as np\n",
        "metric = dc.metrics.Metric(dc.metrics.roc_auc_score, np.mean)\n",
        "\n",
        "print(\"Evaluating model\")\n",
        "train_scores = model.evaluate(train_dataset, [metric], transformers)\n",
        "print(\"Training ROC-AUC Score: %f\" % train_scores[\"mean-roc_auc_score\"])\n",
        "valid_scores = model.evaluate(valid_dataset, [metric], transformers)\n",
        "print(\"Validation ROC-AUC Score: %f\" % valid_scores[\"mean-roc_auc_score\"])"
      ],
      "execution_count": 7,
      "outputs": [
        {
          "output_type": "stream",
          "text": [
            "Evaluating model\n"
          ],
          "name": "stdout"
        },
        {
          "output_type": "stream",
          "text": [
            "n_samples is a deprecated argument which is ignored.\n",
            "n_samples is a deprecated argument which is ignored.\n",
            "n_samples is a deprecated argument which is ignored.\n",
            "n_samples is a deprecated argument which is ignored.\n",
            "n_samples is a deprecated argument which is ignored.\n",
            "n_samples is a deprecated argument which is ignored.\n",
            "n_samples is a deprecated argument which is ignored.\n",
            "n_samples is a deprecated argument which is ignored.\n",
            "n_samples is a deprecated argument which is ignored.\n",
            "n_samples is a deprecated argument which is ignored.\n",
            "n_samples is a deprecated argument which is ignored.\n",
            "n_samples is a deprecated argument which is ignored.\n",
            "n_samples is a deprecated argument which is ignored.\n",
            "n_samples is a deprecated argument which is ignored.\n",
            "n_samples is a deprecated argument which is ignored.\n",
            "n_samples is a deprecated argument which is ignored.\n",
            "n_samples is a deprecated argument which is ignored.\n",
            "n_samples is a deprecated argument which is ignored.\n",
            "n_samples is a deprecated argument which is ignored.\n",
            "n_samples is a deprecated argument which is ignored.\n",
            "n_samples is a deprecated argument which is ignored.\n",
            "n_samples is a deprecated argument which is ignored.\n",
            "n_samples is a deprecated argument which is ignored.\n",
            "n_samples is a deprecated argument which is ignored.\n"
          ],
          "name": "stderr"
        },
        {
          "output_type": "stream",
          "text": [
            "Training ROC-AUC Score: 0.883849\n",
            "Validation ROC-AUC Score: 0.789217\n"
          ],
          "name": "stdout"
        }
      ]
    },
    {
      "cell_type": "markdown",
      "metadata": {
        "id": "Wz43oG9rcj1j",
        "colab_type": "text"
      },
      "source": [
        "What's going on under the hood? Could we build `GraphConvModel` ourselves? Of course! The first step is to define the inputs to our model. Conceptually, graph convolutions just require the structure of the molecule in question and a vector of features for every atom that describes the local chemical environment. However in practice, due to TensorFlow's limitations as a general programming environment, we have to have some auxiliary information as well preprocessed.\n",
        "\n",
        "`atom_features` holds a feature vector of length 75 for each atom. The other inputs are required to support minibatching in TensorFlow. `degree_slice` is an indexing convenience that makes it easy to locate atoms from all molecules with a given degree. `membership` determines the membership of atoms in molecules (atom `i` belongs to molecule `membership[i]`). `deg_adjs` is a list that contains adjacency lists grouped by atom degree. For more details, check out the [code](https://github.com/deepchem/deepchem/blob/master/deepchem/feat/mol_graphs.py).\n",
        "\n",
        "To define feature inputs with Keras, we use the `Input` layer. Conceptually, a model is a mathematical graph composed of layer objects. `Input` layers have to be the root nodes of the graph since they consitute inputs."
      ]
    },
    {
      "cell_type": "code",
      "metadata": {
        "id": "llRfKl-gcj1k",
        "colab_type": "code",
        "colab": {}
      },
      "source": [
        "import tensorflow as tf\n",
        "import tensorflow.keras.layers as layers\n",
        "\n",
        "atom_features = layers.Input(shape=(75,))\n",
        "degree_slice = layers.Input(shape=(2,), dtype=tf.int32)\n",
        "membership = layers.Input(shape=tuple(), dtype=tf.int32)\n",
        "\n",
        "deg_adjs = []\n",
        "for i in range(0, 10 + 1):\n",
        "    deg_adj = layers.Input(shape=(i+1,), dtype=tf.int32)\n",
        "    deg_adjs.append(deg_adj)"
      ],
      "execution_count": 8,
      "outputs": []
    },
    {
      "cell_type": "markdown",
      "metadata": {
        "id": "oD2teCkKcj1m",
        "colab_type": "text"
      },
      "source": [
        "Let's now implement the body of the graph convolutional network. DeepChem has a number of layers that encode various graph operations. Namely, the `GraphConv`, `GraphPool` and `GraphGather` layers. We will also apply standard neural network layers such as `Dense` and `BatchNormalization`.\n",
        "\n",
        "The layers we're adding effect a \"feature transformation\" that will create one vector for each molecule."
      ]
    },
    {
      "cell_type": "code",
      "metadata": {
        "id": "71_E0CAUcj1n",
        "colab_type": "code",
        "colab": {}
      },
      "source": [
        "# from deepchem.models.layers import GraphConv, GraphPool, GraphGather\n",
        "\n",
        "# batch_size = 50\n",
        "\n",
        "# gc1 = GraphConv(64, activation_fn=tf.nn.relu)([atom_features, degree_slice, membership] + deg_adjs)\n",
        "# batch_norm1 = layers.BatchNormalization()(gc1)\n",
        "# gp1 = GraphPool()([batch_norm1, degree_slice, membership] + deg_adjs)\n",
        "# gc2 = GraphConv(64, activation_fn=tf.nn.relu)([gp1, degree_slice, membership] + deg_adjs)\n",
        "# batch_norm2 = layers.BatchNormalization()(gc2)\n",
        "# gp2 = GraphPool()([batch_norm2, degree_slice, membership] + deg_adjs)\n",
        "# dense = layers.Dense(128, activation=tf.nn.relu)(gp2)\n",
        "# batch_norm3 = layers.BatchNormalization()(dense)\n",
        "# readout = GraphGather(batch_size=batch_size, activation_fn=tf.nn.tanh)([batch_norm3, degree_slice, membership] + deg_adjs)\n",
        "# logits = layers.Reshape((n_tasks, 2))(layers.Dense(n_tasks*2)(readout))\n",
        "# softmax = layers.Softmax()(logits)"
      ],
      "execution_count": 9,
      "outputs": []
    },
    {
      "cell_type": "markdown",
      "metadata": {
        "id": "oC20PZiccj1p",
        "colab_type": "text"
      },
      "source": [
        "Let's now create the `KerasModel`. To do that we specify the inputs and outputs to the model. We also have to define a loss for the model which tells the network the objective to minimize during training."
      ]
    },
    {
      "cell_type": "code",
      "metadata": {
        "id": "31Wr0t2zcj1q",
        "colab_type": "code",
        "colab": {}
      },
      "source": [
        "# inputs = [atom_features, degree_slice, membership] + deg_adjs\n",
        "# outputs = [softmax]\n",
        "# keras_model = tf.keras.Model(inputs=inputs, outputs=outputs)\n",
        "# loss = dc.models.losses.CategoricalCrossEntropy()\n",
        "# model = dc.models.KerasModel(keras_model, loss=loss)"
      ],
      "execution_count": 10,
      "outputs": []
    },
    {
      "cell_type": "markdown",
      "metadata": {
        "id": "ivbKO0PTcj1s",
        "colab_type": "text"
      },
      "source": [
        "Now that we've successfully defined our graph convolutional model, we need to train it. We can call `fit()`, but we need to make sure that each minibatch of data populates all the `Input` objects that we've created. For this, we need to create a Python generator that given a batch of data generates the lists of inputs, labels, and weights whose values are Numpy arrays we'd like to use for this step of training."
      ]
    },
    {
      "cell_type": "code",
      "metadata": {
        "id": "wgk6_WBwcj1t",
        "colab_type": "code",
        "colab": {}
      },
      "source": [
        "# from deepchem.metrics import to_one_hot\n",
        "# from deepchem.feat.mol_graphs import ConvMol\n",
        "\n",
        "# def data_generator(dataset, epochs=1, predict=False, pad_batches=True):\n",
        "#   for epoch in range(epochs):\n",
        "#     for ind, (X_b, y_b, w_b, ids_b) in enumerate(\n",
        "#         dataset.iterbatches(\n",
        "#             batch_size, pad_batches=pad_batches, deterministic=True)):\n",
        "#       multiConvMol = ConvMol.agglomerate_mols(X_b)\n",
        "#       inputs = [multiConvMol.get_atom_features(), multiConvMol.deg_slice, np.array(multiConvMol.membership)]\n",
        "#       for i in range(1, len(multiConvMol.get_deg_adjacency_lists())):\n",
        "#         inputs.append(multiConvMol.get_deg_adjacency_lists()[i])\n",
        "#       labels = [to_one_hot(y_b.flatten(), 2).reshape(-1, n_tasks, 2)]\n",
        "#       weights = [w_b]\n",
        "#       yield (inputs, labels, weights)"
      ],
      "execution_count": 11,
      "outputs": []
    },
    {
      "cell_type": "markdown",
      "metadata": {
        "id": "VSTbjm9Hcj1v",
        "colab_type": "text"
      },
      "source": [
        "Now, we can train the model using `KerasModel.fit_generator(generator)` which will use the generator we've defined to train the model."
      ]
    },
    {
      "cell_type": "code",
      "metadata": {
        "id": "59WW4rhwcj1w",
        "colab_type": "code",
        "colab": {}
      },
      "source": [
        "# num_epochs = 10\n",
        "# losses = []\n",
        "# for i in range(num_epochs):\n",
        "#   loss = model.fit_generator(data_generator(train_dataset, epochs=1))\n",
        "#   print(\"Epoch %d loss: %f\" % (i, loss))\n",
        "#   losses.append(loss)"
      ],
      "execution_count": 12,
      "outputs": []
    },
    {
      "cell_type": "markdown",
      "metadata": {
        "id": "4KKBu75ccj1z",
        "colab_type": "text"
      },
      "source": [
        "Let's now plot these losses and take a quick look."
      ]
    },
    {
      "cell_type": "code",
      "metadata": {
        "id": "SaPi5y8icj11",
        "colab_type": "code",
        "colab": {}
      },
      "source": [
        "# plot.title(\"Keras Version\")\n",
        "# plot.ylabel(\"Loss\")\n",
        "# plot.xlabel(\"Epoch\")\n",
        "# x = range(num_epochs)\n",
        "# y = losses\n",
        "# plot.scatter(x, y)\n",
        "# plot.show()"
      ],
      "execution_count": 13,
      "outputs": []
    },
    {
      "cell_type": "markdown",
      "metadata": {
        "id": "skrL9YEEcj13",
        "colab_type": "text"
      },
      "source": [
        "Now that we have trained our graph convolutional method, let's evaluate its performance. We again have to use our defined generator to evaluate model performance."
      ]
    },
    {
      "cell_type": "code",
      "metadata": {
        "scrolled": true,
        "id": "f3prNsgGcj14",
        "colab_type": "code",
        "colab": {}
      },
      "source": [
        "# metric = dc.metrics.Metric(dc.metrics.roc_auc_score, np.mean)\n",
        "\n",
        "# def reshape_y_pred(y_true, y_pred):\n",
        "#     \"\"\"\n",
        "#     GraphConv always pads batches, so we need to remove the predictions\n",
        "#     for the padding samples.  Also, it outputs two values for each task\n",
        "#     (probabilities of positive and negative), but we only want the positive\n",
        "#     probability.\n",
        "#     \"\"\"\n",
        "#     n_samples = len(y_true)\n",
        "#     return y_pred[:n_samples, :, 1]\n",
        "    \n",
        "\n",
        "# print(\"Evaluating model\")\n",
        "# train_predictions = model.predict_on_generator(data_generator(train_dataset, predict=True))\n",
        "# train_predictions = reshape_y_pred(train_dataset.y, train_predictions)\n",
        "# train_scores = metric.compute_metric(train_dataset.y, train_predictions, train_dataset.w)\n",
        "# print(\"Training ROC-AUC Score: %f\" % train_scores)\n",
        "\n",
        "# valid_predictions = model.predict_on_generator(data_generator(valid_dataset, predict=True))\n",
        "# valid_predictions = reshape_y_pred(valid_dataset.y, valid_predictions)\n",
        "# valid_scores = metric.compute_metric(valid_dataset.y, valid_predictions, valid_dataset.w)\n",
        "# print(\"Valid ROC-AUC Score: %f\" % valid_scores)"
      ],
      "execution_count": 14,
      "outputs": []
    },
    {
      "cell_type": "markdown",
      "metadata": {
        "id": "tvOYgj52cj16",
        "colab_type": "text"
      },
      "source": [
        "Success! The model we've constructed behaves nearly identically to `GraphConvModel`. If you're looking to build your own custom models, you can follow the example we've provided here to do so. We hope to see exciting constructions from your end soon!"
      ]
    },
    {
      "cell_type": "markdown",
      "metadata": {
        "collapsed": true,
        "id": "j1FrVn88cj17",
        "colab_type": "text"
      },
      "source": [
        "# Congratulations! Time to join the Community!\n",
        "\n",
        "Congratulations on completing this tutorial notebook! If you enjoyed working through the tutorial, and want to continue working with DeepChem, we encourage you to finish the rest of the tutorials in this series. You can also help the DeepChem community in the following ways:\n",
        "\n",
        "## Star DeepChem on [GitHub](https://github.com/deepchem/deepchem)\n",
        "This helps build awareness of the DeepChem project and the tools for open source drug discovery that we're trying to build.\n",
        "\n",
        "## Join the DeepChem Gitter\n",
        "The DeepChem [Gitter](https://gitter.im/deepchem/Lobby) hosts a number of scientists, developers, and enthusiasts interested in deep learning for the life sciences. Join the conversation!"
      ]
    }
  ]
}