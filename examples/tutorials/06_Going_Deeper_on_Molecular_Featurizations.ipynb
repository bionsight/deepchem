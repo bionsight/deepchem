{
  "nbformat": 4,
  "nbformat_minor": 0,
  "metadata": {
    "kernelspec": {
      "display_name": "Python 3",
      "language": "python",
      "name": "python3"
    },
    "language_info": {
      "codemirror_mode": {
        "name": "ipython",
        "version": 3
      },
      "file_extension": ".py",
      "mimetype": "text/x-python",
      "name": "python",
      "nbconvert_exporter": "python",
      "pygments_lexer": "ipython3",
      "version": "3.6.10"
    },
    "colab": {
      "name": "06_Going_Deeper_on_Molecular_Featurizations.ipynb",
      "provenance": []
    }
  },
  "cells": [
    {
      "cell_type": "markdown",
      "metadata": {
        "id": "tTuYGOlnh117",
        "colab_type": "text"
      },
      "source": [
        "# Tutorial Part 6: Going Deeper On Molecular Featurizations\n",
        "\n",
        "One of the most important steps of doing machine learning on molecular data is transforming this data into a form amenable to the application of learning algorithms. This process is broadly called \"featurization\" and involves tutrning a molecule into a vector or tensor of some sort. There are a number of different ways of doing such transformations, and the choice of featurization is often dependent on the problem at hand.\n",
        "\n",
        "In this tutorial,  we explore the different featurization methods available for molecules. These featurization methods include:\n",
        "\n",
        "1. `ConvMolFeaturizer`, \n",
        "2. `WeaveFeaturizer`, \n",
        "3. `CircularFingerprints`\n",
        "4. `RDKitDescriptors`\n",
        "5. `BPSymmetryFunction`\n",
        "6. `CoulombMatrix`\n",
        "7. `CoulombMatrixEig`\n",
        "8. `AdjacencyFingerprints`\n",
        "\n",
        "## Colab\n",
        "\n",
        "This tutorial and the rest in this sequence are designed to be done in Google colab. If you'd like to open this notebook in colab, you can use the following link.\n",
        "\n",
        "[![Open In Colab](https://colab.research.google.com/assets/colab-badge.svg)](https://colab.research.google.com/github/deepchem/deepchem/blob/master/examples/tutorials/06_Going_Deeper_on_Molecular_Featurizations.ipynb)\n",
        "\n",
        "## Setup\n",
        "\n",
        "To run DeepChem within Colab, you'll need to run the following cell of installation commands. This will take about 5 minutes to run to completion and install your environment."
      ]
    },
    {
      "cell_type": "code",
      "metadata": {
        "id": "tS3siM3Ch11-",
        "colab_type": "code",
        "colab": {
          "base_uri": "https://localhost:8080/",
          "height": 323
        },
        "outputId": "f219ddb6-b639-4452-84e9-0dcf8a932579"
      },
      "source": [
        "!curl -Lo conda_installer.py https://raw.githubusercontent.com/deepchem/deepchem/master/scripts/colab_install.py\n",
        "import conda_installer\n",
        "conda_installer.install()\n",
        "!/root/miniconda/bin/conda info -e"
      ],
      "execution_count": 1,
      "outputs": [
        {
          "output_type": "stream",
          "text": [
            "  % Total    % Received % Xferd  Average Speed   Time    Time     Time  Current\n",
            "                                 Dload  Upload   Total   Spent    Left  Speed\n",
            "\r  0     0    0     0    0     0      0      0 --:--:-- --:--:-- --:--:--     0\r  0     0    0     0    0     0      0      0 --:--:-- --:--:-- --:--:--     0\r100  3489  100  3489    0     0   9940      0 --:--:-- --:--:-- --:--:--  9911\n"
          ],
          "name": "stdout"
        },
        {
          "output_type": "stream",
          "text": [
            "add /root/miniconda/lib/python3.6/site-packages to PYTHONPATH\n",
            "python version: 3.6.9\n",
            "fetching installer from https://repo.continuum.io/miniconda/Miniconda3-latest-Linux-x86_64.sh\n",
            "done\n",
            "installing miniconda to /root/miniconda\n",
            "done\n",
            "installing rdkit, openmm, pdbfixer\n",
            "added omnia to channels\n",
            "added conda-forge to channels\n",
            "done\n",
            "conda packages installation finished!\n"
          ],
          "name": "stderr"
        },
        {
          "output_type": "stream",
          "text": [
            "# conda environments:\n",
            "#\n",
            "base                  *  /root/miniconda\n",
            "\n"
          ],
          "name": "stdout"
        }
      ]
    },
    {
      "cell_type": "code",
      "metadata": {
        "id": "D43MbibL_EK0",
        "colab_type": "code",
        "colab": {
          "base_uri": "https://localhost:8080/",
          "height": 361
        },
        "outputId": "3a1d954c-843c-4fab-90ba-a9a668d1818a"
      },
      "source": [
        "!pip install --pre deepchem\n",
        "import deepchem\n",
        "deepchem.__version__"
      ],
      "execution_count": 2,
      "outputs": [
        {
          "output_type": "stream",
          "text": [
            "Collecting deepchem\n",
            "\u001b[?25l  Downloading https://files.pythonhosted.org/packages/b5/d7/3ba15ec6f676ef4d93855d01e40cba75e231339e7d9ea403a2f53cabbab0/deepchem-2.4.0rc1.dev20200805054153.tar.gz (351kB)\n",
            "\r\u001b[K     |█                               | 10kB 16.7MB/s eta 0:00:01\r\u001b[K     |█▉                              | 20kB 1.7MB/s eta 0:00:01\r\u001b[K     |██▉                             | 30kB 2.2MB/s eta 0:00:01\r\u001b[K     |███▊                            | 40kB 2.5MB/s eta 0:00:01\r\u001b[K     |████▋                           | 51kB 1.9MB/s eta 0:00:01\r\u001b[K     |█████▋                          | 61kB 2.2MB/s eta 0:00:01\r\u001b[K     |██████▌                         | 71kB 2.4MB/s eta 0:00:01\r\u001b[K     |███████▌                        | 81kB 2.6MB/s eta 0:00:01\r\u001b[K     |████████▍                       | 92kB 2.8MB/s eta 0:00:01\r\u001b[K     |█████████▎                      | 102kB 2.7MB/s eta 0:00:01\r\u001b[K     |██████████▎                     | 112kB 2.7MB/s eta 0:00:01\r\u001b[K     |███████████▏                    | 122kB 2.7MB/s eta 0:00:01\r\u001b[K     |████████████▏                   | 133kB 2.7MB/s eta 0:00:01\r\u001b[K     |█████████████                   | 143kB 2.7MB/s eta 0:00:01\r\u001b[K     |██████████████                  | 153kB 2.7MB/s eta 0:00:01\r\u001b[K     |███████████████                 | 163kB 2.7MB/s eta 0:00:01\r\u001b[K     |███████████████▉                | 174kB 2.7MB/s eta 0:00:01\r\u001b[K     |████████████████▊               | 184kB 2.7MB/s eta 0:00:01\r\u001b[K     |█████████████████▊              | 194kB 2.7MB/s eta 0:00:01\r\u001b[K     |██████████████████▋             | 204kB 2.7MB/s eta 0:00:01\r\u001b[K     |███████████████████▋            | 215kB 2.7MB/s eta 0:00:01\r\u001b[K     |████████████████████▌           | 225kB 2.7MB/s eta 0:00:01\r\u001b[K     |█████████████████████▍          | 235kB 2.7MB/s eta 0:00:01\r\u001b[K     |██████████████████████▍         | 245kB 2.7MB/s eta 0:00:01\r\u001b[K     |███████████████████████▎        | 256kB 2.7MB/s eta 0:00:01\r\u001b[K     |████████████████████████▎       | 266kB 2.7MB/s eta 0:00:01\r\u001b[K     |█████████████████████████▏      | 276kB 2.7MB/s eta 0:00:01\r\u001b[K     |██████████████████████████      | 286kB 2.7MB/s eta 0:00:01\r\u001b[K     |███████████████████████████     | 296kB 2.7MB/s eta 0:00:01\r\u001b[K     |████████████████████████████    | 307kB 2.7MB/s eta 0:00:01\r\u001b[K     |█████████████████████████████   | 317kB 2.7MB/s eta 0:00:01\r\u001b[K     |█████████████████████████████▉  | 327kB 2.7MB/s eta 0:00:01\r\u001b[K     |██████████████████████████████▊ | 337kB 2.7MB/s eta 0:00:01\r\u001b[K     |███████████████████████████████▊| 348kB 2.7MB/s eta 0:00:01\r\u001b[K     |████████████████████████████████| 358kB 2.7MB/s \n",
            "\u001b[?25hRequirement already satisfied: joblib in /usr/local/lib/python3.6/dist-packages (from deepchem) (0.16.0)\n",
            "Requirement already satisfied: numpy in /usr/local/lib/python3.6/dist-packages (from deepchem) (1.18.5)\n",
            "Requirement already satisfied: pandas in /usr/local/lib/python3.6/dist-packages (from deepchem) (1.0.5)\n",
            "Requirement already satisfied: scikit-learn in /usr/local/lib/python3.6/dist-packages (from deepchem) (0.22.2.post1)\n",
            "Requirement already satisfied: scipy in /usr/local/lib/python3.6/dist-packages (from deepchem) (1.4.1)\n",
            "Requirement already satisfied: python-dateutil>=2.6.1 in /usr/local/lib/python3.6/dist-packages (from pandas->deepchem) (2.8.1)\n",
            "Requirement already satisfied: pytz>=2017.2 in /usr/local/lib/python3.6/dist-packages (from pandas->deepchem) (2018.9)\n",
            "Requirement already satisfied: six>=1.5 in /usr/local/lib/python3.6/dist-packages (from python-dateutil>=2.6.1->pandas->deepchem) (1.15.0)\n",
            "Building wheels for collected packages: deepchem\n",
            "  Building wheel for deepchem (setup.py) ... \u001b[?25l\u001b[?25hdone\n",
            "  Created wheel for deepchem: filename=deepchem-2.4.0rc1.dev20200805142009-cp36-none-any.whl size=438623 sha256=b6a57ab49a1c0c5f2a55b15b427848f418b92817ce1818e7c0d0054d0b1a7674\n",
            "  Stored in directory: /root/.cache/pip/wheels/41/0f/fe/5f2659dc8e26624863654100f689d8f36cae7c872d2b310394\n",
            "Successfully built deepchem\n",
            "Installing collected packages: deepchem\n",
            "Successfully installed deepchem-2.4.0rc1.dev20200805142009\n"
          ],
          "name": "stdout"
        },
        {
          "output_type": "execute_result",
          "data": {
            "application/vnd.google.colaboratory.intrinsic+json": {
              "type": "string"
            },
            "text/plain": [
              "'2.4.0-rc1.dev'"
            ]
          },
          "metadata": {
            "tags": []
          },
          "execution_count": 2
        }
      ]
    },
    {
      "cell_type": "markdown",
      "metadata": {
        "id": "omxBgQVDh12B",
        "colab_type": "text"
      },
      "source": [
        "Let's start with some basic imports"
      ]
    },
    {
      "cell_type": "code",
      "metadata": {
        "id": "Sp5Hbb4nh12C",
        "colab_type": "code",
        "colab": {}
      },
      "source": [
        "from __future__ import print_function\n",
        "from __future__ import division\n",
        "from __future__ import unicode_literals\n",
        "\n",
        "import numpy as np\n",
        "from rdkit import Chem\n",
        "\n",
        "from deepchem.feat import ConvMolFeaturizer, WeaveFeaturizer, CircularFingerprint\n",
        "from deepchem.feat import AdjacencyFingerprint, RDKitDescriptors\n",
        "from deepchem.feat import BPSymmetryFunctionInput, CoulombMatrix, CoulombMatrixEig\n",
        "from deepchem.utils import conformers"
      ],
      "execution_count": 3,
      "outputs": []
    },
    {
      "cell_type": "markdown",
      "metadata": {
        "id": "_bC1mPM4h12F",
        "colab_type": "text"
      },
      "source": [
        "We use `propane`( $CH_3 CH_2 CH_3 $ ) as a running example throughout this tutorial. Many of the featurization methods use conformers or the molecules. A conformer can be generated using the `ConformerGenerator` class in `deepchem.utils.conformers`. "
      ]
    },
    {
      "cell_type": "markdown",
      "metadata": {
        "id": "4D9z0slLh12G",
        "colab_type": "text"
      },
      "source": [
        "### RDKitDescriptors"
      ]
    },
    {
      "cell_type": "markdown",
      "metadata": {
        "id": "oCfATWYIh12H",
        "colab_type": "text"
      },
      "source": [
        "`RDKitDescriptors` featurizes a molecule by computing descriptors values for specified descriptors. Intrinsic to the featurizer is a set of allowed descriptors, which can be accessed using `RDKitDescriptors.allowedDescriptors`.\n",
        "\n",
        "The featurizer uses the descriptors in `rdkit.Chem.Descriptors.descList`, checks if they are in the list of allowed descriptors and computes the descriptor value for the molecule."
      ]
    },
    {
      "cell_type": "code",
      "metadata": {
        "id": "WUfNkB5Wh12I",
        "colab_type": "code",
        "colab": {}
      },
      "source": [
        "example_smile = \"CCC\"\n",
        "example_mol = Chem.MolFromSmiles(example_smile)"
      ],
      "execution_count": 4,
      "outputs": []
    },
    {
      "cell_type": "markdown",
      "metadata": {
        "id": "Xxb9G_W9h12L",
        "colab_type": "text"
      },
      "source": [
        "Let's check the allowed list of descriptors. As you will see shortly, there's a wide range of chemical properties that RDKit computes for us."
      ]
    },
    {
      "cell_type": "code",
      "metadata": {
        "id": "3dt_vjtXh12N",
        "colab_type": "code",
        "colab": {
          "base_uri": "https://localhost:8080/",
          "height": 1000
        },
        "outputId": "cc1b1b21-6be3-41e3-fb76-df3047fcbfdc"
      },
      "source": [
        "for descriptor in RDKitDescriptors.allowedDescriptors:\n",
        "    print(descriptor)"
      ],
      "execution_count": 5,
      "outputs": [
        {
          "output_type": "stream",
          "text": [
            "NumRotatableBonds\n",
            "HeavyAtomMolWt\n",
            "Chi1v\n",
            "Ipc\n",
            "Chi3n\n",
            "VSA_EState5\n",
            "EState_VSA7\n",
            "VSA_EState9\n",
            "Chi0v\n",
            "NumAromaticRings\n",
            "NumHAcceptors\n",
            "MolLogP\n",
            "SMR_VSA3\n",
            "MaxAbsPartialCharge\n",
            "Chi4v\n",
            "VSA_EState8\n",
            "NumHDonors\n",
            "VSA_EState10\n",
            "BalabanJ\n",
            "Kappa2\n",
            "SlogP_VSA10\n",
            "PEOE_VSA2\n",
            "EState_VSA11\n",
            "MolMR\n",
            "EState_VSA9\n",
            "BertzCT\n",
            "EState_VSA4\n",
            "ExactMolWt\n",
            "VSA_EState7\n",
            "EState_VSA8\n",
            "SlogP_VSA11\n",
            "MinAbsPartialCharge\n",
            "EState_VSA3\n",
            "VSA_EState1\n",
            "NOCount\n",
            "SlogP_VSA3\n",
            "NumAromaticCarbocycles\n",
            "PEOE_VSA9\n",
            "EState_VSA6\n",
            "NumAliphaticCarbocycles\n",
            "NumSaturatedCarbocycles\n",
            "Kappa3\n",
            "TPSA\n",
            "SlogP_VSA1\n",
            "SMR_VSA4\n",
            "Chi4n\n",
            "SlogP_VSA2\n",
            "NHOHCount\n",
            "MinEStateIndex\n",
            "PEOE_VSA8\n",
            "Kappa1\n",
            "SMR_VSA2\n",
            "NumSaturatedRings\n",
            "Chi1\n",
            "Chi3v\n",
            "MinPartialCharge\n",
            "SlogP_VSA8\n",
            "SMR_VSA7\n",
            "RingCount\n",
            "VSA_EState2\n",
            "Chi2n\n",
            "PEOE_VSA10\n",
            "SlogP_VSA4\n",
            "PEOE_VSA14\n",
            "NumSaturatedHeterocycles\n",
            "PEOE_VSA12\n",
            "SlogP_VSA6\n",
            "Chi1n\n",
            "NumAliphaticRings\n",
            "PEOE_VSA4\n",
            "HeavyAtomCount\n",
            "Chi0\n",
            "SlogP_VSA7\n",
            "PEOE_VSA7\n",
            "Chi0n\n",
            "Chi2v\n",
            "SMR_VSA10\n",
            "PEOE_VSA5\n",
            "VSA_EState3\n",
            "FractionCSP3\n",
            "VSA_EState4\n",
            "PEOE_VSA11\n",
            "VSA_EState6\n",
            "PEOE_VSA13\n",
            "NumAromaticHeterocycles\n",
            "SMR_VSA6\n",
            "SlogP_VSA9\n",
            "PEOE_VSA3\n",
            "EState_VSA1\n",
            "MolWt\n",
            "NumRadicalElectrons\n",
            "MaxPartialCharge\n",
            "SMR_VSA1\n",
            "EState_VSA5\n",
            "NumAliphaticHeterocycles\n",
            "SMR_VSA9\n",
            "PEOE_VSA6\n",
            "LabuteASA\n",
            "MinAbsEStateIndex\n",
            "SMR_VSA8\n",
            "SlogP_VSA5\n",
            "EState_VSA2\n",
            "SMR_VSA5\n",
            "PEOE_VSA1\n",
            "NumHeteroatoms\n",
            "HallKierAlpha\n",
            "MaxAbsEStateIndex\n",
            "EState_VSA10\n",
            "NumValenceElectrons\n",
            "SlogP_VSA12\n",
            "MaxEStateIndex\n"
          ],
          "name": "stdout"
        }
      ]
    },
    {
      "cell_type": "code",
      "metadata": {
        "id": "KfyDpE81h12Q",
        "colab_type": "code",
        "colab": {
          "base_uri": "https://localhost:8080/",
          "height": 34
        },
        "outputId": "f93e0200-a333-4526-bf48-9394e2805de1"
      },
      "source": [
        "rdkit_desc = RDKitDescriptors()\n",
        "features = rdkit_desc._featurize(example_mol)\n",
        "\n",
        "print('The number of descriptors present are: ', len(features))"
      ],
      "execution_count": 6,
      "outputs": [
        {
          "output_type": "stream",
          "text": [
            "The number of descriptors present are:  111\n"
          ],
          "name": "stdout"
        }
      ]
    },
    {
      "cell_type": "markdown",
      "metadata": {
        "id": "hE6G0Gboh12T",
        "colab_type": "text"
      },
      "source": [
        "### BPSymmetryFunction"
      ]
    },
    {
      "cell_type": "markdown",
      "metadata": {
        "id": "41RwzbTth12U",
        "colab_type": "text"
      },
      "source": [
        "`Behler-Parinello Symmetry function` or `BPSymmetryFunction` featurizes a molecule by computing the atomic number and coordinates for each atom in the molecule. The features can be used as input for symmetry functions, like `RadialSymmetry`, `DistanceMatrix` and `DistanceCutoff` . More details on these symmetry functions can be found in [this paper](https://journals.aps.org/prl/pdf/10.1103/PhysRevLett.98.146401). These functions can be found in `deepchem.feat.coulomb_matrices`\n",
        "\n",
        "The featurizer takes in `max_atoms` as an argument. As input, it takes in a conformer of the molecule and computes:\n",
        "\n",
        "1. coordinates of every atom in the molecule (in Bohr units)\n",
        "2. the atomic numbers for all atoms. \n",
        "\n",
        "These features are concantenated and padded with zeros to account for different number of atoms, across molecules."
      ]
    },
    {
      "cell_type": "code",
      "metadata": {
        "id": "PpbPi0Qah12V",
        "colab_type": "code",
        "colab": {}
      },
      "source": [
        "example_smile = \"CCC\"\n",
        "example_mol = Chem.MolFromSmiles(example_smile)\n",
        "engine = conformers.ConformerGenerator(max_conformers=1)\n",
        "example_mol = engine.generate_conformers(example_mol)"
      ],
      "execution_count": 7,
      "outputs": []
    },
    {
      "cell_type": "markdown",
      "metadata": {
        "id": "j7WrM5phh12X",
        "colab_type": "text"
      },
      "source": [
        "Let's now take a look at the actual featurized matrix that comes out."
      ]
    },
    {
      "cell_type": "code",
      "metadata": {
        "id": "IuPE4MXZh12Y",
        "colab_type": "code",
        "colab": {
          "base_uri": "https://localhost:8080/",
          "height": 357
        },
        "outputId": "d68c918d-eed2-45d6-b6e1-4a125cef4d80"
      },
      "source": [
        "bp_sym = BPSymmetryFunctionInput(max_atoms=20)\n",
        "features = bp_sym._featurize(mol=example_mol)\n",
        "features"
      ],
      "execution_count": 8,
      "outputs": [
        {
          "output_type": "execute_result",
          "data": {
            "text/plain": [
              "array([[ 6.        ,  2.33166293, -0.52962788, -0.48097309],\n",
              "       [ 6.        ,  0.0948792 ,  1.07597567, -1.33579553],\n",
              "       [ 6.        , -2.40436371, -0.29483572, -0.90388318],\n",
              "       [ 1.        ,  2.18166462, -0.95639011,  1.569049  ],\n",
              "       [ 1.        ,  4.1178375 ,  0.51816193, -0.81949623],\n",
              "       [ 1.        ,  2.39319787, -2.32844253, -1.56157176],\n",
              "       [ 1.        ,  0.29919987,  1.51730566, -3.37889252],\n",
              "       [ 1.        ,  0.08875543,  2.88229706, -0.26437996],\n",
              "       [ 1.        , -3.99100651,  0.92016315, -1.54358853],\n",
              "       [ 1.        , -2.66167993, -0.71627602,  1.136556  ],\n",
              "       [ 1.        , -2.45014726, -2.08833123, -1.99406318],\n",
              "       [ 0.        ,  0.        ,  0.        ,  0.        ],\n",
              "       [ 0.        ,  0.        ,  0.        ,  0.        ],\n",
              "       [ 0.        ,  0.        ,  0.        ,  0.        ],\n",
              "       [ 0.        ,  0.        ,  0.        ,  0.        ],\n",
              "       [ 0.        ,  0.        ,  0.        ,  0.        ],\n",
              "       [ 0.        ,  0.        ,  0.        ,  0.        ],\n",
              "       [ 0.        ,  0.        ,  0.        ,  0.        ],\n",
              "       [ 0.        ,  0.        ,  0.        ,  0.        ],\n",
              "       [ 0.        ,  0.        ,  0.        ,  0.        ]])"
            ]
          },
          "metadata": {
            "tags": []
          },
          "execution_count": 8
        }
      ]
    },
    {
      "cell_type": "markdown",
      "metadata": {
        "id": "2w0oGOgMh12b",
        "colab_type": "text"
      },
      "source": [
        "A simple check for the featurization would be to count the different atomic numbers present in the features."
      ]
    },
    {
      "cell_type": "code",
      "metadata": {
        "id": "1rbcGUf6h12c",
        "colab_type": "code",
        "colab": {
          "base_uri": "https://localhost:8080/",
          "height": 34
        },
        "outputId": "c458707a-47b3-4f62-91c1-b62059218660"
      },
      "source": [
        "atomic_numbers = features[:, 0]\n",
        "from collections import Counter\n",
        "\n",
        "unique_numbers = Counter(atomic_numbers)\n",
        "print(unique_numbers)"
      ],
      "execution_count": 9,
      "outputs": [
        {
          "output_type": "stream",
          "text": [
            "Counter({0.0: 9, 1.0: 8, 6.0: 3})\n"
          ],
          "name": "stdout"
        }
      ]
    },
    {
      "cell_type": "markdown",
      "metadata": {
        "id": "f8T557NOh12e",
        "colab_type": "text"
      },
      "source": [
        "For propane, we have $3$ `C-atoms` and $8$ `H-atoms`, and these numbers are in agreement with the results shown above. There's also the additional padding of 9 atoms, to equalize with `max_atoms`."
      ]
    },
    {
      "cell_type": "markdown",
      "metadata": {
        "id": "o-5L6sx0h12f",
        "colab_type": "text"
      },
      "source": [
        "### CoulombMatrix"
      ]
    },
    {
      "cell_type": "markdown",
      "metadata": {
        "id": "SF3l5yJ4h12f",
        "colab_type": "text"
      },
      "source": [
        "`CoulombMatrix`, featurizes a molecule by computing the coulomb matrices for different conformers of the molecule, and returning it as a list.\n",
        "\n",
        "A Coulomb matrix tries to encode the energy structure of a molecule. The matrix is symmetric, with the off-diagonal elements capturing the Coulombic repulsion between pairs of atoms and the diagonal elements capturing atomic energies using the atomic numbers. More information on the functional forms used can be found [here](https://journals.aps.org/prl/pdf/10.1103/PhysRevLett.108.058301).\n",
        "\n",
        "The featurizer takes in `max_atoms` as an argument and also has options for removing hydrogens from the molecule (`remove_hydrogens`), generating additional random coulomb matrices(`randomize`), and getting only the upper triangular matrix (`upper_tri`)."
      ]
    },
    {
      "cell_type": "code",
      "metadata": {
        "id": "evLPEI6mh12g",
        "colab_type": "code",
        "colab": {
          "base_uri": "https://localhost:8080/",
          "height": 34
        },
        "outputId": "b26508cd-3f64-4b3b-a3ca-99e23a2c5661"
      },
      "source": [
        "example_smile = \"CCC\"\n",
        "example_mol = Chem.MolFromSmiles(example_smile)\n",
        "\n",
        "engine = conformers.ConformerGenerator(max_conformers=1)\n",
        "example_mol = engine.generate_conformers(example_mol)\n",
        "\n",
        "print(\"Number of available conformers for propane: \", len(example_mol.GetConformers()))"
      ],
      "execution_count": 10,
      "outputs": [
        {
          "output_type": "stream",
          "text": [
            "Number of available conformers for propane:  1\n"
          ],
          "name": "stdout"
        }
      ]
    },
    {
      "cell_type": "code",
      "metadata": {
        "id": "pPIqy39Ih12i",
        "colab_type": "code",
        "colab": {
          "base_uri": "https://localhost:8080/",
          "height": 51
        },
        "outputId": "58f27645-0142-4704-fc3c-d3de06126dd8"
      },
      "source": [
        "coulomb_mat = CoulombMatrix(max_atoms=20, randomize=False, remove_hydrogens=False, upper_tri=False)\n",
        "features = coulomb_mat._featurize(mol=example_mol)"
      ],
      "execution_count": 11,
      "outputs": [
        {
          "output_type": "stream",
          "text": [
            "/usr/local/lib/python3.6/dist-packages/deepchem/feat/coulomb_matrices.py:171: RuntimeWarning: divide by zero encountered in true_divide\n",
            "  m = np.outer(z, z) / d\n"
          ],
          "name": "stderr"
        }
      ]
    },
    {
      "cell_type": "markdown",
      "metadata": {
        "id": "Uyq3Xk3sh12l",
        "colab_type": "text"
      },
      "source": [
        "A simple check for the featurization is to see if the feature list has the same length as the number of conformers"
      ]
    },
    {
      "cell_type": "code",
      "metadata": {
        "id": "ShTPO4wIh12l",
        "colab_type": "code",
        "colab": {
          "base_uri": "https://localhost:8080/",
          "height": 34
        },
        "outputId": "24a445c1-8dc9-40fd-d177-2b09cc17196d"
      },
      "source": [
        "print(len(example_mol.GetConformers()) == len(features))"
      ],
      "execution_count": 12,
      "outputs": [
        {
          "output_type": "stream",
          "text": [
            "True\n"
          ],
          "name": "stdout"
        }
      ]
    },
    {
      "cell_type": "markdown",
      "metadata": {
        "id": "P-sGs7W2h12p",
        "colab_type": "text"
      },
      "source": [
        "### CoulombMatrixEig"
      ]
    },
    {
      "cell_type": "markdown",
      "metadata": {
        "id": "9NTjtDUzh12p",
        "colab_type": "text"
      },
      "source": [
        "`CoulombMatrix` is invariant to molecular rotation and translation, since the interatomic distances or atomic numbers do not change. However the matrix is not invariant to random permutations of the atom's indices. To deal with this, the `CoulumbMatrixEig` featurizer was introduced, which uses the eigenvalue spectrum of the columb matrix, and is invariant to random permutations of the atom's indices.\n",
        "\n",
        "`CoulombMatrixEig` inherits from `CoulombMatrix` and featurizes a molecule by first computing the coulomb matrices for different conformers of the molecule and then computing the eigenvalues for each coulomb matrix. These eigenvalues are then padded to account for variation in number of atoms across molecules.\n",
        "\n",
        "The featurizer takes in `max_atoms` as an argument and also has options for removing hydrogens from the molecule (`remove_hydrogens`), generating additional random coulomb matrices(`randomize`)."
      ]
    },
    {
      "cell_type": "code",
      "metadata": {
        "id": "XnNZB-Kxh12q",
        "colab_type": "code",
        "colab": {
          "base_uri": "https://localhost:8080/",
          "height": 34
        },
        "outputId": "05bf3942-850d-4688-e30e-e8f65358ea6c"
      },
      "source": [
        "example_smile = \"CCC\"\n",
        "example_mol = Chem.MolFromSmiles(example_smile)\n",
        "\n",
        "engine = conformers.ConformerGenerator(max_conformers=1)\n",
        "example_mol = engine.generate_conformers(example_mol)\n",
        "\n",
        "print(\"Number of available conformers for propane: \", len(example_mol.GetConformers()))"
      ],
      "execution_count": 13,
      "outputs": [
        {
          "output_type": "stream",
          "text": [
            "Number of available conformers for propane:  1\n"
          ],
          "name": "stdout"
        }
      ]
    },
    {
      "cell_type": "code",
      "metadata": {
        "id": "ga1-nNiWh12t",
        "colab_type": "code",
        "colab": {
          "base_uri": "https://localhost:8080/",
          "height": 51
        },
        "outputId": "2af34b7d-ec56-41fe-d702-ee815d7671f6"
      },
      "source": [
        "coulomb_mat_eig = CoulombMatrixEig(max_atoms=20, randomize=False, remove_hydrogens=False)\n",
        "features = coulomb_mat_eig._featurize(mol=example_mol)"
      ],
      "execution_count": 14,
      "outputs": [
        {
          "output_type": "stream",
          "text": [
            "/usr/local/lib/python3.6/dist-packages/deepchem/feat/coulomb_matrices.py:171: RuntimeWarning: divide by zero encountered in true_divide\n",
            "  m = np.outer(z, z) / d\n"
          ],
          "name": "stderr"
        }
      ]
    },
    {
      "cell_type": "code",
      "metadata": {
        "id": "_8PBHQYLh12v",
        "colab_type": "code",
        "colab": {
          "base_uri": "https://localhost:8080/",
          "height": 34
        },
        "outputId": "1858e53c-de61-4b7d-f1ae-d1e8e013d49b"
      },
      "source": [
        "print(len(example_mol.GetConformers()) == len(features))"
      ],
      "execution_count": 15,
      "outputs": [
        {
          "output_type": "stream",
          "text": [
            "True\n"
          ],
          "name": "stdout"
        }
      ]
    },
    {
      "cell_type": "markdown",
      "metadata": {
        "id": "tm9ac-k8h12x",
        "colab_type": "text"
      },
      "source": [
        "### Adjacency Fingerprints"
      ]
    },
    {
      "cell_type": "markdown",
      "metadata": {
        "id": "iBZBDvMYh12y",
        "colab_type": "text"
      },
      "source": [
        "TODO(rbharath): This tutorial still needs to be expanded out with the additional fingerprints."
      ]
    },
    {
      "cell_type": "markdown",
      "metadata": {
        "id": "wssi6cBmh12z",
        "colab_type": "text"
      },
      "source": [
        "# Congratulations! Time to join the Community!\n",
        "\n",
        "Congratulations on completing this tutorial notebook! If you enjoyed working through the tutorial, and want to continue working with DeepChem, we encourage you to finish the rest of the tutorials in this series. You can also help the DeepChem community in the following ways:\n",
        "\n",
        "## Star DeepChem on [GitHub](https://github.com/deepchem/deepchem)\n",
        "This helps build awareness of the DeepChem project and the tools for open source drug discovery that we're trying to build.\n",
        "\n",
        "## Join the DeepChem Gitter\n",
        "The DeepChem [Gitter](https://gitter.im/deepchem/Lobby) hosts a number of scientists, developers, and enthusiasts interested in deep learning for the life sciences. Join the conversation!"
      ]
    }
  ]
}