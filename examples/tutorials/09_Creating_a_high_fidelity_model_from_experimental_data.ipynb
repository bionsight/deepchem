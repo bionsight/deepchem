{
  "nbformat": 4,
  "nbformat_minor": 0,
  "metadata": {
    "kernelspec": {
      "display_name": "Python 3",
      "language": "python",
      "name": "python3"
    },
    "language_info": {
      "codemirror_mode": {
        "name": "ipython",
        "version": 3
      },
      "file_extension": ".py",
      "mimetype": "text/x-python",
      "name": "python",
      "nbconvert_exporter": "python",
      "pygments_lexer": "ipython3",
      "version": "3.6.10"
    },
    "colab": {
      "name": "09_Creating_a_high_fidelity_model_from_experimental_data.ipynb",
      "provenance": []
    }
  },
  "cells": [
    {
      "cell_type": "markdown",
      "metadata": {
        "id": "6MNHvkiBl55x",
        "colab_type": "text"
      },
      "source": [
        "# Tutorial Part 9: Creating a high fidelity dataset from experimental data"
      ]
    },
    {
      "cell_type": "markdown",
      "metadata": {
        "id": "S2FM7Mwil554",
        "colab_type": "text"
      },
      "source": [
        "Suppose you were given data collected by an experimental collaborator.  You would like to use this data to construct a machine learning model. \n",
        "\n",
        "*How do you transform this data into a dataset capable of creating a useful model?*"
      ]
    },
    {
      "cell_type": "markdown",
      "metadata": {
        "id": "xpVK4q5Ol558",
        "colab_type": "text"
      },
      "source": [
        "Building models from novel data can present several challenges.  Perhaps the data was not recorded in a convenient manner.  Additionally, perhaps the data contains noise.  This is a common occurance with, for example, biological assays due to the large number of external variables and the difficulty and cost associated with collecting multiple samples.  This is a problem because you do not want your model to fit to this noise.\n",
        "\n",
        "Hence, there are two primary challenges:\n",
        "* Parsing data\n",
        "* De-noising data\n",
        "    \n",
        "In this tutorial, will walk through an example of curating a dataset from an excel spreadsheet of experimental drug  measurements. Before we dive into this example though, let's do a brief review of DeepChem's input file handling and featurization capabilities.\n",
        "\n",
        "### Input Formats\n",
        "DeepChem supports a whole range of input files. For example, accepted input formats for deepchem include .csv, .sdf, .fasta, .png, .tif and other file formats. The loading for a particular file format is governed by `Loader` class associated with that format. For example, with a csv input, we use the `CSVLoader` class underneath the hood. Here's an example of a sample .csv file that fits the requirements of `CSVLoader`.\n",
        "\n",
        "1. A column containing SMILES strings [1].\n",
        "2. A column containing an experimental measurement.\n",
        "3. (Optional) A column containing a unique compound identifier.\n",
        "\n",
        "Here's an example of a potential input file.\n",
        "\n",
        "|Compound ID    | measured log solubility in mols per litre | smiles         |\n",
        "|---------------|-------------------------------------------|----------------|\n",
        "| benzothiazole | -1.5                                      | c2ccc1scnc1c2  |\n",
        "\n",
        "\n",
        "Here the \"smiles\" column contains the SMILES string, the \"measured log\n",
        "solubility in mols per litre\" contains the experimental measurement and\n",
        "\"Compound ID\" contains the unique compound identifier.\n",
        "\n",
        "### Data Featurization \n",
        "\n",
        "Most machine learning algorithms require that input data form vectors. However, input data for drug-discovery datasets routinely come in the format of lists of molecules and associated experimental readouts. To       \n",
        "transform lists of molecules into vectors, we need to subclasses of DeepChem loader class ```dc.data.DataLoader``` such as ```dc.data.CSVLoader``` or ```dc.data.SDFLoader```. Users can subclass ```dc.data.DataLoader``` to\n",
        "load arbitrary file formats. All loaders must be passed a ```dc.feat.Featurizer``` object. DeepChem provides a number of different subclasses of ```dc.feat.Featurizer``` for convenience.\n",
        "\n",
        "## Colab\n",
        "\n",
        "This tutorial and the rest in this sequence are designed to be done in Google colab. If you'd like to open this notebook in colab, you can use the following link.\n",
        "\n",
        "[![Open In Colab](https://colab.research.google.com/assets/colab-badge.svg)](https://colab.research.google.com/github/deepchem/deepchem/blob/master/examples/tutorials/09_Creating_a_high_fidelity_model_from_experimental_data.ipynb)\n",
        "\n",
        "## Setup\n",
        "\n",
        "To run DeepChem within Colab, you'll need to run the following cell of installation commands. This will take about 5 minutes to run to completion and install your environment."
      ]
    },
    {
      "cell_type": "code",
      "metadata": {
        "id": "tbLbuh6wl8tX",
        "colab_type": "code",
        "colab": {
          "base_uri": "https://localhost:8080/",
          "height": 323
        },
        "outputId": "5ddc020c-80ff-42fe-fe5b-85dd0b25446f"
      },
      "source": [
        "#!curl -Lo conda_installer.py https://raw.githubusercontent.com/deepchem/deepchem/master/scripts/colab_install.py\n",
        "!curl -Lo conda_installer.py https://gist.githubusercontent.com/nd-02110114/919a2d5a5f44992c1591e2c213208399/raw/5ae8bf7bd2b523c3c6b02971824cca2a26b96de2/deepchem_installer.py\n",
        "import conda_installer\n",
        "conda_installer.install()\n",
        "!/root/miniconda/bin/conda info -e"
      ],
      "execution_count": 1,
      "outputs": [
        {
          "output_type": "stream",
          "text": [
            "  % Total    % Received % Xferd  Average Speed   Time    Time     Time  Current\n",
            "                                 Dload  Upload   Total   Spent    Left  Speed\n",
            "\r  0     0    0     0    0     0      0      0 --:--:-- --:--:-- --:--:--     0\r100  3489  100  3489    0     0  35602      0 --:--:-- --:--:-- --:--:-- 35602\n"
          ],
          "name": "stdout"
        },
        {
          "output_type": "stream",
          "text": [
            "add /root/miniconda/lib/python3.6/site-packages to PYTHONPATH\n",
            "python version: 3.6.9\n",
            "fetching installer from https://repo.continuum.io/miniconda/Miniconda3-latest-Linux-x86_64.sh\n",
            "done\n",
            "installing miniconda to /root/miniconda\n",
            "done\n",
            "installing rdkit, openmm, pdbfixer\n",
            "added omnia to channels\n",
            "added conda-forge to channels\n",
            "done\n",
            "conda packages installation finished!\n"
          ],
          "name": "stderr"
        },
        {
          "output_type": "stream",
          "text": [
            "# conda environments:\n",
            "#\n",
            "base                  *  /root/miniconda\n",
            "\n"
          ],
          "name": "stdout"
        }
      ]
    },
    {
      "cell_type": "code",
      "metadata": {
        "id": "iR6NiQ6rLqbK",
        "colab_type": "code",
        "colab": {
          "base_uri": "https://localhost:8080/",
          "height": 361
        },
        "outputId": "5c2fb16e-80c3-40c7-9a05-2e9e3c397a99"
      },
      "source": [
        "!pip install --pre deepchem\n",
        "import deepchem\n",
        "deepchem.__version__"
      ],
      "execution_count": 2,
      "outputs": [
        {
          "output_type": "stream",
          "text": [
            "Collecting deepchem\n",
            "\u001b[?25l  Downloading https://files.pythonhosted.org/packages/b5/d7/3ba15ec6f676ef4d93855d01e40cba75e231339e7d9ea403a2f53cabbab0/deepchem-2.4.0rc1.dev20200805054153.tar.gz (351kB)\n",
            "\u001b[K     |████████████████████████████████| 358kB 2.8MB/s \n",
            "\u001b[?25hRequirement already satisfied: joblib in /usr/local/lib/python3.6/dist-packages (from deepchem) (0.16.0)\n",
            "Requirement already satisfied: numpy in /usr/local/lib/python3.6/dist-packages (from deepchem) (1.18.5)\n",
            "Requirement already satisfied: pandas in /usr/local/lib/python3.6/dist-packages (from deepchem) (1.0.5)\n",
            "Requirement already satisfied: scikit-learn in /usr/local/lib/python3.6/dist-packages (from deepchem) (0.22.2.post1)\n",
            "Requirement already satisfied: scipy in /usr/local/lib/python3.6/dist-packages (from deepchem) (1.4.1)\n",
            "Requirement already satisfied: python-dateutil>=2.6.1 in /usr/local/lib/python3.6/dist-packages (from pandas->deepchem) (2.8.1)\n",
            "Requirement already satisfied: pytz>=2017.2 in /usr/local/lib/python3.6/dist-packages (from pandas->deepchem) (2018.9)\n",
            "Requirement already satisfied: six>=1.5 in /usr/local/lib/python3.6/dist-packages (from python-dateutil>=2.6.1->pandas->deepchem) (1.15.0)\n",
            "Building wheels for collected packages: deepchem\n",
            "  Building wheel for deepchem (setup.py) ... \u001b[?25l\u001b[?25hdone\n",
            "  Created wheel for deepchem: filename=deepchem-2.4.0rc1.dev20200805151523-cp36-none-any.whl size=438623 sha256=b243addb7dcfc9ca97d0fec3d84f0ce41f1a55a12896d4fab5a5568d2b446387\n",
            "  Stored in directory: /root/.cache/pip/wheels/41/0f/fe/5f2659dc8e26624863654100f689d8f36cae7c872d2b310394\n",
            "Successfully built deepchem\n",
            "Installing collected packages: deepchem\n",
            "Successfully installed deepchem-2.4.0rc1.dev20200805151523\n"
          ],
          "name": "stdout"
        },
        {
          "output_type": "execute_result",
          "data": {
            "application/vnd.google.colaboratory.intrinsic+json": {
              "type": "string"
            },
            "text/plain": [
              "'2.4.0-rc1.dev'"
            ]
          },
          "metadata": {
            "tags": []
          },
          "execution_count": 2
        }
      ]
    },
    {
      "cell_type": "markdown",
      "metadata": {
        "id": "-rrEZ5ihl56A",
        "colab_type": "text"
      },
      "source": [
        "## Parsing data"
      ]
    },
    {
      "cell_type": "markdown",
      "metadata": {
        "id": "a0AhOo1nl56D",
        "colab_type": "text"
      },
      "source": [
        "In order to read in the data, we will use the pandas data analysis library.  \n",
        "\n",
        "In order to convert the drug names into smiles strings, we will use pubchempy. This isn't a standard DeepChem dependency, but you can install this library with `pip install pubchempy`."
      ]
    },
    {
      "cell_type": "code",
      "metadata": {
        "id": "fYBi59mkl56F",
        "colab_type": "code",
        "colab": {
          "base_uri": "https://localhost:8080/",
          "height": 190
        },
        "outputId": "8536d712-eedf-411c-859c-4db4f7204dfa"
      },
      "source": [
        "!pip install pubchempy"
      ],
      "execution_count": 3,
      "outputs": [
        {
          "output_type": "stream",
          "text": [
            "Collecting pubchempy\n",
            "  Downloading https://files.pythonhosted.org/packages/aa/fb/8de3aa9804b614dbc8dc5c16ed061d819cc360e0ddecda3dcd01c1552339/PubChemPy-1.0.4.tar.gz\n",
            "Building wheels for collected packages: pubchempy\n",
            "  Building wheel for pubchempy (setup.py) ... \u001b[?25l\u001b[?25hdone\n",
            "  Created wheel for pubchempy: filename=PubChemPy-1.0.4-cp36-none-any.whl size=13825 sha256=8bce5e60517224b846e4cff4674794a631fad44acccd13956bc9b1b5234d4fc2\n",
            "  Stored in directory: /root/.cache/pip/wheels/10/4d/51/6b843681a9a5aef35f0d0fbce243de46f85080036e16118752\n",
            "Successfully built pubchempy\n",
            "Installing collected packages: pubchempy\n",
            "Successfully installed pubchempy-1.0.4\n"
          ],
          "name": "stdout"
        }
      ]
    },
    {
      "cell_type": "code",
      "metadata": {
        "id": "Gj-VYSail56Q",
        "colab_type": "code",
        "colab": {}
      },
      "source": [
        "import os\n",
        "import pandas as pd\n",
        "from pubchempy import get_cids, get_compounds"
      ],
      "execution_count": 4,
      "outputs": []
    },
    {
      "cell_type": "markdown",
      "metadata": {
        "id": "zwhTD4OBl56V",
        "colab_type": "text"
      },
      "source": [
        "Pandas is magic but it doesn't automatically know where to find your data of interest.  You likely will have to look at it first using a GUI.  \n",
        "\n",
        "We will now look at a screenshot of this dataset as rendered by LibreOffice.\n",
        "\n",
        "To do this, we will import Image and os."
      ]
    },
    {
      "cell_type": "code",
      "metadata": {
        "id": "5OxowmHIl56W",
        "colab_type": "code",
        "colab": {}
      },
      "source": [
        "import os\n",
        "from IPython.display import Image, display"
      ],
      "execution_count": 5,
      "outputs": []
    },
    {
      "cell_type": "code",
      "metadata": {
        "id": "2nRrzbyUl56c",
        "colab_type": "code",
        "colab": {}
      },
      "source": [
        "current_dir = os.path.dirname(os.path.realpath('__file__'))"
      ],
      "execution_count": 6,
      "outputs": []
    },
    {
      "cell_type": "code",
      "metadata": {
        "id": "6CrNCoe0l56s",
        "colab_type": "code",
        "colab": {}
      },
      "source": [
        "# data_screenshot = os.path.join(current_dir, 'assets/dataset_preparation_gui.png')\n",
        "# display(Image(filename=data_screenshot))"
      ],
      "execution_count": 7,
      "outputs": []
    },
    {
      "cell_type": "markdown",
      "metadata": {
        "id": "Ud2cRDy_l566",
        "colab_type": "text"
      },
      "source": [
        "We see the data of interest is on the second sheet, and contained in columns \"TA ID\", \"N #1 (%)\", and \"N #2 (%)\".\n",
        "\n",
        "Additionally, it appears much of this spreadsheet was formatted for human readability (multicolumn headers, column labels with spaces and symbols, etc.).  This makes the creation of a neat dataframe object harder.  For this reason we will cut everything that is unnecesary or inconvenient.\n",
        "\n"
      ]
    },
    {
      "cell_type": "code",
      "metadata": {
        "id": "hVJDAGT8mbl1",
        "colab_type": "code",
        "colab": {
          "base_uri": "https://localhost:8080/",
          "height": 309
        },
        "outputId": "52892aeb-f4e9-4a03-a7a3-1edaf512aa0d"
      },
      "source": [
        "!wget https://github.com/deepchem/deepchem/raw/master/datasets/Positive%20Modulators%20Summary_%20918.TUC%20_%20v1.xlsx"
      ],
      "execution_count": 8,
      "outputs": [
        {
          "output_type": "stream",
          "text": [
            "--2020-08-05 15:15:35--  https://github.com/deepchem/deepchem/raw/master/datasets/Positive%20Modulators%20Summary_%20918.TUC%20_%20v1.xlsx\n",
            "Resolving github.com (github.com)... 140.82.114.3\n",
            "Connecting to github.com (github.com)|140.82.114.3|:443... connected.\n",
            "HTTP request sent, awaiting response... 302 Found\n",
            "Location: https://raw.githubusercontent.com/deepchem/deepchem/master/datasets/Positive%20Modulators%20Summary_%20918.TUC%20_%20v1.xlsx [following]\n",
            "--2020-08-05 15:15:35--  https://raw.githubusercontent.com/deepchem/deepchem/master/datasets/Positive%20Modulators%20Summary_%20918.TUC%20_%20v1.xlsx\n",
            "Resolving raw.githubusercontent.com (raw.githubusercontent.com)... 151.101.0.133, 151.101.64.133, 151.101.128.133, ...\n",
            "Connecting to raw.githubusercontent.com (raw.githubusercontent.com)|151.101.0.133|:443... connected.\n",
            "HTTP request sent, awaiting response... 200 OK\n",
            "Length: 42852 (42K) [application/octet-stream]\n",
            "Saving to: ‘Positive Modulators Summary_ 918.TUC _ v1.xlsx’\n",
            "\n",
            "\r          Positive    0%[                    ]       0  --.-KB/s               \rPositive Modulators 100%[===================>]  41.85K  --.-KB/s    in 0.02s   \n",
            "\n",
            "2020-08-05 15:15:35 (1.64 MB/s) - ‘Positive Modulators Summary_ 918.TUC _ v1.xlsx’ saved [42852/42852]\n",
            "\n"
          ],
          "name": "stdout"
        }
      ]
    },
    {
      "cell_type": "code",
      "metadata": {
        "id": "pMvd0XzRl567",
        "colab_type": "code",
        "colab": {}
      },
      "source": [
        "raw_data_file = os.path.join(current_dir, 'Positive Modulators Summary_ 918.TUC _ v1.xlsx')\n",
        "raw_data_excel = pd.ExcelFile(raw_data_file)\n",
        "\n",
        "# second sheet only\n",
        "raw_data = raw_data_excel.parse(raw_data_excel.sheet_names[1])"
      ],
      "execution_count": 9,
      "outputs": []
    },
    {
      "cell_type": "code",
      "metadata": {
        "scrolled": true,
        "id": "ei2QwtnVl57D",
        "colab_type": "code",
        "colab": {
          "base_uri": "https://localhost:8080/",
          "height": 204
        },
        "outputId": "39406331-090a-4537-d9fd-74b9ba46172d"
      },
      "source": [
        "# preview 5 rows of raw dataframe\n",
        "raw_data.loc[raw_data.index[:5]]"
      ],
      "execution_count": 10,
      "outputs": [
        {
          "output_type": "execute_result",
          "data": {
            "text/html": [
              "<div>\n",
              "<style scoped>\n",
              "    .dataframe tbody tr th:only-of-type {\n",
              "        vertical-align: middle;\n",
              "    }\n",
              "\n",
              "    .dataframe tbody tr th {\n",
              "        vertical-align: top;\n",
              "    }\n",
              "\n",
              "    .dataframe thead th {\n",
              "        text-align: right;\n",
              "    }\n",
              "</style>\n",
              "<table border=\"1\" class=\"dataframe\">\n",
              "  <thead>\n",
              "    <tr style=\"text-align: right;\">\n",
              "      <th></th>\n",
              "      <th>Unnamed: 0</th>\n",
              "      <th>Unnamed: 1</th>\n",
              "      <th>Unnamed: 2</th>\n",
              "      <th>Metric #1 (-120 mV Peak)</th>\n",
              "      <th>Unnamed: 4</th>\n",
              "      <th>Unnamed: 5</th>\n",
              "      <th>Unnamed: 6</th>\n",
              "      <th>Unnamed: 7</th>\n",
              "    </tr>\n",
              "  </thead>\n",
              "  <tbody>\n",
              "    <tr>\n",
              "      <th>0</th>\n",
              "      <td>NaN</td>\n",
              "      <td>NaN</td>\n",
              "      <td>NaN</td>\n",
              "      <td>Vehicle</td>\n",
              "      <td>NaN</td>\n",
              "      <td>4</td>\n",
              "      <td>Replications</td>\n",
              "      <td>NaN</td>\n",
              "    </tr>\n",
              "    <tr>\n",
              "      <th>1</th>\n",
              "      <td>TA ##</td>\n",
              "      <td>Position</td>\n",
              "      <td>TA ID</td>\n",
              "      <td>Mean</td>\n",
              "      <td>SD</td>\n",
              "      <td>Threshold (%) = Mean + 4xSD</td>\n",
              "      <td>N #1 (%)</td>\n",
              "      <td>N #2 (%)</td>\n",
              "    </tr>\n",
              "    <tr>\n",
              "      <th>2</th>\n",
              "      <td>1</td>\n",
              "      <td>1-A02</td>\n",
              "      <td>Penicillin V Potassium</td>\n",
              "      <td>-12.8689</td>\n",
              "      <td>6.74705</td>\n",
              "      <td>14.1193</td>\n",
              "      <td>-10.404</td>\n",
              "      <td>-18.1929</td>\n",
              "    </tr>\n",
              "    <tr>\n",
              "      <th>3</th>\n",
              "      <td>2</td>\n",
              "      <td>1-A03</td>\n",
              "      <td>Mycophenolate Mofetil</td>\n",
              "      <td>-12.8689</td>\n",
              "      <td>6.74705</td>\n",
              "      <td>14.1193</td>\n",
              "      <td>-12.4453</td>\n",
              "      <td>-11.7175</td>\n",
              "    </tr>\n",
              "    <tr>\n",
              "      <th>4</th>\n",
              "      <td>3</td>\n",
              "      <td>1-A04</td>\n",
              "      <td>Metaxalone</td>\n",
              "      <td>-12.8689</td>\n",
              "      <td>6.74705</td>\n",
              "      <td>14.1193</td>\n",
              "      <td>-8.65572</td>\n",
              "      <td>-17.7753</td>\n",
              "    </tr>\n",
              "  </tbody>\n",
              "</table>\n",
              "</div>"
            ],
            "text/plain": [
              "  Unnamed: 0 Unnamed: 1  ...    Unnamed: 6 Unnamed: 7\n",
              "0        NaN        NaN  ...  Replications        NaN\n",
              "1      TA ##   Position  ...      N #1 (%)   N #2 (%)\n",
              "2          1      1-A02  ...       -10.404   -18.1929\n",
              "3          2      1-A03  ...      -12.4453   -11.7175\n",
              "4          3      1-A04  ...      -8.65572   -17.7753\n",
              "\n",
              "[5 rows x 8 columns]"
            ]
          },
          "metadata": {
            "tags": []
          },
          "execution_count": 10
        }
      ]
    },
    {
      "cell_type": "markdown",
      "metadata": {
        "id": "kfGr4zPSl57Q",
        "colab_type": "text"
      },
      "source": [
        "Note that the actual row headers are stored in row 1 and not 0 above."
      ]
    },
    {
      "cell_type": "code",
      "metadata": {
        "scrolled": true,
        "id": "adUjxQF2l57Z",
        "colab_type": "code",
        "colab": {
          "base_uri": "https://localhost:8080/",
          "height": 119
        },
        "outputId": "976bffc4-5792-4ba4-882d-660525ba229f"
      },
      "source": [
        "# remove column labels (rows 0 and 1), as we will replace them\n",
        "# only take data given in columns \"TA ID\" \"N #1 (%)\" (3) and \"N #2 (%)\" (4)\n",
        "raw_data = raw_data.iloc[2:, [2, 6, 7]]\n",
        "print(raw_data.loc[raw_data.index[:5]])\n",
        "\n",
        "## collapse multiindex so that drug names and number indexes are columns\n",
        "#raw_data.reset_index(level=[1, 2], inplace=True)\n",
        "# reset the index so we keep the label but number from 0 again\n",
        "raw_data.reset_index(inplace=True)\n",
        "\n",
        "## rename columns\n",
        "raw_data.columns = ['label', 'drug', 'n1', 'n2']"
      ],
      "execution_count": 11,
      "outputs": [
        {
          "output_type": "stream",
          "text": [
            "               Unnamed: 2 Unnamed: 6 Unnamed: 7\n",
            "2  Penicillin V Potassium    -10.404   -18.1929\n",
            "3   Mycophenolate Mofetil   -12.4453   -11.7175\n",
            "4              Metaxalone   -8.65572   -17.7753\n",
            "5           Terazosin·HCl   -11.5048    16.0825\n",
            "6          Fluvastatin·Na   -11.1354    -14.553\n"
          ],
          "name": "stdout"
        }
      ]
    },
    {
      "cell_type": "code",
      "metadata": {
        "id": "_AmIYJGjl57j",
        "colab_type": "code",
        "colab": {
          "base_uri": "https://localhost:8080/",
          "height": 204
        },
        "outputId": "402dd41a-d077-44d0-ed6f-dad28e0cef3b"
      },
      "source": [
        "# preview cleaner dataframe\n",
        "raw_data.loc[raw_data.index[:5]]"
      ],
      "execution_count": 12,
      "outputs": [
        {
          "output_type": "execute_result",
          "data": {
            "text/html": [
              "<div>\n",
              "<style scoped>\n",
              "    .dataframe tbody tr th:only-of-type {\n",
              "        vertical-align: middle;\n",
              "    }\n",
              "\n",
              "    .dataframe tbody tr th {\n",
              "        vertical-align: top;\n",
              "    }\n",
              "\n",
              "    .dataframe thead th {\n",
              "        text-align: right;\n",
              "    }\n",
              "</style>\n",
              "<table border=\"1\" class=\"dataframe\">\n",
              "  <thead>\n",
              "    <tr style=\"text-align: right;\">\n",
              "      <th></th>\n",
              "      <th>label</th>\n",
              "      <th>drug</th>\n",
              "      <th>n1</th>\n",
              "      <th>n2</th>\n",
              "    </tr>\n",
              "  </thead>\n",
              "  <tbody>\n",
              "    <tr>\n",
              "      <th>0</th>\n",
              "      <td>2</td>\n",
              "      <td>Penicillin V Potassium</td>\n",
              "      <td>-10.404</td>\n",
              "      <td>-18.1929</td>\n",
              "    </tr>\n",
              "    <tr>\n",
              "      <th>1</th>\n",
              "      <td>3</td>\n",
              "      <td>Mycophenolate Mofetil</td>\n",
              "      <td>-12.4453</td>\n",
              "      <td>-11.7175</td>\n",
              "    </tr>\n",
              "    <tr>\n",
              "      <th>2</th>\n",
              "      <td>4</td>\n",
              "      <td>Metaxalone</td>\n",
              "      <td>-8.65572</td>\n",
              "      <td>-17.7753</td>\n",
              "    </tr>\n",
              "    <tr>\n",
              "      <th>3</th>\n",
              "      <td>5</td>\n",
              "      <td>Terazosin·HCl</td>\n",
              "      <td>-11.5048</td>\n",
              "      <td>16.0825</td>\n",
              "    </tr>\n",
              "    <tr>\n",
              "      <th>4</th>\n",
              "      <td>6</td>\n",
              "      <td>Fluvastatin·Na</td>\n",
              "      <td>-11.1354</td>\n",
              "      <td>-14.553</td>\n",
              "    </tr>\n",
              "  </tbody>\n",
              "</table>\n",
              "</div>"
            ],
            "text/plain": [
              "   label                    drug       n1       n2\n",
              "0      2  Penicillin V Potassium  -10.404 -18.1929\n",
              "1      3   Mycophenolate Mofetil -12.4453 -11.7175\n",
              "2      4              Metaxalone -8.65572 -17.7753\n",
              "3      5           Terazosin·HCl -11.5048  16.0825\n",
              "4      6          Fluvastatin·Na -11.1354  -14.553"
            ]
          },
          "metadata": {
            "tags": []
          },
          "execution_count": 12
        }
      ]
    },
    {
      "cell_type": "markdown",
      "metadata": {
        "id": "6Htu9Bw6l57p",
        "colab_type": "text"
      },
      "source": [
        "This formatting is closer to what we need.\n",
        "\n",
        "Now, let's take the drug names and get smiles strings for them (format needed for DeepChem)."
      ]
    },
    {
      "cell_type": "code",
      "metadata": {
        "id": "3hGrrqu5l57q",
        "colab_type": "code",
        "colab": {}
      },
      "source": [
        "drugs = raw_data['drug'].values"
      ],
      "execution_count": 13,
      "outputs": []
    },
    {
      "cell_type": "markdown",
      "metadata": {
        "id": "zJAABOqPl57y",
        "colab_type": "text"
      },
      "source": [
        "For many of these, we can retreive the smiles string via the canonical_smiles attribute of the `get_compounds` object (using `pubchempy`)"
      ]
    },
    {
      "cell_type": "code",
      "metadata": {
        "id": "yfCp2htdl570",
        "colab_type": "code",
        "colab": {
          "base_uri": "https://localhost:8080/",
          "height": 34
        },
        "outputId": "7ec9923b-02ea-42ce-b98d-fb80fd684626"
      },
      "source": [
        "get_compounds(drugs[1], 'name')"
      ],
      "execution_count": 14,
      "outputs": [
        {
          "output_type": "execute_result",
          "data": {
            "text/plain": [
              "[Compound(5281078)]"
            ]
          },
          "metadata": {
            "tags": []
          },
          "execution_count": 14
        }
      ]
    },
    {
      "cell_type": "code",
      "metadata": {
        "id": "rsesx-l8l58L",
        "colab_type": "code",
        "colab": {
          "base_uri": "https://localhost:8080/",
          "height": 35
        },
        "outputId": "6f087c85-b3bc-4a56-f052-3b463e9d71aa"
      },
      "source": [
        "get_compounds(drugs[1], 'name')[0].canonical_smiles"
      ],
      "execution_count": 15,
      "outputs": [
        {
          "output_type": "execute_result",
          "data": {
            "application/vnd.google.colaboratory.intrinsic+json": {
              "type": "string"
            },
            "text/plain": [
              "'CC1=C2COC(=O)C2=C(C(=C1OC)CC=C(C)CCC(=O)OCCN3CCOCC3)O'"
            ]
          },
          "metadata": {
            "tags": []
          },
          "execution_count": 15
        }
      ]
    },
    {
      "cell_type": "markdown",
      "metadata": {
        "id": "x4qqWsWZl581",
        "colab_type": "text"
      },
      "source": [
        "However, some of these drug names have variables spaces and symbols (·, (±), etc.), and names that may not be readable by pubchempy. \n",
        "\n",
        "For this task, we will do a bit of hacking via regular expressions.  Also, we notice that all ions are written in a shortened form that will need to be expanded.  For this reason we use a dictionary, mapping the shortened ion names to versions recognizable to pubchempy.  \n",
        "\n",
        "Unfortunately you may have several corner cases that will require more hacking."
      ]
    },
    {
      "cell_type": "code",
      "metadata": {
        "id": "jGch_fRUl587",
        "colab_type": "code",
        "colab": {}
      },
      "source": [
        "ion_replacements = {\n",
        "    'HBr': ' hydrobromide',\n",
        "    '2Br': ' dibromide',\n",
        "    'Br': ' bromide',\n",
        "    'HCl': ' hydrochloride',\n",
        "    '2H2O': ' dihydrate',\n",
        "    'H20': ' hydrate',\n",
        "    'Na': ' sodium'\n",
        "}\n",
        "\n",
        "ion_keys = ['H20', 'HBr', 'HCl', '2Br', '2H2O', 'Br', 'Na']"
      ],
      "execution_count": 16,
      "outputs": []
    },
    {
      "cell_type": "code",
      "metadata": {
        "id": "t-YXuLu2l59L",
        "colab_type": "code",
        "colab": {}
      },
      "source": [
        "import re"
      ],
      "execution_count": 17,
      "outputs": []
    },
    {
      "cell_type": "code",
      "metadata": {
        "id": "OVjTiTyJl59T",
        "colab_type": "code",
        "colab": {}
      },
      "source": [
        "def compound_to_smiles(cmpd):\n",
        "    # remove spaces and irregular characters\n",
        "    compound = re.sub(r'([^\\s\\w]|_)+', '', cmpd)\n",
        "                   \n",
        "    # replace ion names if needed\n",
        "    for ion in ion_keys:\n",
        "        if ion in compound:\n",
        "            compound = compound.replace(ion, ion_replacements[ion])\n",
        "\n",
        "    # query for cid first in order to avoid timeouterror\n",
        "    cid = get_cids(compound, 'name')[0]\n",
        "    smiles = get_compounds(cid)[0].canonical_smiles\n",
        "\n",
        "    return smiles"
      ],
      "execution_count": 18,
      "outputs": []
    },
    {
      "cell_type": "markdown",
      "metadata": {
        "id": "H-qPqmm3l59s",
        "colab_type": "text"
      },
      "source": [
        "Now let's actually convert all these compounds to smiles. This conversion will take a few minutes so might not be a bad spot to go grab a coffee or tea and take a break while this is running! Note that this conversion will sometimes fail so we've added some error handling to catch these cases below."
      ]
    },
    {
      "cell_type": "code",
      "metadata": {
        "scrolled": true,
        "id": "PMlMlVJTl59t",
        "colab_type": "code",
        "colab": {
          "base_uri": "https://localhost:8080/",
          "height": 68
        },
        "outputId": "cf54a840-fb35-4904-c96e-e016ab7c1935"
      },
      "source": [
        "smiles_map = {}\n",
        "for i, compound in enumerate(drugs):\n",
        "    # print(\"Converting %s to smiles\" % i)\n",
        "    try:\n",
        "        smiles_map[compound] = compound_to_smiles(compound)\n",
        "    except:\n",
        "        print(\"Errored on %s\" % i)\n",
        "        continue"
      ],
      "execution_count": 19,
      "outputs": [
        {
          "output_type": "stream",
          "text": [
            "Errored on 138\n",
            "Errored on 162\n",
            "Errored on 303\n"
          ],
          "name": "stdout"
        }
      ]
    },
    {
      "cell_type": "code",
      "metadata": {
        "id": "CgPwj-Pvl594",
        "colab_type": "code",
        "colab": {}
      },
      "source": [
        "smiles_data = raw_data\n",
        "# map drug name to smiles string\n",
        "smiles_data['drug'] = smiles_data['drug'].apply(lambda x: smiles_map[x] if x in smiles_map else None)"
      ],
      "execution_count": 20,
      "outputs": []
    },
    {
      "cell_type": "code",
      "metadata": {
        "id": "xV3mQWwrl5-v",
        "colab_type": "code",
        "colab": {
          "base_uri": "https://localhost:8080/",
          "height": 204
        },
        "outputId": "e031e783-4912-468f-abbb-64225e6b1ec6"
      },
      "source": [
        "# preview smiles data\n",
        "smiles_data.loc[smiles_data.index[:5]]"
      ],
      "execution_count": 21,
      "outputs": [
        {
          "output_type": "execute_result",
          "data": {
            "text/html": [
              "<div>\n",
              "<style scoped>\n",
              "    .dataframe tbody tr th:only-of-type {\n",
              "        vertical-align: middle;\n",
              "    }\n",
              "\n",
              "    .dataframe tbody tr th {\n",
              "        vertical-align: top;\n",
              "    }\n",
              "\n",
              "    .dataframe thead th {\n",
              "        text-align: right;\n",
              "    }\n",
              "</style>\n",
              "<table border=\"1\" class=\"dataframe\">\n",
              "  <thead>\n",
              "    <tr style=\"text-align: right;\">\n",
              "      <th></th>\n",
              "      <th>label</th>\n",
              "      <th>drug</th>\n",
              "      <th>n1</th>\n",
              "      <th>n2</th>\n",
              "    </tr>\n",
              "  </thead>\n",
              "  <tbody>\n",
              "    <tr>\n",
              "      <th>0</th>\n",
              "      <td>2</td>\n",
              "      <td>CC1(C(N2C(S1)C(C2=O)NC(=O)COC3=CC=CC=C3)C(=O)[...</td>\n",
              "      <td>-10.404</td>\n",
              "      <td>-18.1929</td>\n",
              "    </tr>\n",
              "    <tr>\n",
              "      <th>1</th>\n",
              "      <td>3</td>\n",
              "      <td>CC1=C2COC(=O)C2=C(C(=C1OC)CC=C(C)CCC(=O)OCCN3C...</td>\n",
              "      <td>-12.4453</td>\n",
              "      <td>-11.7175</td>\n",
              "    </tr>\n",
              "    <tr>\n",
              "      <th>2</th>\n",
              "      <td>4</td>\n",
              "      <td>CC1=CC(=CC(=C1)OCC2CNC(=O)O2)C</td>\n",
              "      <td>-8.65572</td>\n",
              "      <td>-17.7753</td>\n",
              "    </tr>\n",
              "    <tr>\n",
              "      <th>3</th>\n",
              "      <td>5</td>\n",
              "      <td>COC1=C(C=C2C(=C1)C(=NC(=N2)N3CCN(CC3)C(=O)C4CC...</td>\n",
              "      <td>-11.5048</td>\n",
              "      <td>16.0825</td>\n",
              "    </tr>\n",
              "    <tr>\n",
              "      <th>4</th>\n",
              "      <td>6</td>\n",
              "      <td>CC(C)N1C2=CC=CC=C2C(=C1C=CC(CC(CC(=O)[O-])O)O)...</td>\n",
              "      <td>-11.1354</td>\n",
              "      <td>-14.553</td>\n",
              "    </tr>\n",
              "  </tbody>\n",
              "</table>\n",
              "</div>"
            ],
            "text/plain": [
              "   label                                               drug       n1       n2\n",
              "0      2  CC1(C(N2C(S1)C(C2=O)NC(=O)COC3=CC=CC=C3)C(=O)[...  -10.404 -18.1929\n",
              "1      3  CC1=C2COC(=O)C2=C(C(=C1OC)CC=C(C)CCC(=O)OCCN3C... -12.4453 -11.7175\n",
              "2      4                     CC1=CC(=CC(=C1)OCC2CNC(=O)O2)C -8.65572 -17.7753\n",
              "3      5  COC1=C(C=C2C(=C1)C(=NC(=N2)N3CCN(CC3)C(=O)C4CC... -11.5048  16.0825\n",
              "4      6  CC(C)N1C2=CC=CC=C2C(=C1C=CC(CC(CC(=O)[O-])O)O)... -11.1354  -14.553"
            ]
          },
          "metadata": {
            "tags": []
          },
          "execution_count": 21
        }
      ]
    },
    {
      "cell_type": "markdown",
      "metadata": {
        "id": "ES-ak26xl5-1",
        "colab_type": "text"
      },
      "source": [
        "Hooray, we have mapped each drug name to its corresponding smiles code.\n",
        "\n",
        "Now, we need to look at the data and remove as much noise as possible."
      ]
    },
    {
      "cell_type": "markdown",
      "metadata": {
        "id": "ghu-RpSCl5-3",
        "colab_type": "text"
      },
      "source": [
        "## De-noising data"
      ]
    },
    {
      "cell_type": "markdown",
      "metadata": {
        "id": "axbec0-Dl5-4",
        "colab_type": "text"
      },
      "source": [
        "In machine learning, we know that there is no free lunch.  You will need to spend time analyzing and understanding your data in order to frame your problem and determine the appropriate model framework.  Treatment of your data will depend on the conclusions you gather from this process.\n",
        "\n",
        "Questions to ask yourself:\n",
        "* What are you trying to accomplish?\n",
        "* What is your assay?\n",
        "* What is the structure of the data?\n",
        "* Does the data make sense?\n",
        "* What has been tried previously?\n",
        "\n",
        "For this project (respectively):\n",
        "* I would like to build a model capable of predicting the affinity of an arbitrary small molecule drug to a particular ion channel protein\n",
        "* For an input drug, data describing channel inhibition\n",
        "* A few hundred drugs, with n=2\n",
        "* Will need to look more closely at the dataset*\n",
        "* Nothing on this particular protein"
      ]
    },
    {
      "cell_type": "markdown",
      "metadata": {
        "id": "ls_jIMqUl5-5",
        "colab_type": "text"
      },
      "source": [
        "*This will involve plotting, so we will import matplotlib and seaborn.  We will also need to look at molecular structures, so we will import rdkit. We will also use the seaborn library which you can install with `pip install seaborn`."
      ]
    },
    {
      "cell_type": "code",
      "metadata": {
        "id": "Xe0sqLZ0l5-6",
        "colab_type": "code",
        "colab": {
          "base_uri": "https://localhost:8080/",
          "height": 71
        },
        "outputId": "4e1a4198-0617-4159-e193-8c3e485de045"
      },
      "source": [
        "import matplotlib.pyplot as plt\n",
        "%matplotlib inline\n",
        "\n",
        "import seaborn as sns\n",
        "sns.set_style('white')"
      ],
      "execution_count": 22,
      "outputs": [
        {
          "output_type": "stream",
          "text": [
            "/usr/local/lib/python3.6/dist-packages/statsmodels/tools/_testing.py:19: FutureWarning: pandas.util.testing is deprecated. Use the functions in the public API at pandas.testing instead.\n",
            "  import pandas.util.testing as tm\n"
          ],
          "name": "stderr"
        }
      ]
    },
    {
      "cell_type": "code",
      "metadata": {
        "id": "mC-lBTuXl5--",
        "colab_type": "code",
        "colab": {}
      },
      "source": [
        "from rdkit import Chem\n",
        "from rdkit.Chem import AllChem\n",
        "from rdkit.Chem import Draw, PyMol, rdFMCS\n",
        "from rdkit.Chem.Draw import IPythonConsole\n",
        "from rdkit import rdBase"
      ],
      "execution_count": 23,
      "outputs": []
    },
    {
      "cell_type": "code",
      "metadata": {
        "id": "UOtjGja5l5_D",
        "colab_type": "code",
        "colab": {}
      },
      "source": [
        "# i will use numpy on occasion for manipulating arrays\n",
        "import numpy as np"
      ],
      "execution_count": 24,
      "outputs": []
    },
    {
      "cell_type": "markdown",
      "metadata": {
        "id": "9fKzIHFnl5_K",
        "colab_type": "text"
      },
      "source": [
        "Our goal is to build a small molecule model, so let's make sure our molecules are all small.  This can be approximated by the length of each smiles string."
      ]
    },
    {
      "cell_type": "code",
      "metadata": {
        "id": "d95zFS4Ll5_K",
        "colab_type": "code",
        "colab": {}
      },
      "source": [
        "smiles_data['len'] = [len(i) if i is not None else 0 for i in smiles_data['drug']]"
      ],
      "execution_count": 25,
      "outputs": []
    },
    {
      "cell_type": "code",
      "metadata": {
        "id": "HZjb8u_fl5_S",
        "colab_type": "code",
        "colab": {
          "base_uri": "https://localhost:8080/",
          "height": 297
        },
        "outputId": "136daa91-c521-4d32-e204-bbb05eec8149"
      },
      "source": [
        "smiles_lens = [len(i) if i is not None else 0 for i in smiles_data['drug']]\n",
        "sns.distplot(smiles_lens)\n",
        "plt.xlabel('len(smiles)')\n",
        "plt.ylabel('probability')"
      ],
      "execution_count": 26,
      "outputs": [
        {
          "output_type": "execute_result",
          "data": {
            "text/plain": [
              "Text(0, 0.5, 'probability')"
            ]
          },
          "metadata": {
            "tags": []
          },
          "execution_count": 26
        },
        {
          "output_type": "display_data",
          "data": {
            "image/png": "[encoded data removed]",
            "text/plain": [
              "<Figure size 432x288 with 1 Axes>"
            ]
          },
          "metadata": {
            "tags": []
          }
        }
      ]
    },
    {
      "cell_type": "markdown",
      "metadata": {
        "id": "UmKR_T4Vl5_X",
        "colab_type": "text"
      },
      "source": [
        "Some of these look rather large, len(smiles) > 150.  Let's see what they look like."
      ]
    },
    {
      "cell_type": "code",
      "metadata": {
        "id": "X2H-4P1ol5_Y",
        "colab_type": "code",
        "colab": {}
      },
      "source": [
        "# indices of large looking molecules\n",
        "suspiciously_large = np.where(np.array(smiles_lens) > 150)[0]\n",
        "\n",
        "# corresponding smiles string\n",
        "long_smiles = smiles_data.loc[smiles_data.index[suspiciously_large]]['drug'].values"
      ],
      "execution_count": 27,
      "outputs": []
    },
    {
      "cell_type": "code",
      "metadata": {
        "id": "FDX7tagnl5_e",
        "colab_type": "code",
        "colab": {
          "base_uri": "https://localhost:8080/",
          "height": 210
        },
        "outputId": "391f6646-757b-4075-b125-f13083c82aaf"
      },
      "source": [
        "# look\n",
        "Draw._MolsToGridImage([Chem.MolFromSmiles(i) for i in long_smiles], molsPerRow=6)"
      ],
      "execution_count": 28,
      "outputs": [
        {
          "output_type": "execute_result",
          "data": {
            "image/png": "[encoded data removed]",
            "text/plain": [
              "<PIL.PngImagePlugin.PngImageFile image mode=RGB size=1200x200 at 0x7F27A0196588>"
            ]
          },
          "metadata": {
            "tags": []
          },
          "execution_count": 28
        }
      ]
    },
    {
      "cell_type": "markdown",
      "metadata": {
        "id": "kazyeOPYl5_i",
        "colab_type": "text"
      },
      "source": [
        "As suspected, these are not small molecules, so we will remove them from the dataset.  The argument here is that these molecules could register as inhibitors simply because they are large.  They are more likely to sterically blocks the channel, rather than diffuse inside and bind (which is what we are interested in).\n",
        "\n",
        "The lesson here is to remove data that does not fit your use case."
      ]
    },
    {
      "cell_type": "code",
      "metadata": {
        "id": "xkFF2eMgl5_j",
        "colab_type": "code",
        "colab": {}
      },
      "source": [
        "# drop large molecules\n",
        "smiles_data = smiles_data[~smiles_data['drug'].isin(long_smiles)]"
      ],
      "execution_count": 29,
      "outputs": []
    },
    {
      "cell_type": "markdown",
      "metadata": {
        "id": "QjSLGiv0l5_m",
        "colab_type": "text"
      },
      "source": [
        "Now, let's look at the numerical structure of the dataset.\n",
        "\n",
        "First, check for NaNs."
      ]
    },
    {
      "cell_type": "code",
      "metadata": {
        "id": "H5wkbrWgl5_n",
        "colab_type": "code",
        "colab": {
          "base_uri": "https://localhost:8080/",
          "height": 421
        },
        "outputId": "a4b2e5eb-4feb-40e4-b12d-e1f28dc2d3b7"
      },
      "source": [
        "nan_rows = smiles_data[smiles_data.isnull().T.any().T]\n",
        "nan_rows[['n1', 'n2']]"
      ],
      "execution_count": 30,
      "outputs": [
        {
          "output_type": "execute_result",
          "data": {
            "text/html": [
              "<div>\n",
              "<style scoped>\n",
              "    .dataframe tbody tr th:only-of-type {\n",
              "        vertical-align: middle;\n",
              "    }\n",
              "\n",
              "    .dataframe tbody tr th {\n",
              "        vertical-align: top;\n",
              "    }\n",
              "\n",
              "    .dataframe thead th {\n",
              "        text-align: right;\n",
              "    }\n",
              "</style>\n",
              "<table border=\"1\" class=\"dataframe\">\n",
              "  <thead>\n",
              "    <tr style=\"text-align: right;\">\n",
              "      <th></th>\n",
              "      <th>n1</th>\n",
              "      <th>n2</th>\n",
              "    </tr>\n",
              "  </thead>\n",
              "  <tbody>\n",
              "    <tr>\n",
              "      <th>62</th>\n",
              "      <td>NaN</td>\n",
              "      <td>-7.8266</td>\n",
              "    </tr>\n",
              "    <tr>\n",
              "      <th>138</th>\n",
              "      <td>-11.4286</td>\n",
              "      <td>-9.38758</td>\n",
              "    </tr>\n",
              "    <tr>\n",
              "      <th>162</th>\n",
              "      <td>-12.8456</td>\n",
              "      <td>-11.4627</td>\n",
              "    </tr>\n",
              "    <tr>\n",
              "      <th>175</th>\n",
              "      <td>NaN</td>\n",
              "      <td>-6.61225</td>\n",
              "    </tr>\n",
              "    <tr>\n",
              "      <th>187</th>\n",
              "      <td>NaN</td>\n",
              "      <td>-8.23326</td>\n",
              "    </tr>\n",
              "    <tr>\n",
              "      <th>233</th>\n",
              "      <td>-8.21781</td>\n",
              "      <td>NaN</td>\n",
              "    </tr>\n",
              "    <tr>\n",
              "      <th>262</th>\n",
              "      <td>NaN</td>\n",
              "      <td>-12.8788</td>\n",
              "    </tr>\n",
              "    <tr>\n",
              "      <th>288</th>\n",
              "      <td>NaN</td>\n",
              "      <td>-2.34264</td>\n",
              "    </tr>\n",
              "    <tr>\n",
              "      <th>300</th>\n",
              "      <td>NaN</td>\n",
              "      <td>-8.19936</td>\n",
              "    </tr>\n",
              "    <tr>\n",
              "      <th>301</th>\n",
              "      <td>NaN</td>\n",
              "      <td>-10.4633</td>\n",
              "    </tr>\n",
              "    <tr>\n",
              "      <th>303</th>\n",
              "      <td>-5.61374</td>\n",
              "      <td>8.42267</td>\n",
              "    </tr>\n",
              "    <tr>\n",
              "      <th>311</th>\n",
              "      <td>NaN</td>\n",
              "      <td>-8.78722</td>\n",
              "    </tr>\n",
              "  </tbody>\n",
              "</table>\n",
              "</div>"
            ],
            "text/plain": [
              "          n1       n2\n",
              "62       NaN  -7.8266\n",
              "138 -11.4286 -9.38758\n",
              "162 -12.8456 -11.4627\n",
              "175      NaN -6.61225\n",
              "187      NaN -8.23326\n",
              "233 -8.21781      NaN\n",
              "262      NaN -12.8788\n",
              "288      NaN -2.34264\n",
              "300      NaN -8.19936\n",
              "301      NaN -10.4633\n",
              "303 -5.61374  8.42267\n",
              "311      NaN -8.78722"
            ]
          },
          "metadata": {
            "tags": []
          },
          "execution_count": 30
        }
      ]
    },
    {
      "cell_type": "markdown",
      "metadata": {
        "id": "Z6xL_ztsl5_u",
        "colab_type": "text"
      },
      "source": [
        "I don't trust n=1, so I will throw these out.  \n",
        "\n",
        "Then, let's examine the distribution of n1 and n2."
      ]
    },
    {
      "cell_type": "code",
      "metadata": {
        "id": "KhvgrLnjl5_v",
        "colab_type": "code",
        "colab": {}
      },
      "source": [
        "df = smiles_data.dropna(axis=0, how='any')"
      ],
      "execution_count": 31,
      "outputs": []
    },
    {
      "cell_type": "code",
      "metadata": {
        "id": "txAjPzOAl5_2",
        "colab_type": "code",
        "colab": {
          "base_uri": "https://localhost:8080/",
          "height": 458
        },
        "outputId": "6679981a-60cd-473f-f6fb-86166d7c5b5e"
      },
      "source": [
        "# seaborn jointplot will allow us to compare n1 and n2, and plot each marginal\n",
        "sns.jointplot('n1', 'n2', data=smiles_data) "
      ],
      "execution_count": 32,
      "outputs": [
        {
          "output_type": "execute_result",
          "data": {
            "text/plain": [
              "<seaborn.axisgrid.JointGrid at 0x7f279fab9860>"
            ]
          },
          "metadata": {
            "tags": []
          },
          "execution_count": 32
        },
        {
          "output_type": "display_data",
          "data": {
            "image/png": "[encoded data removed]",
            "text/plain": [
              "<Figure size 432x432 with 3 Axes>"
            ]
          },
          "metadata": {
            "tags": []
          }
        }
      ]
    },
    {
      "cell_type": "markdown",
      "metadata": {
        "id": "dqNjNcTNl5_7",
        "colab_type": "text"
      },
      "source": [
        "We see that most of the data is contained in the gaussian-ish blob centered a bit below zero.  We see that there are a few clearly active datapoints located in the bottom left, and one on the top right.  These are all distinguished from the majority of the data.  How do we handle the data in the blob?  \n",
        "\n",
        "Because n1 and n2 represent the same measurement, ideally they would be of the same value.  This plot should be tightly aligned to the diagonal, and the pearson correlation coefficient should be 1.  We see this is not the case.  This helps gives us an idea of the error of our assay.\n",
        "\n",
        "Let's look at the error more closely, plotting in the distribution of (n1-n2)."
      ]
    },
    {
      "cell_type": "code",
      "metadata": {
        "id": "guGcilXIl5_9",
        "colab_type": "code",
        "colab": {
          "base_uri": "https://localhost:8080/",
          "height": 296
        },
        "outputId": "89bcc713-0d04-443d-eda0-19deb9abf560"
      },
      "source": [
        "diff_df = df['n1'] - df['n2']\n",
        "\n",
        "sns.distplot(diff_df)\n",
        "plt.xlabel('difference in n')\n",
        "plt.ylabel('probability')"
      ],
      "execution_count": 33,
      "outputs": [
        {
          "output_type": "execute_result",
          "data": {
            "text/plain": [
              "Text(0, 0.5, 'probability')"
            ]
          },
          "metadata": {
            "tags": []
          },
          "execution_count": 33
        },
        {
          "output_type": "display_data",
          "data": {
            "image/png": "[encoded data removed]",
            "text/plain": [
              "<Figure size 432x288 with 1 Axes>"
            ]
          },
          "metadata": {
            "tags": []
          }
        }
      ]
    },
    {
      "cell_type": "markdown",
      "metadata": {
        "id": "VTbA5r_Zl6AD",
        "colab_type": "text"
      },
      "source": [
        "This looks pretty gaussian, let's get the 95% confidence interval by fitting a gaussian via scipy, and taking 2*the standard deviation"
      ]
    },
    {
      "cell_type": "code",
      "metadata": {
        "id": "j1h2EExUl6AF",
        "colab_type": "code",
        "colab": {}
      },
      "source": [
        "from scipy import stats"
      ],
      "execution_count": 34,
      "outputs": []
    },
    {
      "cell_type": "code",
      "metadata": {
        "id": "J9xFhoRGl6AL",
        "colab_type": "code",
        "colab": {}
      },
      "source": [
        "mean, std = stats.norm.fit(np.asarray(diff_df, dtype=np.float32))"
      ],
      "execution_count": 35,
      "outputs": []
    },
    {
      "cell_type": "code",
      "metadata": {
        "id": "PcBDorCcl6AS",
        "colab_type": "code",
        "colab": {
          "base_uri": "https://localhost:8080/",
          "height": 34
        },
        "outputId": "ee99844a-4b00-4056-bc5b-ee4282a5172d"
      },
      "source": [
        "ci_95 = std*2\n",
        "ci_95"
      ],
      "execution_count": 36,
      "outputs": [
        {
          "output_type": "execute_result",
          "data": {
            "text/plain": [
              "17.77376365661621"
            ]
          },
          "metadata": {
            "tags": []
          },
          "execution_count": 36
        }
      ]
    },
    {
      "cell_type": "markdown",
      "metadata": {
        "id": "N_6SzWXyl6Ak",
        "colab_type": "text"
      },
      "source": [
        "Now, I don't trust the data outside of the confidence interval, and will therefore drop these datapoints from df.  \n",
        "\n",
        "For example, in the plot above, at least one datapoint has n1-n2 > 60.  This is disconcerting."
      ]
    },
    {
      "cell_type": "code",
      "metadata": {
        "id": "y5fC5Pu0l6Ao",
        "colab_type": "code",
        "colab": {}
      },
      "source": [
        "noisy = diff_df[abs(diff_df) > ci_95]\n",
        "df = df.drop(noisy.index)"
      ],
      "execution_count": 37,
      "outputs": []
    },
    {
      "cell_type": "code",
      "metadata": {
        "id": "qR8D_BKel6Ay",
        "colab_type": "code",
        "colab": {
          "base_uri": "https://localhost:8080/",
          "height": 458
        },
        "outputId": "c5f59a48-4780-4883-a3fa-b47320071f6c"
      },
      "source": [
        "sns.jointplot('n1', 'n2', data=df) "
      ],
      "execution_count": 38,
      "outputs": [
        {
          "output_type": "execute_result",
          "data": {
            "text/plain": [
              "<seaborn.axisgrid.JointGrid at 0x7f279bd8fa90>"
            ]
          },
          "metadata": {
            "tags": []
          },
          "execution_count": 38
        },
        {
          "output_type": "display_data",
          "data": {
            "image/png": "[encoded data removed]",
            "text/plain": [
              "<Figure size 432x432 with 3 Axes>"
            ]
          },
          "metadata": {
            "tags": []
          }
        }
      ]
    },
    {
      "cell_type": "markdown",
      "metadata": {
        "id": "oORmeyHNl6A1",
        "colab_type": "text"
      },
      "source": [
        "Now that data looks much better!\n",
        "\n",
        "So, let's average n1 and n2, and take the error bar to be ci_95."
      ]
    },
    {
      "cell_type": "code",
      "metadata": {
        "id": "7NsMKc6Nl6A3",
        "colab_type": "code",
        "colab": {
          "base_uri": "https://localhost:8080/",
          "height": 204
        },
        "outputId": "cef1fc9d-6b55-403a-c0c5-97cd92303624"
      },
      "source": [
        "avg_df = df[['label', 'drug']]\n",
        "n_avg = df[['n1', 'n2']].mean(axis=1)\n",
        "avg_df['n'] = n_avg\n",
        "avg_df.sort_values('n', inplace=True)"
      ],
      "execution_count": 39,
      "outputs": [
        {
          "output_type": "stream",
          "text": [
            "/usr/local/lib/python3.6/dist-packages/ipykernel_launcher.py:3: SettingWithCopyWarning: \n",
            "A value is trying to be set on a copy of a slice from a DataFrame.\n",
            "Try using .loc[row_indexer,col_indexer] = value instead\n",
            "\n",
            "See the caveats in the documentation: https://pandas.pydata.org/pandas-docs/stable/user_guide/indexing.html#returning-a-view-versus-a-copy\n",
            "  This is separate from the ipykernel package so we can avoid doing imports until\n",
            "/usr/local/lib/python3.6/dist-packages/ipykernel_launcher.py:4: SettingWithCopyWarning: \n",
            "A value is trying to be set on a copy of a slice from a DataFrame\n",
            "\n",
            "See the caveats in the documentation: https://pandas.pydata.org/pandas-docs/stable/user_guide/indexing.html#returning-a-view-versus-a-copy\n",
            "  after removing the cwd from sys.path.\n"
          ],
          "name": "stderr"
        }
      ]
    },
    {
      "cell_type": "markdown",
      "metadata": {
        "id": "FIUv_SV2l6A7",
        "colab_type": "text"
      },
      "source": [
        "Now, let's look at the sorted data with error bars."
      ]
    },
    {
      "cell_type": "code",
      "metadata": {
        "id": "YN1DgKJNl6BD",
        "colab_type": "code",
        "colab": {
          "base_uri": "https://localhost:8080/",
          "height": 296
        },
        "outputId": "23bb0034-c1c8-4a91-b915-48d2a76a2e6c"
      },
      "source": [
        "plt.errorbar(np.arange(avg_df.shape[0]), avg_df['n'], yerr=ci_95, fmt='o')\n",
        "plt.xlabel('drug, sorted')\n",
        "plt.ylabel('activity')"
      ],
      "execution_count": 40,
      "outputs": [
        {
          "output_type": "execute_result",
          "data": {
            "text/plain": [
              "Text(0, 0.5, 'activity')"
            ]
          },
          "metadata": {
            "tags": []
          },
          "execution_count": 40
        },
        {
          "output_type": "display_data",
          "data": {
            "image/png": "[encoded data removed]",
            "text/plain": [
              "<Figure size 432x288 with 1 Axes>"
            ]
          },
          "metadata": {
            "tags": []
          }
        }
      ]
    },
    {
      "cell_type": "markdown",
      "metadata": {
        "id": "NxsJUoS0l6BH",
        "colab_type": "text"
      },
      "source": [
        "Now, let's identify our active compounds.  \n",
        "\n",
        "In my case, this required domain knowledge.  Having worked in this area, and having consulted with professors specializing on this channel, I am interested in compounds where the absolute value of the activity is greater than 25.  This relates to the desired drug potency we would like to model.\n",
        "\n",
        "If you are not certain how to draw the line between active and inactive, this cutoff could potentially be treated as a hyperparameter."
      ]
    },
    {
      "cell_type": "code",
      "metadata": {
        "scrolled": false,
        "id": "MQPUH1ogl6BH",
        "colab_type": "code",
        "colab": {
          "base_uri": "https://localhost:8080/",
          "height": 282
        },
        "outputId": "c6874a35-23f1-4a7d-e4ac-6a7fc90fc32a"
      },
      "source": [
        "actives = avg_df[abs(avg_df['n'])-ci_95 > 25]['n']\n",
        "\n",
        "plt.errorbar(np.arange(actives.shape[0]), actives, yerr=ci_95, fmt='o')"
      ],
      "execution_count": 41,
      "outputs": [
        {
          "output_type": "execute_result",
          "data": {
            "text/plain": [
              "<ErrorbarContainer object of 3 artists>"
            ]
          },
          "metadata": {
            "tags": []
          },
          "execution_count": 41
        },
        {
          "output_type": "display_data",
          "data": {
            "image/png": "[encoded data removed]",
            "text/plain": [
              "<Figure size 432x288 with 1 Axes>"
            ]
          },
          "metadata": {
            "tags": []
          }
        }
      ]
    },
    {
      "cell_type": "code",
      "metadata": {
        "id": "9rz2KjJ8l6BS",
        "colab_type": "code",
        "colab": {
          "base_uri": "https://localhost:8080/",
          "height": 34
        },
        "outputId": "ebeac3f3-091b-4e99-ac7d-8bfec5f59aac"
      },
      "source": [
        "# summary\n",
        "print (raw_data.shape, avg_df.shape, len(actives.index))"
      ],
      "execution_count": 42,
      "outputs": [
        {
          "output_type": "stream",
          "text": [
            "(430, 5) (391, 3) 6\n"
          ],
          "name": "stdout"
        }
      ]
    },
    {
      "cell_type": "markdown",
      "metadata": {
        "id": "TiNqzX0Kl6BV",
        "colab_type": "text"
      },
      "source": [
        "In summary, we have:\n",
        "* Removed data that did not address the question we hope to answer (small molecules only)\n",
        "* Dropped NaNs\n",
        "* Determined the noise of our measurements\n",
        "* Removed exceptionally noisy datapoints\n",
        "* Identified actives (using domain knowledge to determine a threshold)"
      ]
    },
    {
      "cell_type": "markdown",
      "metadata": {
        "id": "46rf9hMkl6BW",
        "colab_type": "text"
      },
      "source": [
        "## Determine model type, final form of dataset, and sanity load"
      ]
    },
    {
      "cell_type": "markdown",
      "metadata": {
        "id": "vUK150zHl6BX",
        "colab_type": "text"
      },
      "source": [
        "Now, what model framework should we use?  \n",
        "\n",
        "Given that we have 392 datapoints and 6 actives, this data will be used to build a low data one-shot classifier (10.1021/acscentsci.6b00367).  If there were datasets of similar character, transfer learning could potentially be used, but this is not the case at the moment.\n",
        "\n",
        "\n",
        "Let's apply logic to our dataframe in order to cast it into a binary format, suitable for classification."
      ]
    },
    {
      "cell_type": "code",
      "metadata": {
        "id": "WwcvCbigl6BX",
        "colab_type": "code",
        "colab": {
          "base_uri": "https://localhost:8080/",
          "height": 119
        },
        "outputId": "a7e8abc2-f738-401d-9e1e-f4eb3238ba8b"
      },
      "source": [
        "# 1 if condition for active is met, 0 otherwise\n",
        "avg_df['active'] = (abs(avg_df['n'])-ci_95 > 25).astype(int)"
      ],
      "execution_count": 43,
      "outputs": [
        {
          "output_type": "stream",
          "text": [
            "/usr/local/lib/python3.6/dist-packages/ipykernel_launcher.py:2: SettingWithCopyWarning: \n",
            "A value is trying to be set on a copy of a slice from a DataFrame.\n",
            "Try using .loc[row_indexer,col_indexer] = value instead\n",
            "\n",
            "See the caveats in the documentation: https://pandas.pydata.org/pandas-docs/stable/user_guide/indexing.html#returning-a-view-versus-a-copy\n",
            "  \n"
          ],
          "name": "stderr"
        }
      ]
    },
    {
      "cell_type": "markdown",
      "metadata": {
        "id": "2t7vmHnNl6Bc",
        "colab_type": "text"
      },
      "source": [
        "Now, save this to file."
      ]
    },
    {
      "cell_type": "code",
      "metadata": {
        "id": "a6AGQoB2l6Be",
        "colab_type": "code",
        "colab": {}
      },
      "source": [
        "avg_df.to_csv('modulators.csv', index=False)"
      ],
      "execution_count": 44,
      "outputs": []
    },
    {
      "cell_type": "markdown",
      "metadata": {
        "id": "Vs7Pkg7Il6Bp",
        "colab_type": "text"
      },
      "source": [
        "Now, we will convert this dataframe to a DeepChem dataset."
      ]
    },
    {
      "cell_type": "code",
      "metadata": {
        "id": "GBneufPbl6Bq",
        "colab_type": "code",
        "colab": {}
      },
      "source": [
        "import deepchem as dc"
      ],
      "execution_count": 45,
      "outputs": []
    },
    {
      "cell_type": "code",
      "metadata": {
        "id": "NRpnbgyAl6Bv",
        "colab_type": "code",
        "colab": {
          "base_uri": "https://localhost:8080/",
          "height": 88
        },
        "outputId": "9f37a491-24cc-4a2c-af7c-23d1dd42e72c"
      },
      "source": [
        "dataset_file = 'modulators.csv'\n",
        "task = ['active']\n",
        "featurizer_func = dc.feat.ConvMolFeaturizer()\n",
        "\n",
        "loader = dc.data.CSVLoader(tasks=task, smiles_field='drug', featurizer=featurizer_func)\n",
        "dataset = loader.featurize(dataset_file)"
      ],
      "execution_count": 46,
      "outputs": [
        {
          "output_type": "stream",
          "text": [
            "smiles_field is deprecated and will be removed in a future version of DeepChem. Use feature_field instead.\n",
            "/usr/local/lib/python3.6/dist-packages/deepchem/data/data_loader.py:198: FutureWarning: featurize() is deprecated and has been renamed to create_dataset(). featurize() will be removed in DeepChem 3.0\n",
            "  FutureWarning)\n"
          ],
          "name": "stderr"
        }
      ]
    },
    {
      "cell_type": "markdown",
      "metadata": {
        "id": "D9GElTwzl6B0",
        "colab_type": "text"
      },
      "source": [
        "Lastly, it is often advantageous to numerically transform the data in some way.  For example, sometimes it is useful to normalize the data, or to zero the mean.  This depends in the task at hand.\n",
        "\n",
        "Built into DeepChem are many useful transformers, located in the deepchem.transformers.transformers base class. \n",
        "\n",
        "Because this is a classification model, and the number of actives is low, I will apply a balancing transformer.  I treated this transformer as a hyperparameter when I began training models.  It proved to unambiguously improve model performance."
      ]
    },
    {
      "cell_type": "code",
      "metadata": {
        "id": "-Ll5i93il6B1",
        "colab_type": "code",
        "colab": {}
      },
      "source": [
        "transformer = dc.trans.BalancingTransformer(dataset=dataset)\n",
        "dataset = transformer.transform(dataset)"
      ],
      "execution_count": 47,
      "outputs": []
    },
    {
      "cell_type": "markdown",
      "metadata": {
        "id": "L57S8x7sl6B4",
        "colab_type": "text"
      },
      "source": [
        "Now let's save the balanced dataset object to disk, and then reload it as a sanity check."
      ]
    },
    {
      "cell_type": "code",
      "metadata": {
        "id": "MwFyB7Ryl6B5",
        "colab_type": "code",
        "colab": {}
      },
      "source": [
        "dc.utils.save.save_to_disk(dataset, 'balanced_dataset.joblib')\n",
        "balanced_dataset = dc.utils.save.load_from_disk('balanced_dataset.joblib')"
      ],
      "execution_count": 48,
      "outputs": []
    },
    {
      "cell_type": "markdown",
      "metadata": {
        "id": "Oydv-y4Fl6B9",
        "colab_type": "text"
      },
      "source": [
        "Tutorial written by Keri McKiernan (github.com/kmckiern) on September 8, 2016"
      ]
    },
    {
      "cell_type": "markdown",
      "metadata": {
        "id": "F2E5bL1Jl6CD",
        "colab_type": "text"
      },
      "source": [
        "# Congratulations! Time to join the Community!\n",
        "\n",
        "Congratulations on completing this tutorial notebook! If you enjoyed working through the tutorial, and want to continue working with DeepChem, we encourage you to finish the rest of the tutorials in this series. You can also help the DeepChem community in the following ways:\n",
        "\n",
        "## Star DeepChem on [GitHub](https://github.com/deepchem/deepchem)\n",
        "This helps build awareness of the DeepChem project and the tools for open source drug discovery that we're trying to build.\n",
        "\n",
        "## Join the DeepChem Gitter\n",
        "The DeepChem [Gitter](https://gitter.im/deepchem/Lobby) hosts a number of scientists, developers, and enthusiasts interested in deep learning for the life sciences. Join the conversation!\n",
        "\n",
        "\n",
        "# Bibliography\n",
        "\n",
        "[2] Anderson, Eric, Gilman D. Veith, and David Weininger. \"SMILES, a line\n",
        "notation and computerized interpreter for chemical structures.\" US\n",
        "Environmental Protection Agency, Environmental Research Laboratory, 1987."
      ]
    }
  ]
}