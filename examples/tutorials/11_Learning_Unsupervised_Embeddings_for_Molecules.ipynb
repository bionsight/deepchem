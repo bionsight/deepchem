{
  "nbformat": 4,
  "nbformat_minor": 0,
  "metadata": {
    "kernelspec": {
      "display_name": "Python 3",
      "language": "python",
      "name": "python3"
    },
    "language_info": {
      "codemirror_mode": {
        "name": "ipython",
        "version": 3
      },
      "file_extension": ".py",
      "mimetype": "text/x-python",
      "name": "python",
      "nbconvert_exporter": "python",
      "pygments_lexer": "ipython3",
      "version": "3.6.10"
    },
    "colab": {
      "name": "11_Learning_Unsupervised_Embeddings_for_Molecules.ipynb",
      "provenance": []
    }
  },
  "cells": [
    {
      "cell_type": "markdown",
      "metadata": {
        "id": "hzpae9-r2aoK",
        "colab_type": "text"
      },
      "source": [
        "# Tutorial Part 11: Learning Unsupervised Embeddings for Molecules\n",
        "\n",
        "\n",
        "In this example, we will use a `SeqToSeq` model to generate fingerprints for classifying molecules.  This is based on the following paper, although some of the implementation details are different: Xu et al., \"Seq2seq Fingerprint: An Unsupervised Deep Molecular Embedding for Drug Discovery\" (https://doi.org/10.1145/3107411.3107424).\n",
        "\n",
        "Many types of models require their inputs to have a fixed shape.  Since molecules can vary widely in the numbers of atoms and bonds they contain, this makes it hard to apply those models to them.  We need a way of generating a fixed length \"fingerprint\" for each molecule.  Various ways of doing this have been designed, such as Extended-Connectivity Fingerprints (ECFPs).  But in this example, instead of designing a fingerprint by hand, we will let a `SeqToSeq` model learn its own method of creating fingerprints.\n",
        "\n",
        "A `SeqToSeq` model performs sequence to sequence translation.  For example, they are often used to translate text from one language to another.  It consists of two parts called the \"encoder\" and \"decoder\".  The encoder is a stack of recurrent layers.  The input sequence is fed into it, one token at a time, and it generates a fixed length vector called the \"embedding vector\".  The decoder is another stack of recurrent layers that performs the inverse operation: it takes the embedding vector as input, and generates the output sequence.  By training it on appropriately chosen input/output pairs, you can create a model that performs many sorts of transformations.\n",
        "\n",
        "In this case, we will use SMILES strings describing molecules as the input sequences.  We will train the model as an autoencoder, so it tries to make the output sequences identical to the input sequences.  For that to work, the encoder must create embedding vectors that contain all information from the original sequence.  That's exactly what we want in a fingerprint, so perhaps those embedding vectors will then be useful as a way to represent molecules in other models!\n",
        "\n",
        "\n",
        "## Colab\n",
        "\n",
        "This tutorial and the rest in this sequence are designed to be done in Google colab. If you'd like to open this notebook in colab, you can use the following link.\n",
        "\n",
        "[![Open In Colab](https://colab.research.google.com/assets/colab-badge.svg)](https://colab.research.google.com/github/deepchem/deepchem/blob/master/examples/tutorials/11_Learning_Unsupervised_Embeddings_for_Molecules.ipynb)\n",
        "\n",
        "## Setup\n",
        "\n",
        "To run DeepChem within Colab, you'll need to run the following cell of installation commands. This will take about 5 minutes to run to completion and install your environment. This notebook will take a few hours to run on a GPU machine, so we encourage you to run it on Google colab unless you have a good GPU machine available."
      ]
    },
    {
      "cell_type": "code",
      "metadata": {
        "id": "ci69aRSm2aoO",
        "colab_type": "code",
        "colab": {
          "base_uri": "https://localhost:8080/",
          "height": 170
        },
        "outputId": "9071e7f3-15a7-4e3e-add8-fb1b7134a85a"
      },
      "source": [
        "!curl -Lo conda_installer.py https://raw.githubusercontent.com/deepchem/deepchem/master/scripts/colab_install.py\n",
        "import conda_installer\n",
        "conda_installer.install()\n",
        "!/root/miniconda/bin/conda info -e"
      ],
      "execution_count": 1,
      "outputs": [
        {
          "output_type": "stream",
          "text": [
            "  % Total    % Received % Xferd  Average Speed   Time    Time     Time  Current\n",
            "                                 Dload  Upload   Total   Spent    Left  Speed\n",
            "\r  0     0    0     0    0     0      0      0 --:--:-- --:--:-- --:--:--     0\r100  3489  100  3489    0     0   8209      0 --:--:-- --:--:-- --:--:--  8209\n"
          ],
          "name": "stdout"
        },
        {
          "output_type": "stream",
          "text": [
            "add /root/miniconda/lib/python3.6/site-packages to PYTHONPATH\n",
            "all packages is already installed\n"
          ],
          "name": "stderr"
        },
        {
          "output_type": "stream",
          "text": [
            "# conda environments:\n",
            "#\n",
            "base                  *  /root/miniconda\n",
            "\n"
          ],
          "name": "stdout"
        }
      ]
    },
    {
      "cell_type": "code",
      "metadata": {
        "id": "2uo2i6arBiMS",
        "colab_type": "code",
        "colab": {
          "base_uri": "https://localhost:8080/",
          "height": 188
        },
        "outputId": "d9d1d0ba-09c0-44ee-b315-84d87af40cf2"
      },
      "source": [
        "!pip install --pre deepchem\n",
        "import deepchem\n",
        "deepchem.__version__"
      ],
      "execution_count": 2,
      "outputs": [
        {
          "output_type": "stream",
          "text": [
            "Requirement already satisfied: deepchem in /usr/local/lib/python3.6/dist-packages (2.4.0rc1.dev20200805143219)\n",
            "Requirement already satisfied: scikit-learn in /usr/local/lib/python3.6/dist-packages (from deepchem) (0.22.2.post1)\n",
            "Requirement already satisfied: pandas in /usr/local/lib/python3.6/dist-packages (from deepchem) (1.0.5)\n",
            "Requirement already satisfied: joblib in /usr/local/lib/python3.6/dist-packages (from deepchem) (0.16.0)\n",
            "Requirement already satisfied: numpy in /usr/local/lib/python3.6/dist-packages (from deepchem) (1.18.5)\n",
            "Requirement already satisfied: scipy in /usr/local/lib/python3.6/dist-packages (from deepchem) (1.4.1)\n",
            "Requirement already satisfied: pytz>=2017.2 in /usr/local/lib/python3.6/dist-packages (from pandas->deepchem) (2018.9)\n",
            "Requirement already satisfied: python-dateutil>=2.6.1 in /usr/local/lib/python3.6/dist-packages (from pandas->deepchem) (2.8.1)\n",
            "Requirement already satisfied: six>=1.5 in /usr/local/lib/python3.6/dist-packages (from python-dateutil>=2.6.1->pandas->deepchem) (1.15.0)\n"
          ],
          "name": "stdout"
        },
        {
          "output_type": "execute_result",
          "data": {
            "application/vnd.google.colaboratory.intrinsic+json": {
              "type": "string"
            },
            "text/plain": [
              "'2.4.0-rc1.dev'"
            ]
          },
          "metadata": {
            "tags": []
          },
          "execution_count": 2
        }
      ]
    },
    {
      "cell_type": "markdown",
      "metadata": {
        "id": "6bm1iYbw2aoT",
        "colab_type": "text"
      },
      "source": [
        "Let's start by loading the data.  We will use the MUV dataset.  It includes 74,501 molecules in the training set, and 9313 molecules in the validation set, so it gives us plenty of SMILES strings to work with."
      ]
    },
    {
      "cell_type": "code",
      "metadata": {
        "id": "YnAnjl9d2aoU",
        "colab_type": "code",
        "colab": {}
      },
      "source": [
        "# import deepchem as dc\n",
        "# tasks, datasets, transformers = dc.molnet.load_muv()\n",
        "# train_dataset, valid_dataset, test_dataset = datasets\n",
        "# train_smiles = train_dataset.ids\n",
        "# valid_smiles = valid_dataset.ids"
      ],
      "execution_count": 3,
      "outputs": []
    },
    {
      "cell_type": "markdown",
      "metadata": {
        "id": "EslVHE2m2aoY",
        "colab_type": "text"
      },
      "source": [
        "We need to define the \"alphabet\" for our `SeqToSeq` model, the list of all tokens that can appear in sequences.  (It's also possible for input and output sequences to have different alphabets, but since we're training it as an autoencoder, they're identical in this case.)  Make a list of every character that appears in any training sequence."
      ]
    },
    {
      "cell_type": "code",
      "metadata": {
        "id": "nsE8e9xn2aoa",
        "colab_type": "code",
        "colab": {}
      },
      "source": [
        "# tokens = set()\n",
        "# for s in train_smiles:\n",
        "#   tokens = tokens.union(set(c for c in s))\n",
        "# tokens = sorted(list(tokens))"
      ],
      "execution_count": 4,
      "outputs": []
    },
    {
      "cell_type": "markdown",
      "metadata": {
        "id": "vgzyJ1-42aog",
        "colab_type": "text"
      },
      "source": [
        "Create the model and define the optimization method to use.  In this case, learning works much better if we gradually decrease the learning rate.  We use an `ExponentialDecay` to multiply the learning rate by 0.9 after each epoch."
      ]
    },
    {
      "cell_type": "code",
      "metadata": {
        "id": "NHKrymnM2aoh",
        "colab_type": "code",
        "colab": {}
      },
      "source": [
        "# from deepchem.models.optimizers import Adam, ExponentialDecay\n",
        "# max_length = max(len(s) for s in train_smiles)\n",
        "# batch_size = 100\n",
        "# batches_per_epoch = len(train_smiles)/batch_size\n",
        "# model = dc.models.SeqToSeq(tokens,\n",
        "#                            tokens,\n",
        "#                            max_length,\n",
        "#                            encoder_layers=2,\n",
        "#                            decoder_layers=2,\n",
        "#                            embedding_dimension=256,\n",
        "#                            model_dir='fingerprint',\n",
        "#                            batch_size=batch_size,\n",
        "#                            learning_rate=ExponentialDecay(0.004, 0.9, batches_per_epoch))"
      ],
      "execution_count": 5,
      "outputs": []
    },
    {
      "cell_type": "markdown",
      "metadata": {
        "id": "hSr7FkSW2aok",
        "colab_type": "text"
      },
      "source": [
        "Let's train it!  The input to `fit_sequences()` is a generator that produces input/output pairs.  On a good GPU, this should take a few hours or less."
      ]
    },
    {
      "cell_type": "code",
      "metadata": {
        "id": "NZ5l_g1E2aok",
        "colab_type": "code",
        "colab": {}
      },
      "source": [
        "# def generate_sequences(epochs):\n",
        "#   for i in range(epochs):\n",
        "#     for s in train_smiles:\n",
        "#       yield (s, s)\n",
        "\n",
        "# model.fit_sequences(generate_sequences(40))"
      ],
      "execution_count": 6,
      "outputs": []
    },
    {
      "cell_type": "markdown",
      "metadata": {
        "id": "_lxf1lmX2aoo",
        "colab_type": "text"
      },
      "source": [
        "Let's see how well it works as an autoencoder.  We'll run the first 500 molecules from the validation set through it, and see how many of them are exactly reproduced."
      ]
    },
    {
      "cell_type": "code",
      "metadata": {
        "id": "NXDBtIvn2aop",
        "colab_type": "code",
        "colab": {}
      },
      "source": [
        "# predicted = model.predict_from_sequences(valid_smiles[:500])\n",
        "# count = 0\n",
        "# for s,p in zip(valid_smiles[:500], predicted):\n",
        "#   if ''.join(p) == s:\n",
        "#     count += 1\n",
        "# print('reproduced', count, 'of 500 validation SMILES strings')"
      ],
      "execution_count": 7,
      "outputs": []
    },
    {
      "cell_type": "markdown",
      "metadata": {
        "id": "Rt9GLy502aou",
        "colab_type": "text"
      },
      "source": [
        "Now we'll trying using the encoder as a way to generate molecular fingerprints.  We compute the embedding vectors for all molecules in the training and validation datasets, and create new datasets that have those as their feature vectors.  The amount of data is small enough that we can just store everything in memory."
      ]
    },
    {
      "cell_type": "code",
      "metadata": {
        "id": "kdUfsbtZ2aov",
        "colab_type": "code",
        "colab": {}
      },
      "source": [
        "# train_embeddings = model.predict_embeddings(train_smiles)\n",
        "# train_embeddings_dataset = dc.data.NumpyDataset(train_embeddings,\n",
        "#                                                 train_dataset.y,\n",
        "#                                                 train_dataset.w,\n",
        "#                                                 train_dataset.ids)\n",
        "\n",
        "# valid_embeddings = model.predict_embeddings(valid_smiles)\n",
        "# valid_embeddings_dataset = dc.data.NumpyDataset(valid_embeddings,\n",
        "#                                                 valid_dataset.y,\n",
        "#                                                 valid_dataset.w,\n",
        "#                                                 valid_dataset.ids)"
      ],
      "execution_count": 8,
      "outputs": []
    },
    {
      "cell_type": "markdown",
      "metadata": {
        "id": "lVvfGr562aoz",
        "colab_type": "text"
      },
      "source": [
        "For classification, we'll use a simple fully connected network with one hidden layer."
      ]
    },
    {
      "cell_type": "code",
      "metadata": {
        "id": "tFmnnVNm2aoz",
        "colab_type": "code",
        "colab": {}
      },
      "source": [
        "# classifier = dc.models.MultitaskClassifier(n_tasks=len(tasks),\n",
        "#                                                       n_features=256,\n",
        "#                                                       layer_sizes=[512])\n",
        "# classifier.fit(train_embeddings_dataset, nb_epoch=10)"
      ],
      "execution_count": 9,
      "outputs": []
    },
    {
      "cell_type": "markdown",
      "metadata": {
        "id": "khdB2v7R2ao2",
        "colab_type": "text"
      },
      "source": [
        "Find out how well it worked.  Compute the ROC AUC for the training and validation datasets."
      ]
    },
    {
      "cell_type": "code",
      "metadata": {
        "id": "ZlilhPvm2ao2",
        "colab_type": "code",
        "colab": {}
      },
      "source": [
        "# import numpy as np\n",
        "# metric = dc.metrics.Metric(dc.metrics.roc_auc_score, np.mean, mode=\"classification\")\n",
        "# train_score = classifier.evaluate(train_embeddings_dataset, [metric], transformers)\n",
        "# valid_score = classifier.evaluate(valid_embeddings_dataset, [metric], transformers)\n",
        "# print('Training set ROC AUC:', train_score)\n",
        "# print('Validation set ROC AUC:', valid_score)"
      ],
      "execution_count": 10,
      "outputs": []
    },
    {
      "cell_type": "markdown",
      "metadata": {
        "id": "ixqbRXnW2ao6",
        "colab_type": "text"
      },
      "source": [
        "# Congratulations! Time to join the Community!\n",
        "\n",
        "Congratulations on completing this tutorial notebook! If you enjoyed working through the tutorial, and want to continue working with DeepChem, we encourage you to finish the rest of the tutorials in this series. You can also help the DeepChem community in the following ways:\n",
        "\n",
        "## Star DeepChem on [GitHub](https://github.com/deepchem/deepchem)\n",
        "This helps build awareness of the DeepChem project and the tools for open source drug discovery that we're trying to build.\n",
        "\n",
        "## Join the DeepChem Gitter\n",
        "The DeepChem [Gitter](https://gitter.im/deepchem/Lobby) hosts a number of scientists, developers, and enthusiasts interested in deep learning for the life sciences. Join the conversation!"
      ]
    }
  ]
}